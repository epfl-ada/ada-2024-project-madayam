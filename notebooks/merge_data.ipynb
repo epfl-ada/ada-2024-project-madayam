{
 "cells": [
  {
   "metadata": {},
   "cell_type": "markdown",
   "source": "# Merge Data"
  },
  {
   "metadata": {
    "ExecuteTime": {
     "end_time": "2024-11-14T20:26:22.938018Z",
     "start_time": "2024-11-14T20:26:22.934646Z"
    }
   },
   "cell_type": "code",
   "source": [
    "import pandas as pd\n",
    "\n",
    "data_path = '../data'\n",
    "summary_path = f'{data_path}/MovieSummaries'"
   ],
   "outputs": [],
   "execution_count": 1
  },
  {
   "metadata": {
    "ExecuteTime": {
     "end_time": "2024-11-14T20:26:23.298117Z",
     "start_time": "2024-11-14T20:26:22.945039Z"
    }
   },
   "cell_type": "code",
   "source": "cmu_df = pd.read_csv(f'{summary_path}/movie_metadata_wikidata.csv')",
   "outputs": [],
   "execution_count": 2
  },
  {
   "metadata": {
    "ExecuteTime": {
     "end_time": "2024-11-14T20:26:23.432519Z",
     "start_time": "2024-11-14T20:26:23.413389Z"
    }
   },
   "cell_type": "code",
   "source": "cmu_df.head()",
   "outputs": [
    {
     "data": {
      "text/plain": [
       "   Wikipedia_movie_ID Freebase_movie_ID  \\\n",
       "0              975900         /m/03vyhn   \n",
       "1             3196793         /m/08yl5d   \n",
       "2            28463795        /m/0crgdbh   \n",
       "3             9363483        /m/0285_cd   \n",
       "4              261236         /m/01mrr1   \n",
       "\n",
       "                                          movie_name  movie_year  \\\n",
       "0                                     Ghosts of Mars  2001-08-24   \n",
       "1  Getting Away with Murder: The JonBenét Ramsey ...  2000-02-16   \n",
       "2                                        Brun bitter        1988   \n",
       "3                                   White Of The Eye        1987   \n",
       "4                                  A Woman in Flames        1983   \n",
       "\n",
       "   movie_revenue  movie_runtime     movie_languages           movie_countries  \\\n",
       "0     14010832.0           98.0    English Language  United States of America   \n",
       "1            NaN           95.0    English Language  United States of America   \n",
       "2            NaN           83.0  Norwegian Language                    Norway   \n",
       "3            NaN          110.0    English Language            United Kingdom   \n",
       "4            NaN          106.0     German Language                   Germany   \n",
       "\n",
       "                                        movie_genres wikidata_id  \n",
       "0  Science Fiction, Space western, Horror, Supern...     Q261700  \n",
       "1     Crime Drama, Mystery, Biographical film, Drama   Q16250726  \n",
       "2                               Crime Fiction, Drama    Q4978832  \n",
       "3  Psychological thriller, Thriller, Erotic thriller    Q7995657  \n",
       "4                                              Drama     Q869644  "
      ],
      "text/html": [
       "<div>\n",
       "<style scoped>\n",
       "    .dataframe tbody tr th:only-of-type {\n",
       "        vertical-align: middle;\n",
       "    }\n",
       "\n",
       "    .dataframe tbody tr th {\n",
       "        vertical-align: top;\n",
       "    }\n",
       "\n",
       "    .dataframe thead th {\n",
       "        text-align: right;\n",
       "    }\n",
       "</style>\n",
       "<table border=\"1\" class=\"dataframe\">\n",
       "  <thead>\n",
       "    <tr style=\"text-align: right;\">\n",
       "      <th></th>\n",
       "      <th>Wikipedia_movie_ID</th>\n",
       "      <th>Freebase_movie_ID</th>\n",
       "      <th>movie_name</th>\n",
       "      <th>movie_year</th>\n",
       "      <th>movie_revenue</th>\n",
       "      <th>movie_runtime</th>\n",
       "      <th>movie_languages</th>\n",
       "      <th>movie_countries</th>\n",
       "      <th>movie_genres</th>\n",
       "      <th>wikidata_id</th>\n",
       "    </tr>\n",
       "  </thead>\n",
       "  <tbody>\n",
       "    <tr>\n",
       "      <th>0</th>\n",
       "      <td>975900</td>\n",
       "      <td>/m/03vyhn</td>\n",
       "      <td>Ghosts of Mars</td>\n",
       "      <td>2001-08-24</td>\n",
       "      <td>14010832.0</td>\n",
       "      <td>98.0</td>\n",
       "      <td>English Language</td>\n",
       "      <td>United States of America</td>\n",
       "      <td>Science Fiction, Space western, Horror, Supern...</td>\n",
       "      <td>Q261700</td>\n",
       "    </tr>\n",
       "    <tr>\n",
       "      <th>1</th>\n",
       "      <td>3196793</td>\n",
       "      <td>/m/08yl5d</td>\n",
       "      <td>Getting Away with Murder: The JonBenét Ramsey ...</td>\n",
       "      <td>2000-02-16</td>\n",
       "      <td>NaN</td>\n",
       "      <td>95.0</td>\n",
       "      <td>English Language</td>\n",
       "      <td>United States of America</td>\n",
       "      <td>Crime Drama, Mystery, Biographical film, Drama</td>\n",
       "      <td>Q16250726</td>\n",
       "    </tr>\n",
       "    <tr>\n",
       "      <th>2</th>\n",
       "      <td>28463795</td>\n",
       "      <td>/m/0crgdbh</td>\n",
       "      <td>Brun bitter</td>\n",
       "      <td>1988</td>\n",
       "      <td>NaN</td>\n",
       "      <td>83.0</td>\n",
       "      <td>Norwegian Language</td>\n",
       "      <td>Norway</td>\n",
       "      <td>Crime Fiction, Drama</td>\n",
       "      <td>Q4978832</td>\n",
       "    </tr>\n",
       "    <tr>\n",
       "      <th>3</th>\n",
       "      <td>9363483</td>\n",
       "      <td>/m/0285_cd</td>\n",
       "      <td>White Of The Eye</td>\n",
       "      <td>1987</td>\n",
       "      <td>NaN</td>\n",
       "      <td>110.0</td>\n",
       "      <td>English Language</td>\n",
       "      <td>United Kingdom</td>\n",
       "      <td>Psychological thriller, Thriller, Erotic thriller</td>\n",
       "      <td>Q7995657</td>\n",
       "    </tr>\n",
       "    <tr>\n",
       "      <th>4</th>\n",
       "      <td>261236</td>\n",
       "      <td>/m/01mrr1</td>\n",
       "      <td>A Woman in Flames</td>\n",
       "      <td>1983</td>\n",
       "      <td>NaN</td>\n",
       "      <td>106.0</td>\n",
       "      <td>German Language</td>\n",
       "      <td>Germany</td>\n",
       "      <td>Drama</td>\n",
       "      <td>Q869644</td>\n",
       "    </tr>\n",
       "  </tbody>\n",
       "</table>\n",
       "</div>"
      ]
     },
     "execution_count": 3,
     "metadata": {},
     "output_type": "execute_result"
    }
   ],
   "execution_count": 3
  },
  {
   "metadata": {
    "ExecuteTime": {
     "end_time": "2024-11-14T20:26:25.180918Z",
     "start_time": "2024-11-14T20:26:23.504605Z"
    }
   },
   "cell_type": "code",
   "source": [
    "cmu_df[\"cmu_year\"] = cmu_df[\"movie_year\"].apply(lambda x: str(x).split('-')[0])\n",
    "cmu_df[\"cmu_year\"] = cmu_df[\"cmu_year\"].apply(pd.to_numeric, errors='coerce')"
   ],
   "outputs": [],
   "execution_count": 4
  },
  {
   "metadata": {
    "ExecuteTime": {
     "end_time": "2024-11-14T20:26:38.260624Z",
     "start_time": "2024-11-14T20:26:25.235784Z"
    }
   },
   "cell_type": "code",
   "source": "tmdb_df = pd.read_csv(f'{data_path}/TMDB_movie_dataset_v12.csv') ",
   "outputs": [],
   "execution_count": 5
  },
  {
   "metadata": {
    "ExecuteTime": {
     "end_time": "2024-11-14T20:26:58.024980Z",
     "start_time": "2024-11-14T20:26:38.267935Z"
    }
   },
   "cell_type": "code",
   "source": [
    "tmdb_df['tmdb_year'] = tmdb_df['release_date'].apply(lambda x: str(x).split('-')[0])\n",
    "tmdb_df['tmdb_year'] = tmdb_df['tmdb_year'].apply(pd.to_numeric, errors='coerce')"
   ],
   "outputs": [],
   "execution_count": 6
  },
  {
   "metadata": {
    "ExecuteTime": {
     "end_time": "2024-11-14T20:26:58.289660Z",
     "start_time": "2024-11-14T20:26:58.048692Z"
    }
   },
   "cell_type": "code",
   "source": [
    "tmdb_df_out_nan = tmdb_df[tmdb_df['wikidata_id'].notnull()]\n",
    "tmdb_only_cmu_df = tmdb_df_out_nan[tmdb_df_out_nan['wikidata_id'].isin(cmu_df['wikidata_id'])]"
   ],
   "outputs": [],
   "execution_count": 7
  },
  {
   "metadata": {
    "ExecuteTime": {
     "end_time": "2024-11-14T20:26:58.534748Z",
     "start_time": "2024-11-14T20:26:58.333991Z"
    }
   },
   "cell_type": "code",
   "source": "merged_df = pd.merge(cmu_df, tmdb_only_cmu_df, on='wikidata_id', how='inner')",
   "outputs": [],
   "execution_count": 8
  },
  {
   "metadata": {
    "ExecuteTime": {
     "end_time": "2024-11-14T20:26:58.600522Z",
     "start_time": "2024-11-14T20:26:58.578216Z"
    }
   },
   "cell_type": "code",
   "source": "missing_cmu_df = cmu_df[~cmu_df['wikidata_id'].isin(merged_df['wikidata_id'])]",
   "outputs": [],
   "execution_count": 9
  },
  {
   "metadata": {
    "ExecuteTime": {
     "end_time": "2024-11-14T20:26:58.660767Z",
     "start_time": "2024-11-14T20:26:58.654183Z"
    }
   },
   "cell_type": "code",
   "source": "len(missing_cmu_df)",
   "outputs": [
    {
     "data": {
      "text/plain": [
       "10522"
      ]
     },
     "execution_count": 10,
     "metadata": {},
     "output_type": "execute_result"
    }
   ],
   "execution_count": 10
  },
  {
   "metadata": {
    "ExecuteTime": {
     "end_time": "2024-11-14T20:26:59.321585Z",
     "start_time": "2024-11-14T20:26:58.732254Z"
    }
   },
   "cell_type": "code",
   "source": [
    "# merge missing cmu data with tmdb data on title and year\n",
    "\n",
    "merged_missing_df = pd.merge(missing_cmu_df, tmdb_df, left_on=[\"movie_name\", \"cmu_year\"], right_on=[\"title\", \"tmdb_year\"], how='left')"
   ],
   "outputs": [],
   "execution_count": 11
  },
  {
   "metadata": {
    "ExecuteTime": {
     "end_time": "2024-11-14T20:26:59.391981Z",
     "start_time": "2024-11-14T20:26:59.380532Z"
    }
   },
   "cell_type": "code",
   "source": "merged_missing_df = merged_missing_df[~merged_missing_df[\"cmu_year\"].isna()]",
   "outputs": [],
   "execution_count": 12
  },
  {
   "metadata": {
    "ExecuteTime": {
     "end_time": "2024-11-14T20:26:59.523636Z",
     "start_time": "2024-11-14T20:26:59.454123Z"
    }
   },
   "cell_type": "code",
   "source": "merged_df = pd.concat([merged_df, merged_missing_df])",
   "outputs": [],
   "execution_count": 13
  },
  {
   "metadata": {
    "ExecuteTime": {
     "end_time": "2024-11-14T20:26:59.592105Z",
     "start_time": "2024-11-14T20:26:59.584410Z"
    }
   },
   "cell_type": "code",
   "source": [
    "filter_mask = merged_df['cmu_year'].isna()\n",
    "merged_df.loc[filter_mask,'cmu_year'] = merged_df['tmdb_year'][filter_mask]"
   ],
   "outputs": [],
   "execution_count": 14
  },
  {
   "metadata": {
    "ExecuteTime": {
     "end_time": "2024-11-14T20:26:59.719369Z",
     "start_time": "2024-11-14T20:26:59.653281Z"
    }
   },
   "cell_type": "code",
   "source": "merged_df.drop(columns=['release_date', 'movie_year', 'tmdb_year'], inplace=True)",
   "outputs": [],
   "execution_count": 15
  },
  {
   "metadata": {
    "ExecuteTime": {
     "end_time": "2024-11-14T20:26:59.784918Z",
     "start_time": "2024-11-14T20:26:59.776609Z"
    }
   },
   "cell_type": "code",
   "source": [
    "filter_mask = merged_df['movie_revenue'].isna()\n",
    "merged_df.loc[filter_mask,'movie_revenue'] = merged_df['revenue'][filter_mask]"
   ],
   "outputs": [],
   "execution_count": 16
  },
  {
   "metadata": {
    "ExecuteTime": {
     "end_time": "2024-11-14T20:26:59.924003Z",
     "start_time": "2024-11-14T20:26:59.848566Z"
    }
   },
   "cell_type": "code",
   "source": "merged_df.drop(columns=['revenue'], inplace=True)",
   "outputs": [],
   "execution_count": 17
  },
  {
   "metadata": {
    "ExecuteTime": {
     "end_time": "2024-11-14T20:26:59.995696Z",
     "start_time": "2024-11-14T20:26:59.986597Z"
    }
   },
   "cell_type": "code",
   "source": [
    "filter_mask = merged_df['movie_runtime'].isna()\n",
    "merged_df.loc[filter_mask,'movie_runtime'] = merged_df['runtime'][filter_mask]"
   ],
   "outputs": [],
   "execution_count": 18
  },
  {
   "metadata": {
    "ExecuteTime": {
     "end_time": "2024-11-14T20:27:00.126013Z",
     "start_time": "2024-11-14T20:27:00.062410Z"
    }
   },
   "cell_type": "code",
   "source": "merged_df.drop(columns=['runtime'], inplace=True)",
   "outputs": [],
   "execution_count": 19
  },
  {
   "metadata": {
    "ExecuteTime": {
     "end_time": "2024-11-14T20:27:00.202902Z",
     "start_time": "2024-11-14T20:27:00.194616Z"
    }
   },
   "cell_type": "code",
   "source": [
    "merged_df.loc[merged_df['movie_revenue'] == 0, 'movie_revenue'] = None\n",
    "merged_df.loc[merged_df['movie_runtime'] == 0, 'movie_runtime'] = None"
   ],
   "outputs": [],
   "execution_count": 20
  },
  {
   "metadata": {
    "ExecuteTime": {
     "end_time": "2024-11-14T20:27:00.319805Z",
     "start_time": "2024-11-14T20:27:00.270085Z"
    }
   },
   "cell_type": "code",
   "source": "merged_df.drop(columns=['spoken_languages', 'production_companies', 'movie_languages', 'status', 'backdrop_path', 'homepage', 'original_title', 'poster_path', 'tagline'], inplace=True)",
   "outputs": [],
   "execution_count": 21
  },
  {
   "metadata": {
    "ExecuteTime": {
     "end_time": "2024-11-14T20:30:42.153023Z",
     "start_time": "2024-11-14T20:30:42.140275Z"
    }
   },
   "cell_type": "code",
   "source": [
    "filter_mask = merged_df['movie_countries'].isna()\n",
    "merged_df.loc[filter_mask,'movie_countries'] = merged_df['production_countries'][filter_mask]"
   ],
   "outputs": [],
   "execution_count": 23
  },
  {
   "metadata": {
    "ExecuteTime": {
     "end_time": "2024-11-14T20:30:52.304982Z",
     "start_time": "2024-11-14T20:30:52.224624Z"
    }
   },
   "cell_type": "code",
   "source": "merged_df.drop(columns=['production_countries'], inplace=True)",
   "outputs": [],
   "execution_count": 24
  },
  {
   "metadata": {
    "ExecuteTime": {
     "end_time": "2024-11-14T20:34:28.131262Z",
     "start_time": "2024-11-14T20:34:28.119438Z"
    }
   },
   "cell_type": "code",
   "source": [
    "filter_mask = merged_df['movie_genres'].isna()\n",
    "merged_df.loc[filter_mask,'movie_genres'] = merged_df['genres'][filter_mask]"
   ],
   "outputs": [],
   "execution_count": 28
  },
  {
   "metadata": {
    "ExecuteTime": {
     "end_time": "2024-11-14T20:34:29.967985Z",
     "start_time": "2024-11-14T20:34:29.928604Z"
    }
   },
   "cell_type": "code",
   "source": "merged_df.drop(columns=['genres'], inplace=True)",
   "outputs": [],
   "execution_count": 29
  },
  {
   "metadata": {
    "ExecuteTime": {
     "end_time": "2024-11-14T20:36:04.176487Z",
     "start_time": "2024-11-14T20:36:04.097509Z"
    }
   },
   "cell_type": "code",
   "source": [
    "merged_df.drop(columns=['wikidata_id_y'], inplace=True)\n",
    "merged_df.rename(columns={'wikidata_id_x': 'wikidata_id'}, inplace=True)"
   ],
   "outputs": [],
   "execution_count": 31
  },
  {
   "metadata": {
    "ExecuteTime": {
     "end_time": "2024-11-14T20:36:33.025502Z",
     "start_time": "2024-11-14T20:36:33.020886Z"
    }
   },
   "cell_type": "code",
   "source": "merged_df.rename(columns={'id': 'tmdb_id'}, inplace=True)",
   "outputs": [],
   "execution_count": 33
  },
  {
   "metadata": {
    "ExecuteTime": {
     "end_time": "2024-11-14T20:45:56.211128Z",
     "start_time": "2024-11-14T20:45:56.192404Z"
    }
   },
   "cell_type": "code",
   "source": [
    "merged_df.loc[merged_df['vote_average'] == 0 , 'vote_average']  = None\n",
    "merged_df.loc[merged_df['vote_count'] == 0 , 'vote_count']  = None\n",
    "merged_df.loc[merged_df['budget'] == 0 , 'budget']  = None\n",
    "merged_df.loc[merged_df['popularity'] == 0 , 'popularity']  = None\n"
   ],
   "outputs": [],
   "execution_count": 38
  },
  {
   "metadata": {
    "ExecuteTime": {
     "end_time": "2024-11-14T20:51:53.528821Z",
     "start_time": "2024-11-14T20:51:50.957588Z"
    }
   },
   "cell_type": "code",
   "source": "merged_df.to_csv(f'{data_path}/enrich_movie_data.csv', index=False)",
   "outputs": [],
   "execution_count": 40
  }
 ],
 "metadata": {
  "kernelspec": {
   "display_name": "Python 3",
   "language": "python",
   "name": "python3"
  },
  "language_info": {
   "codemirror_mode": {
    "name": "ipython",
    "version": 3
   },
   "file_extension": ".py",
   "mimetype": "text/x-python",
   "name": "python",
   "nbconvert_exporter": "python",
   "pygments_lexer": "ipython3",
   "version": "3.9.6"
  }
 },
 "nbformat": 4,
 "nbformat_minor": 2
}
