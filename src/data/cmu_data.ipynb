{
 "cells": [
  {
   "metadata": {},
   "cell_type": "markdown",
   "source": "## CMU Movie Data Loading",
   "id": "253256da5d912595"
  },
  {
   "metadata": {},
   "cell_type": "markdown",
   "source": "### Imports:",
   "id": "71cac758684768c1"
  },
  {
   "metadata": {
    "ExecuteTime": {
     "end_time": "2024-11-14T16:16:12.037405Z",
     "start_time": "2024-11-14T16:16:12.028075Z"
    }
   },
   "cell_type": "code",
   "source": [
    "import pandas as pd\n",
    "from wikimapper import WikiMapper\n",
    "import re\n",
    "import csv"
   ],
   "id": "a9998b9f902f4304",
   "outputs": [],
   "execution_count": 1
  },
  {
   "metadata": {},
   "cell_type": "markdown",
   "source": "### Load CMU Movie Data:",
   "id": "3a06e2c650b60632"
  },
  {
   "metadata": {
    "collapsed": true,
    "ExecuteTime": {
     "end_time": "2024-11-14T16:16:12.056488Z",
     "start_time": "2024-11-14T16:16:12.046847Z"
    }
   },
   "cell_type": "code",
   "source": [
    "meta_data_path = '../data/MovieSummaries/movie.metadata.tsv'\n",
    "column_names = ['Wikipedia_movie_ID', 'Freebase_movie_ID', 'movie_name', 'movie_year', 'movie_revenue', 'movie_runtime',\n",
    "                'movie_languages', 'movie_countries', 'movie_genres']"
   ],
   "id": "initial_id",
   "outputs": [],
   "execution_count": 2
  },
  {
   "metadata": {
    "ExecuteTime": {
     "end_time": "2024-11-14T16:16:12.532032Z",
     "start_time": "2024-11-14T16:16:12.156582Z"
    }
   },
   "cell_type": "code",
   "source": "meta_df = pd.read_csv(meta_data_path, sep='\\t', header=None, names=column_names)",
   "id": "75389600fd4b2bd9",
   "outputs": [],
   "execution_count": 3
  },
  {
   "metadata": {},
   "cell_type": "markdown",
   "source": "### Add Wikidata IDs to the CMU Movie Data:",
   "id": "1308e6082f447923"
  },
  {
   "metadata": {
    "ExecuteTime": {
     "end_time": "2024-11-14T16:16:12.564687Z",
     "start_time": "2024-11-14T16:16:12.550924Z"
    }
   },
   "cell_type": "code",
   "source": [
    "wiki_ids = meta_df['Wikipedia_movie_ID'].unique().tolist()\n",
    "mapper = WikiMapper(\"index_enwiki-20190420.db\")"
   ],
   "id": "15b1ebcd1cffae47",
   "outputs": [],
   "execution_count": 4
  },
  {
   "metadata": {
    "ExecuteTime": {
     "end_time": "2024-11-14T16:16:15.228791Z",
     "start_time": "2024-11-14T16:16:12.583796Z"
    }
   },
   "cell_type": "code",
   "source": [
    "def convert_wikipedia_id_to_wikidata_id(id_):\n",
    "    wikidata_id = mapper.wikipedia_id_to_id(id_)\n",
    "    return wikidata_id\n",
    "\n",
    "meta_df['wikidata_id'] = meta_df['Wikipedia_movie_ID'].apply(convert_wikipedia_id_to_wikidata_id)"
   ],
   "id": "87dc4dd33da258d6",
   "outputs": [],
   "execution_count": 5
  },
  {
   "metadata": {},
   "cell_type": "markdown",
   "source": "### Add plot summaries to the CMU Movie Data:",
   "id": "23d5142119cf8e7"
  },
  {
   "metadata": {
    "ExecuteTime": {
     "end_time": "2024-11-14T16:23:29.661941Z",
     "start_time": "2024-11-14T16:23:25.955895Z"
    }
   },
   "cell_type": "code",
   "source": [
    "movie_data_path = '../data/MovieSummaries'\n",
    "\n",
    "def convert_txt_to_csv(input_file_path, output_file_path):\n",
    "    \"\"\"\n",
    "    Converts a text file to a CSV file with two columns: movie_id and movie_summary.\n",
    "    The input file should have each line with movie_id and movie_summary separated by a tab or space.\n",
    "    \n",
    "    Parameters:\n",
    "    - input_file_path: Path to the input text file.\n",
    "    - output_file_path: Path where the output CSV file will be saved.\n",
    "    \"\"\"\n",
    "    # Open the input and output files\n",
    "    with open(input_file_path, 'r', encoding='utf-8') as fin, \\\n",
    "            open(output_file_path, 'w', newline='', encoding='utf-8') as fout:\n",
    "\n",
    "        # Initialize CSV writer\n",
    "        writer = csv.writer(fout)\n",
    "\n",
    "        # Write the header\n",
    "        writer.writerow(['Wikipedia_movie_ID', 'movie_summary'])\n",
    "\n",
    "        # Process each line in the input file\n",
    "        for line_number, line in enumerate(fin, start=1):\n",
    "            # Strip leading/trailing whitespace\n",
    "            line = line.strip()\n",
    "\n",
    "            # Skip empty lines\n",
    "            if not line:\n",
    "                print(f\"Skipping empty line at line number {line_number}.\")\n",
    "                continue\n",
    "\n",
    "            # Use regex to split on the first occurrence of tab or space\n",
    "            # This ensures that the summary can contain spaces or tabs\n",
    "            split_result = re.split(r'\\t| ', line, maxsplit=1)\n",
    "\n",
    "            if len(split_result) == 2:\n",
    "                movie_id, movie_summary = split_result\n",
    "            elif len(split_result) == 1:\n",
    "                # Only movie_id is present, no summary\n",
    "                movie_id = split_result[0]\n",
    "                movie_summary = ''\n",
    "                print(f\"No summary found for movie_id '{movie_id}' at line number {line_number}.\")\n",
    "            else:\n",
    "                # Unexpected format\n",
    "                movie_id = ''\n",
    "                movie_summary = ''\n",
    "                print(f\"Unexpected format at line number {line_number}: '{line}'\")\n",
    "\n",
    "            # Write the row to CSV\n",
    "            writer.writerow([movie_id, movie_summary])\n",
    "\n",
    "\n",
    "convert_txt_to_csv(f'{movie_data_path}/plot_summaries.txt', f'{movie_data_path}/plot_summaries.csv')"
   ],
   "id": "d6793fb77d820ee1",
   "outputs": [],
   "execution_count": 7
  }
 ],
 "metadata": {
  "kernelspec": {
   "display_name": "Python 3",
   "language": "python",
   "name": "python3"
  },
  "language_info": {
   "codemirror_mode": {
    "name": "ipython",
    "version": 2
   },
   "file_extension": ".py",
   "mimetype": "text/x-python",
   "name": "python",
   "nbconvert_exporter": "python",
   "pygments_lexer": "ipython2",
   "version": "2.7.6"
  }
 },
 "nbformat": 4,
 "nbformat_minor": 5
}
