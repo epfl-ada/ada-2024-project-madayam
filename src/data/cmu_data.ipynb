{
 "cells": [
  {
   "cell_type": "markdown",
   "id": "253256da5d912595",
   "metadata": {},
   "source": [
    "# CMU Movie Data Loading"
   ]
  },
  {
   "cell_type": "markdown",
   "id": "71cac758684768c1",
   "metadata": {},
   "source": [
    "## Imports"
   ]
  },
  {
   "cell_type": "code",
   "execution_count": 1,
   "id": "a9998b9f902f4304",
   "metadata": {
    "ExecuteTime": {
     "end_time": "2024-11-14T16:16:12.037405Z",
     "start_time": "2024-11-14T16:16:12.028075Z"
    }
   },
   "outputs": [],
   "source": [
    "import pandas as pd\n",
    "from wikimapper import WikiMapper\n",
    "import re\n",
    "import csv\n",
    "import json\n",
    "import ast\n",
    "import numpy as np\n",
    "\n",
    "from ada_config.config import CONFIG"
   ]
  },
  {
   "cell_type": "markdown",
   "id": "3a06e2c650b60632",
   "metadata": {},
   "source": [
    "## Load CMU Movie Data:"
   ]
  },
  {
   "cell_type": "code",
   "execution_count": 2,
   "id": "initial_id",
   "metadata": {
    "ExecuteTime": {
     "end_time": "2024-11-14T16:16:12.056488Z",
     "start_time": "2024-11-14T16:16:12.046847Z"
    },
    "collapsed": true
   },
   "outputs": [],
   "source": [
    "meta_data_path = CONFIG[\"cmu_path\"] / \"movie.metadata.tsv\"\n",
    "column_names = [\n",
    "    \"Wikipedia_movie_ID\",\n",
    "    \"Freebase_movie_ID\",\n",
    "    \"movie_name\",\n",
    "    \"movie_year\",\n",
    "    \"movie_revenue\",\n",
    "    \"movie_runtime\",\n",
    "    \"movie_languages\",\n",
    "    \"movie_countries\",\n",
    "    \"movie_genres\",\n",
    "]"
   ]
  },
  {
   "cell_type": "code",
   "execution_count": 3,
   "id": "75389600fd4b2bd9",
   "metadata": {
    "ExecuteTime": {
     "end_time": "2024-11-14T16:16:12.532032Z",
     "start_time": "2024-11-14T16:16:12.156582Z"
    }
   },
   "outputs": [],
   "source": [
    "meta_df = pd.read_csv(meta_data_path, sep=\"\\t\", header=None, names=column_names)"
   ]
  },
  {
   "cell_type": "code",
   "execution_count": 4,
   "id": "f32b3273",
   "metadata": {},
   "outputs": [
    {
     "data": {
      "text/html": [
       "<div>\n",
       "<style scoped>\n",
       "    .dataframe tbody tr th:only-of-type {\n",
       "        vertical-align: middle;\n",
       "    }\n",
       "\n",
       "    .dataframe tbody tr th {\n",
       "        vertical-align: top;\n",
       "    }\n",
       "\n",
       "    .dataframe thead th {\n",
       "        text-align: right;\n",
       "    }\n",
       "</style>\n",
       "<table border=\"1\" class=\"dataframe\">\n",
       "  <thead>\n",
       "    <tr style=\"text-align: right;\">\n",
       "      <th></th>\n",
       "      <th>Wikipedia_movie_ID</th>\n",
       "      <th>Freebase_movie_ID</th>\n",
       "      <th>movie_name</th>\n",
       "      <th>movie_year</th>\n",
       "      <th>movie_revenue</th>\n",
       "      <th>movie_runtime</th>\n",
       "      <th>movie_languages</th>\n",
       "      <th>movie_countries</th>\n",
       "      <th>movie_genres</th>\n",
       "    </tr>\n",
       "  </thead>\n",
       "  <tbody>\n",
       "    <tr>\n",
       "      <th>0</th>\n",
       "      <td>975900</td>\n",
       "      <td>/m/03vyhn</td>\n",
       "      <td>Ghosts of Mars</td>\n",
       "      <td>2001-08-24</td>\n",
       "      <td>14010832.0</td>\n",
       "      <td>98.0</td>\n",
       "      <td>{\"/m/02h40lc\": \"English Language\"}</td>\n",
       "      <td>{\"/m/09c7w0\": \"United States of America\"}</td>\n",
       "      <td>{\"/m/01jfsb\": \"Thriller\", \"/m/06n90\": \"Science...</td>\n",
       "    </tr>\n",
       "    <tr>\n",
       "      <th>1</th>\n",
       "      <td>3196793</td>\n",
       "      <td>/m/08yl5d</td>\n",
       "      <td>Getting Away with Murder: The JonBenét Ramsey ...</td>\n",
       "      <td>2000-02-16</td>\n",
       "      <td>NaN</td>\n",
       "      <td>95.0</td>\n",
       "      <td>{\"/m/02h40lc\": \"English Language\"}</td>\n",
       "      <td>{\"/m/09c7w0\": \"United States of America\"}</td>\n",
       "      <td>{\"/m/02n4kr\": \"Mystery\", \"/m/03bxz7\": \"Biograp...</td>\n",
       "    </tr>\n",
       "    <tr>\n",
       "      <th>2</th>\n",
       "      <td>28463795</td>\n",
       "      <td>/m/0crgdbh</td>\n",
       "      <td>Brun bitter</td>\n",
       "      <td>1988</td>\n",
       "      <td>NaN</td>\n",
       "      <td>83.0</td>\n",
       "      <td>{\"/m/05f_3\": \"Norwegian Language\"}</td>\n",
       "      <td>{\"/m/05b4w\": \"Norway\"}</td>\n",
       "      <td>{\"/m/0lsxr\": \"Crime Fiction\", \"/m/07s9rl0\": \"D...</td>\n",
       "    </tr>\n",
       "    <tr>\n",
       "      <th>3</th>\n",
       "      <td>9363483</td>\n",
       "      <td>/m/0285_cd</td>\n",
       "      <td>White Of The Eye</td>\n",
       "      <td>1987</td>\n",
       "      <td>NaN</td>\n",
       "      <td>110.0</td>\n",
       "      <td>{\"/m/02h40lc\": \"English Language\"}</td>\n",
       "      <td>{\"/m/07ssc\": \"United Kingdom\"}</td>\n",
       "      <td>{\"/m/01jfsb\": \"Thriller\", \"/m/0glj9q\": \"Erotic...</td>\n",
       "    </tr>\n",
       "    <tr>\n",
       "      <th>4</th>\n",
       "      <td>261236</td>\n",
       "      <td>/m/01mrr1</td>\n",
       "      <td>A Woman in Flames</td>\n",
       "      <td>1983</td>\n",
       "      <td>NaN</td>\n",
       "      <td>106.0</td>\n",
       "      <td>{\"/m/04306rv\": \"German Language\"}</td>\n",
       "      <td>{\"/m/0345h\": \"Germany\"}</td>\n",
       "      <td>{\"/m/07s9rl0\": \"Drama\"}</td>\n",
       "    </tr>\n",
       "  </tbody>\n",
       "</table>\n",
       "</div>"
      ],
      "text/plain": [
       "   Wikipedia_movie_ID Freebase_movie_ID  \\\n",
       "0              975900         /m/03vyhn   \n",
       "1             3196793         /m/08yl5d   \n",
       "2            28463795        /m/0crgdbh   \n",
       "3             9363483        /m/0285_cd   \n",
       "4              261236         /m/01mrr1   \n",
       "\n",
       "                                          movie_name  movie_year  \\\n",
       "0                                     Ghosts of Mars  2001-08-24   \n",
       "1  Getting Away with Murder: The JonBenét Ramsey ...  2000-02-16   \n",
       "2                                        Brun bitter        1988   \n",
       "3                                   White Of The Eye        1987   \n",
       "4                                  A Woman in Flames        1983   \n",
       "\n",
       "   movie_revenue  movie_runtime                     movie_languages  \\\n",
       "0     14010832.0           98.0  {\"/m/02h40lc\": \"English Language\"}   \n",
       "1            NaN           95.0  {\"/m/02h40lc\": \"English Language\"}   \n",
       "2            NaN           83.0  {\"/m/05f_3\": \"Norwegian Language\"}   \n",
       "3            NaN          110.0  {\"/m/02h40lc\": \"English Language\"}   \n",
       "4            NaN          106.0   {\"/m/04306rv\": \"German Language\"}   \n",
       "\n",
       "                             movie_countries  \\\n",
       "0  {\"/m/09c7w0\": \"United States of America\"}   \n",
       "1  {\"/m/09c7w0\": \"United States of America\"}   \n",
       "2                     {\"/m/05b4w\": \"Norway\"}   \n",
       "3             {\"/m/07ssc\": \"United Kingdom\"}   \n",
       "4                    {\"/m/0345h\": \"Germany\"}   \n",
       "\n",
       "                                        movie_genres  \n",
       "0  {\"/m/01jfsb\": \"Thriller\", \"/m/06n90\": \"Science...  \n",
       "1  {\"/m/02n4kr\": \"Mystery\", \"/m/03bxz7\": \"Biograp...  \n",
       "2  {\"/m/0lsxr\": \"Crime Fiction\", \"/m/07s9rl0\": \"D...  \n",
       "3  {\"/m/01jfsb\": \"Thriller\", \"/m/0glj9q\": \"Erotic...  \n",
       "4                            {\"/m/07s9rl0\": \"Drama\"}  "
      ]
     },
     "execution_count": 4,
     "metadata": {},
     "output_type": "execute_result"
    }
   ],
   "source": [
    "meta_df.head()"
   ]
  },
  {
   "cell_type": "markdown",
   "id": "2b05d73b",
   "metadata": {},
   "source": [
    "## Remove the Inner Data Structures\n",
    "\n",
    "Processing the Language, Countries, Genres columns to have them in a cleaner way."
   ]
  },
  {
   "cell_type": "code",
   "execution_count": 5,
   "id": "232f2c855d173736",
   "metadata": {},
   "outputs": [],
   "source": [
    "def convert_string_to_dict(dict_str):\n",
    "    \"\"\"\n",
    "    Attempts to convert a string to a dictionary using json.loads.\n",
    "    If it fails, tries ast.literal_eval.\n",
    "    \"\"\"\n",
    "    try:\n",
    "        # First, try using json.loads\n",
    "        return json.loads(dict_str)\n",
    "    except json.JSONDecodeError:\n",
    "        try:\n",
    "            return ast.literal_eval(dict_str)\n",
    "        except (ValueError, SyntaxError) as e:\n",
    "            print(\"Failed to convert string to dictionary:\", e)\n",
    "            return None\n",
    "\n",
    "\n",
    "def map_codes_to_items(list_of_dicts):\n",
    "    \"\"\"\n",
    "    Maps a list of dictionaries to a list of items.\n",
    "    \"\"\"\n",
    "\n",
    "    map_codes_to_something = {}\n",
    "    for d in list_of_dicts:\n",
    "        for k, v in d.items():\n",
    "            map_codes_to_something[k] = v\n",
    "    map_codes_to_something[\"nan\"] = None\n",
    "    return map_codes_to_something"
   ]
  },
  {
   "cell_type": "code",
   "execution_count": 6,
   "id": "a6d9d28ccfe6ba34",
   "metadata": {},
   "outputs": [],
   "source": [
    "list_countries_codes = []\n",
    "for s in np.array(meta_df[\"movie_countries\"]):\n",
    "    list_countries_codes.append(convert_string_to_dict(s))\n",
    "list_countries = [tuple(sublist.values()) for sublist in list_countries_codes]"
   ]
  },
  {
   "cell_type": "code",
   "execution_count": 7,
   "id": "5a6ddcd822257212",
   "metadata": {},
   "outputs": [],
   "source": [
    "list_languages_codes = []\n",
    "for s in np.array(meta_df[\"movie_languages\"]):\n",
    "    list_languages_codes.append(convert_string_to_dict(s))\n",
    "list_languages = [set(sublist.values()) for sublist in list_languages_codes]\n",
    "\n",
    "list_genres_codes = []\n",
    "for s in np.array(meta_df[\"movie_genres\"]):\n",
    "    list_genres_codes.append(convert_string_to_dict(s))\n",
    "list_genres = [set(sublist.values()) for sublist in list_genres_codes]"
   ]
  },
  {
   "cell_type": "code",
   "execution_count": 8,
   "id": "2ebe8f623e405fe8",
   "metadata": {},
   "outputs": [],
   "source": [
    "countries = [\", \".join(map(str, t)) for t in list_countries]\n",
    "meta_df[\"movie_countries\"] = countries\n",
    "\n",
    "languages = pd.DataFrame(\n",
    "    [\n",
    "        \", \".join(list_languages) if list_languages else None\n",
    "        for list_languages in list_languages\n",
    "    ]\n",
    ")\n",
    "meta_df[\"movie_languages\"] = languages\n",
    "\n",
    "genres = pd.DataFrame([\", \".join(genres) if genres else None for genres in list_genres])\n",
    "meta_df[\"movie_genres\"] = genres"
   ]
  },
  {
   "cell_type": "markdown",
   "id": "56d8e880",
   "metadata": {},
   "source": [
    "Manual change of a movie with incorrect movie year."
   ]
  },
  {
   "cell_type": "code",
   "execution_count": 9,
   "id": "8fa90040713f969",
   "metadata": {},
   "outputs": [],
   "source": [
    "meta_df.loc[meta_df[\"movie_name\"] == \"Hunting Season\", \"movie_year\"] = \"2010-12-02\""
   ]
  },
  {
   "cell_type": "markdown",
   "id": "1308e6082f447923",
   "metadata": {},
   "source": [
    "## Add Wikidata IDs to the CMU Movie Data:"
   ]
  },
  {
   "cell_type": "code",
   "execution_count": 10,
   "id": "15b1ebcd1cffae47",
   "metadata": {
    "ExecuteTime": {
     "end_time": "2024-11-14T16:16:12.564687Z",
     "start_time": "2024-11-14T16:16:12.550924Z"
    }
   },
   "outputs": [],
   "source": [
    "wiki_ids = meta_df[\"Wikipedia_movie_ID\"].unique().tolist()\n",
    "mapper = WikiMapper(CONFIG[\"data_path\"] / \"index_enwiki-20190420.db\")"
   ]
  },
  {
   "cell_type": "code",
   "execution_count": 11,
   "id": "87dc4dd33da258d6",
   "metadata": {
    "ExecuteTime": {
     "end_time": "2024-11-14T16:16:15.228791Z",
     "start_time": "2024-11-14T16:16:12.583796Z"
    }
   },
   "outputs": [],
   "source": [
    "def convert_wikipedia_id_to_wikidata_id(id_):\n",
    "    wikidata_id = mapper.wikipedia_id_to_id(id_)\n",
    "    return wikidata_id\n",
    "\n",
    "\n",
    "meta_df[\"wikidata_id\"] = meta_df[\"Wikipedia_movie_ID\"].apply(\n",
    "    convert_wikipedia_id_to_wikidata_id\n",
    ")"
   ]
  },
  {
   "cell_type": "code",
   "execution_count": 12,
   "id": "ea8904f7",
   "metadata": {},
   "outputs": [],
   "source": [
    "meta_df.to_csv(CONFIG[\"cmu_path\"] / \"movie_metadata_wikidata.csv\", index=False)"
   ]
  },
  {
   "cell_type": "markdown",
   "id": "23d5142119cf8e7",
   "metadata": {},
   "source": [
    "## Add plot summaries to the CMU Movie Data:"
   ]
  },
  {
   "cell_type": "code",
   "execution_count": 13,
   "id": "d6793fb77d820ee1",
   "metadata": {
    "ExecuteTime": {
     "end_time": "2024-11-14T16:23:29.661941Z",
     "start_time": "2024-11-14T16:23:25.955895Z"
    }
   },
   "outputs": [],
   "source": [
    "def convert_txt_to_csv(input_file_path, output_file_path):\n",
    "    \"\"\"\n",
    "    Converts a text file to a CSV file with two columns: movie_id and movie_summary.\n",
    "    The input file should have each line with movie_id and movie_summary separated by a tab or space.\n",
    "\n",
    "    Parameters:\n",
    "    - input_file_path: Path to the input text file.\n",
    "    - output_file_path: Path where the output CSV file will be saved.\n",
    "    \"\"\"\n",
    "    with open(input_file_path, \"r\", encoding=\"utf-8\") as fin, open(\n",
    "        output_file_path, \"w\", newline=\"\", encoding=\"utf-8\"\n",
    "    ) as fout:\n",
    "        writer = csv.writer(fout)\n",
    "        writer.writerow([\"Wikipedia_movie_ID\", \"movie_summary\"])\n",
    "        for line_number, line in enumerate(fin, start=1):\n",
    "            line = line.strip()\n",
    "\n",
    "            if not line:\n",
    "                print(f\"Skipping empty line at line number {line_number}.\")\n",
    "                continue\n",
    "\n",
    "            split_result = re.split(r\"\\t| \", line, maxsplit=1)\n",
    "\n",
    "            if len(split_result) == 2:\n",
    "                movie_id, movie_summary = split_result\n",
    "            elif len(split_result) == 1:\n",
    "                movie_id = split_result[0]\n",
    "                movie_summary = \"\"\n",
    "                print(\n",
    "                    f\"No summary found for movie_id '{movie_id}' at line number {line_number}.\"\n",
    "                )\n",
    "            else:\n",
    "                movie_id = \"\"\n",
    "                movie_summary = \"\"\n",
    "                print(f\"Unexpected format at line number {line_number}: '{line}'\")\n",
    "\n",
    "            writer.writerow([movie_id, movie_summary])\n",
    "\n",
    "\n",
    "convert_txt_to_csv(\n",
    "    CONFIG[\"cmu_path\"] / \"plot_summaries.txt\", CONFIG[\"cmu_path\"] / \"plot_summaries.csv\"\n",
    ")"
   ]
  },
  {
   "cell_type": "markdown",
   "id": "04e99878",
   "metadata": {},
   "source": [
    "## Characters meta data"
   ]
  },
  {
   "cell_type": "code",
   "execution_count": 14,
   "id": "e875be09",
   "metadata": {},
   "outputs": [],
   "source": [
    "column_names_char = [\n",
    "    \"Wikipedia_movie_ID\",\n",
    "    \"Freebase_movie\",\n",
    "    \"movie_release_date\",\n",
    "    \"character_name\",\n",
    "    \"actor_DOB\",\n",
    "    \"gender\",\n",
    "    \"height\",\n",
    "    \"ethnicity\",\n",
    "    \"actor_name\",\n",
    "    \"actor_age\",\n",
    "    \"freebase_map\",\n",
    "    \"1\",\n",
    "    \"2\",\n",
    "]\n",
    "tsv_file_char = CONFIG[\"cmu_path\"] / \"character.metadata.tsv\"\n",
    "df_chars = pd.read_table(tsv_file_char, sep=\"\\t\", names=column_names_char)\n",
    "df_chars.to_csv(CONFIG[\"cmu_path\"] / \"character_metadata.csv\", index=False)"
   ]
  }
 ],
 "metadata": {
  "kernelspec": {
   "display_name": "Python 3",
   "language": "python",
   "name": "python3"
  },
  "language_info": {
   "codemirror_mode": {
    "name": "ipython",
    "version": 3
   },
   "file_extension": ".py",
   "mimetype": "text/x-python",
   "name": "python",
   "nbconvert_exporter": "python",
   "pygments_lexer": "ipython3",
   "version": "3.12.6"
  }
 },
 "nbformat": 4,
 "nbformat_minor": 5
}
