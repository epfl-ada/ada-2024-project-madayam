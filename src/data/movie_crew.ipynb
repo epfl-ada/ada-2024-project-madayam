{
 "cells": [
  {
   "metadata": {
    "ExecuteTime": {
     "end_time": "2024-12-08T16:48:30.496873Z",
     "start_time": "2024-12-08T16:48:30.334115Z"
    }
   },
   "cell_type": "code",
   "source": [
    "import pandas as pd\n",
    "\n",
    "from ada_config.config import CONFIG"
   ],
   "id": "edc8a31f9a40eea",
   "outputs": [],
   "execution_count": 19
  },
  {
   "metadata": {},
   "cell_type": "code",
   "outputs": [],
   "execution_count": null,
   "source": [
    "movie_data = pd.read_csv(CONFIG[\"data_path\"] / \"enrich_movie_data.csv\")\n",
    "movie_data.head()"
   ],
   "id": "c558f5e15cb667c0"
  },
  {
   "metadata": {},
   "cell_type": "code",
   "outputs": [],
   "execution_count": null,
   "source": [
    "from tqdm import tqdm\n",
    "import time\n",
    "import pandas as pd\n",
    "\n",
    "API_KEY = 'api_key'\n",
    "BASE_URL = 'https://api.themoviedb.org/3/movie/{movie_id}/credits'\n",
    "\n",
    "movie_ids = movie_data['tmdb_id'].dropna().astype(int).tolist()\n",
    "\n",
    "crew_cast_data = []\n",
    "\n",
    "# Batch size and rate limit configuration\n",
    "BATCH_SIZE = 100\n",
    "DELAY = 0.1\n",
    "\n",
    "def fetch_movie_credits(movie_id):\n",
    "    url = BASE_URL.format(movie_id=movie_id)\n",
    "    params = {'api_key': API_KEY}\n",
    "    response = requests.get(url, params=params)\n",
    "    if response.status_code == 200:\n",
    "        return response.json()\n",
    "    elif response.status_code == 429:\n",
    "        print(\"Rate limited. Waiting before retrying...\")\n",
    "        time.sleep(10)\n",
    "        return fetch_movie_credits(movie_id)\n",
    "    else:\n",
    "        print(f\"Failed to fetch data for movie ID {movie_id}.\")\n",
    "        return None\n",
    "\n",
    "last_index = 0\n",
    "try_num = 0\n",
    "for i in tqdm(range(last_index, len(movie_ids), BATCH_SIZE)):\n",
    "    batch_ids = movie_ids[i:i + BATCH_SIZE]\n",
    "    for movie_id in batch_ids:\n",
    "        data = fetch_movie_credits(movie_id)\n",
    "        if data:\n",
    "            crew_cast_data.append({\n",
    "                'movie_id': movie_id,\n",
    "                'cast': data.get('cast', []),\n",
    "                'crew': data.get('crew', [])\n",
    "            })\n",
    "    if i % (BATCH_SIZE * 50) == 0:\n",
    "        pd.DataFrame(crew_cast_data).to_csv(f'crew_cast_data{try_num}.csv', index=False)\n",
    "        print(f\"Saved batch {i // BATCH_SIZE + 1}\")\n",
    "    if i % (BATCH_SIZE * 10) == 0:\n",
    "        time.sleep(60)\n",
    "\n",
    "pd.DataFrame(crew_cast_data).to_csv(f'crew_cast_data{try_num}.csv', index=False)\n"
   ],
   "id": "31f354e93872e905"
  },
  {
   "metadata": {},
   "cell_type": "code",
   "outputs": [],
   "execution_count": null,
   "source": [
    "# merge data\n",
    "file_names = ['crew_cast_data.csv', 'crew_cast_data2.csv', 'crew_cast_data3.csv', 'crew_cast_data4.csv']\n",
    "crew_cast_data = pd.concat([pd.read_csv(file_name) for file_name in file_names], ignore_index=True)\n",
    "crew_cast_data.to_csv('crew_cast_data_final.csv', index=False)"
   ],
   "id": "84990ee7412bc46e"
  },
  {
   "metadata": {
    "ExecuteTime": {
     "end_time": "2024-12-08T16:49:08.338276Z",
     "start_time": "2024-12-08T16:48:55.277327Z"
    }
   },
   "cell_type": "code",
   "source": "crew_cast_data = pd.read_csv(CONFIG['tmdb_path'] / 'crew_cast_data_final.csv')",
   "id": "4a8bed8866bed2e1",
   "outputs": [],
   "execution_count": 21
  },
  {
   "metadata": {
    "ExecuteTime": {
     "end_time": "2024-12-08T17:45:45.933003Z",
     "start_time": "2024-12-08T17:44:06.364866Z"
    }
   },
   "cell_type": "code",
   "source": [
    "\n",
    "def get_stars(casts, k=5):\n",
    "    casts = eval(casts)\n",
    "    sort_popularity = sorted(casts, key=lambda x: x['popularity'], reverse=True)\n",
    "    return [sort_popularity[i]['popularity'] for i in range(min(k, len(sort_popularity)))] + [None] * (k - len(sort_popularity))\n",
    "\n",
    "crew_cast_data[['star_1', 'star_2', 'star_3', 'star_4', 'star_5']] = crew_cast_data['cast'].apply(get_stars, k=5).apply(pd.Series)"
   ],
   "id": "afb772d1d13a5895",
   "outputs": [],
   "execution_count": 36
  },
  {
   "metadata": {
    "ExecuteTime": {
     "end_time": "2024-12-08T17:55:25.102865Z",
     "start_time": "2024-12-08T17:53:51.072656Z"
    }
   },
   "cell_type": "code",
   "source": [
    "def get_best_crew(crew):\n",
    "    crew = eval(crew)\n",
    "    director = None\n",
    "    writer = None\n",
    "    producer = None\n",
    "    for member in crew:\n",
    "        if member['job'] == 'Director':\n",
    "            director = member['popularity']\n",
    "        elif member['job'] == 'Writer':\n",
    "            writer = member['popularity']\n",
    "        elif member['job'] == 'Producer':\n",
    "            producer = member['popularity']\n",
    "    return director, writer, producer\n",
    "\n",
    "crew_cast_data[['Director', 'Writer', 'Producer']] = crew_cast_data['crew'].apply(get_best_crew).apply(pd.Series)"
   ],
   "id": "7f2603731ad1d0ef",
   "outputs": [],
   "execution_count": 44
  },
  {
   "metadata": {
    "ExecuteTime": {
     "end_time": "2024-12-08T17:58:51.308672Z",
     "start_time": "2024-12-08T17:58:50.567926Z"
    }
   },
   "cell_type": "code",
   "source": [
    "crew_cast_data.drop(columns=['cast', 'crew'], inplace=True)\n",
    "crew_cast_data.to_csv(CONFIG['tmdb_path'] / 'crew_cast_best.csv', index=False)"
   ],
   "id": "9aa885348abfb779",
   "outputs": [],
   "execution_count": 49
  }
 ],
 "metadata": {
  "kernelspec": {
   "name": "python3",
   "language": "python",
   "display_name": "Python 3 (ipykernel)"
  }
 },
 "nbformat": 5,
 "nbformat_minor": 9
}
