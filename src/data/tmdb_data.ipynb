{
 "cells": [
  {
   "metadata": {},
   "cell_type": "markdown",
   "source": "## TMDB Data Loading",
   "id": "7c0f1ceeb9099800"
  },
  {
   "metadata": {},
   "cell_type": "markdown",
   "source": "### Imports:",
   "id": "1b26b08cf129f20c"
  },
  {
   "metadata": {
    "ExecuteTime": {
     "end_time": "2024-11-13T20:01:46.591324Z",
     "start_time": "2024-11-13T20:01:28.459701Z"
    }
   },
   "cell_type": "code",
   "outputs": [],
   "execution_count": 80,
   "source": [
    "import pandas as pd\n",
    "from time import sleep\n",
    "\n",
    "import requests\n",
    "from tqdm import tqdm\n",
    "tqdm.pandas()"
   ],
   "id": "fa1d1dbf52b95675"
  },
  {
   "metadata": {},
   "cell_type": "markdown",
   "source": "### Load TMDB Data:",
   "id": "375e67b463fcded9"
  },
  {
   "metadata": {},
   "cell_type": "code",
   "outputs": [],
   "execution_count": null,
   "source": "data_path = '../data'",
   "id": "c1d69a537443e051"
  },
  {
   "metadata": {},
   "cell_type": "code",
   "outputs": [],
   "execution_count": null,
   "source": [
    "tmdb_data = pd.read_csv(f'{data_path}/TMDB_movie_dataset_v11.csv')\n",
    "tmdb_data.head()"
   ],
   "id": "75d44cf250efb002"
  },
  {
   "metadata": {},
   "cell_type": "markdown",
   "source": "### Add Wikidata IDs to TMDB Data:",
   "id": "7581e320a7aa13e6"
  },
  {
   "metadata": {
    "ExecuteTime": {
     "end_time": "2024-11-14T15:03:21.629169Z",
     "start_time": "2024-11-14T14:47:19.715433Z"
    }
   },
   "cell_type": "code",
   "source": [
    "def get_wikidata_ids_batch(tmdb_ids, batch_size=512):\n",
    "    \"\"\"\n",
    "    Get Wikidata IDs for a batch of TMDb IDs.\n",
    "    :param tmdb_ids: list of TMDb IDs \n",
    "    :param batch_size: batch size for SPARQL queries\n",
    "    :return: dictionary of TMDb IDs to Wikidata IDs\n",
    "    \"\"\"\n",
    "    url = \"https://query.wikidata.org/sparql\"\n",
    "    headers = {\n",
    "        \"User-Agent\": \"BatchTMDbToWikidata/1.0 (your_email@example.com)\"\n",
    "    }\n",
    "    wikidata_ids = {}\n",
    "\n",
    "    # Break TMDb IDs into batches\n",
    "    for i in tqdm(range(0, len(tmdb_ids), batch_size)):\n",
    "        batch = tmdb_ids[i:i+batch_size]\n",
    "        values_clause = \" \".join(f'\"{tmdb_id}\"' for tmdb_id in batch)\n",
    "        \n",
    "        query = f\"\"\"\n",
    "        SELECT ?item ?tmdb_id WHERE {{\n",
    "          VALUES ?tmdb_id {{{values_clause}}}\n",
    "          ?item wdt:P4947 ?tmdb_id .\n",
    "        }}\n",
    "        \"\"\"\n",
    "\n",
    "        response = requests.get(url, params={'query': query, 'format': 'json'}, headers=headers)\n",
    "        \n",
    "        # Ensure we handle potential rate-limiting by waiting and retrying\n",
    "        if response.status_code == 429:  # Too Many Requests\n",
    "            print(\"Rate limited. Waiting before retrying...\")\n",
    "            sleep(5)  # Adjust this delay as needed\n",
    "            response = requests.get(url, params={'query': query, 'format': 'json'}, headers=headers)\n",
    "\n",
    "        data = response.json()\n",
    "        for result in data['results']['bindings']:\n",
    "            tmdb_id = result['tmdb_id']['value']\n",
    "            wikidata_id = result['item']['value'].split(\"/\")[-1]\n",
    "            wikidata_ids[tmdb_id] = wikidata_id\n",
    "\n",
    "        # # Optional delay to avoid rate-limiting\n",
    "        # sleep(0.1)\n",
    "\n",
    "    return wikidata_ids\n"
   ],
   "id": "3e94a0168a1cdee9",
   "outputs": [
    {
     "name": "stderr",
     "output_type": "stream",
     "text": [
      "100%|██████████| 2211/2211 [15:17<00:00,  2.41it/s]\n"
     ]
    }
   ],
   "execution_count": 101
  },
  {
   "metadata": {},
   "cell_type": "code",
   "outputs": [],
   "execution_count": null,
   "source": [
    "# Get Wikidata IDs for TMDb IDs\n",
    "tmdb_ids = tmdb_data['id'].tolist()\n",
    "wikidata_ids = get_wikidata_ids_batch(tmdb_ids)"
   ],
   "id": "ea66797f66664e9e"
  },
  {
   "metadata": {
    "ExecuteTime": {
     "end_time": "2024-11-14T15:07:10.697176Z",
     "start_time": "2024-11-14T15:07:10.567540Z"
    }
   },
   "cell_type": "code",
   "source": [
    "# Convert Wikidata IDs to integers so they match the TMDb IDs type\n",
    "wikidata_ids_copy = {int(k): v for k, v in wikidata_ids.items()}"
   ],
   "id": "1e2057eb810d59fd",
   "outputs": [],
   "execution_count": 108
  },
  {
   "metadata": {
    "ExecuteTime": {
     "end_time": "2024-11-14T15:08:18.104139Z",
     "start_time": "2024-11-14T15:07:52.998818Z"
    }
   },
   "cell_type": "code",
   "source": [
    "d# Add Wikidata IDs to TMDB data\n",
    "tmdb_data['wikidata_id'] = tmdb_data['id'].map(wikidata_ids_copy)\n",
    "tmdb_data.to_csv(f'{data_path}/TMDB_movie_dataset_v12.csv', index=False)"
   ],
   "id": "9e82cfac4b84d8d6",
   "outputs": [],
   "execution_count": 110
  }
 ],
 "metadata": {
  "kernelspec": {
   "display_name": "Python 3",
   "language": "python",
   "name": "python3"
  },
  "language_info": {
   "codemirror_mode": {
    "name": "ipython",
    "version": 2
   },
   "file_extension": ".py",
   "mimetype": "text/x-python",
   "name": "python",
   "nbconvert_exporter": "python",
   "pygments_lexer": "ipython2",
   "version": "2.7.6"
  }
 },
 "nbformat": 4,
 "nbformat_minor": 5
}
