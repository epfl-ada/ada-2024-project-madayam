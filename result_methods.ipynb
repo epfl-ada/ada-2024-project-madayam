{
 "cells": [
  {
   "cell_type": "markdown",
   "metadata": {},
   "source": [
    "# Movie remakes analysis"
   ]
  },
  {
   "cell_type": "code",
   "execution_count": 1,
   "metadata": {
    "ExecuteTime": {
     "end_time": "2024-11-15T21:33:31.002409Z",
     "start_time": "2024-11-15T21:33:30.995604Z"
    }
   },
   "outputs": [],
   "source": [
    "# import required libraries\n",
    "\n",
    "import pandas as pd\n",
    "import numpy as np\n",
    "import matplotlib.pyplot as plt\n",
    "%matplotlib inline\n",
    "import seaborn as sns\n",
    "\n",
    "import pickle as pkl\n",
    "import openai\n",
    "from scipy.stats import ttest_ind\n",
    "from scipy.stats import linregress\n",
    "\n",
    "from scipy.stats import kstest\n",
    "from scipy.stats import ks_2samp\n",
    "from sklearn.preprocessing import StandardScaler\n",
    "from sklearn.linear_model import LinearRegression\n",
    "from sklearn.metrics import mean_squared_error\n",
    "from scipy.stats import t\n",
    "\n",
    "\n",
    "import json\n",
    "from ada_config.config import CONFIG"
   ]
  },
  {
   "cell_type": "markdown",
   "metadata": {},
   "source": [
    "## Loading data"
   ]
  },
  {
   "cell_type": "code",
   "execution_count": 2,
   "metadata": {
    "ExecuteTime": {
     "end_time": "2024-11-15T21:33:36.351285Z",
     "start_time": "2024-11-15T21:33:31.060075Z"
    }
   },
   "outputs": [
    {
     "name": "stderr",
     "output_type": "stream",
     "text": [
      "C:\\Users\\Amirmahdi\\AppData\\Local\\Temp\\ipykernel_1192\\926998532.py:4: DtypeWarning: Columns (11) have mixed types. Specify dtype option on import or set low_memory=False.\n",
      "  df_movies = pd.read_csv(CONFIG[\"data_path\"] / \"MovieVerse.csv\")\n"
     ]
    }
   ],
   "source": [
    "# load movie metadata\n",
    "\n",
    "# Load movie metadata\n",
    "df_movies = pd.read_csv(CONFIG[\"data_path\"] / \"MovieVerse.csv\")\n",
    "\n",
    "# Load charachter metadata\n",
    "df_chars  = pd.read_csv(CONFIG[\"cmu_path\"] / \"character_metadata.csv\")\n",
    "\n",
    "# load movie remakes data\n",
    "movie_remakes_df = pd.read_csv(CONFIG[\"data_path\"] / 'remakes.csv')"
   ]
  },
  {
   "cell_type": "code",
   "execution_count": 30,
   "metadata": {},
   "outputs": [],
   "source": [
    "numerical_columns = [\"runtime\", \"star_1_popularity\", \"star_2_popularity\", \"star_3_popularity\",\n",
    "                     \"star_4_popularity\", \"star_5_popularity\", \"Director_popularity\", \"Writer_popularity\"\n",
    "                     , \"Producer_popularity\", \"vote_average\", \"vote_count\", \"adjusted_revenue\", \"adjusted_budget\", \"sentiment_score\"]"
   ]
  },
  {
   "cell_type": "markdown",
   "metadata": {},
   "source": [
    "In this notebook we refer to original and remakes. By original we mean the movie which a remake has been made for. For remakes, we mean the movies which are remakes for the original movies."
   ]
  },
  {
   "cell_type": "code",
   "execution_count": 4,
   "metadata": {
    "ExecuteTime": {
     "end_time": "2024-11-15T21:33:36.492737Z",
     "start_time": "2024-11-15T21:33:36.485675Z"
    }
   },
   "outputs": [],
   "source": [
    "# drop nan values from wikidata id\n",
    "movie_remakes_df = movie_remakes_df.dropna(subset=[\"remake_wikidata_id\", \"original_wikidata_id\"])"
   ]
  },
  {
   "cell_type": "code",
   "execution_count": 5,
   "metadata": {
    "ExecuteTime": {
     "end_time": "2024-11-15T21:33:36.624715Z",
     "start_time": "2024-11-15T21:33:36.619279Z"
    }
   },
   "outputs": [],
   "source": [
    "# make the dataframes for original and remake movies.\n",
    "\n",
    "original_movies_wikidata = list(movie_remakes_df[\"original_wikidata_id\"].unique())\n",
    "\n",
    "remakes_movies_wikidata = list(movie_remakes_df[\"remake_wikidata_id\"].unique())\n",
    "\n",
    "original_df = df_movies[df_movies[\"wikidata_id\"].isin(original_movies_wikidata)]\n",
    "\n",
    "remakes_df = df_movies[df_movies[\"wikidata_id\"].isin(remakes_movies_wikidata)]"
   ]
  },
  {
   "cell_type": "markdown",
   "metadata": {},
   "source": [
    "We have two main ideas to investigate:\n",
    "- What are the differences between the original movies and their remakes.\n",
    "- What factors affect a movie being remade or equivalently what are the different patterns between the original movies and the non-remade movies.\n",
    "\n",
    "We will investigate these ideas next."
   ]
  },
  {
   "cell_type": "markdown",
   "metadata": {},
   "source": [
    "## 1 - Differences between Original and Remake"
   ]
  },
  {
   "cell_type": "markdown",
   "metadata": {},
   "source": [
    "There are many factors that we could investigate their difference between the original movies and their remakes like revenue, genres, sentiment, budget, etc. Here we have investigated for revenue and we will set the rest of the analysis for the next phase.\n",
    "\n",
    " We will compare the revenue of the original movies and the remakes. We will also investigate the distribution of the revenue of the original movies and the remakes. It seems that remake revenues has a similar distribution to the original movies in the log scale with a shifted mean."
   ]
  },
  {
   "cell_type": "code",
   "execution_count": 6,
   "metadata": {
    "ExecuteTime": {
     "end_time": "2024-11-15T21:33:36.899762Z",
     "start_time": "2024-11-15T21:33:36.889901Z"
    }
   },
   "outputs": [],
   "source": [
    "def get_filtered_data(column_name):\n",
    "\n",
    "    original = original_df[column_name].dropna()\n",
    "    remakes = remakes_df[column_name].dropna()\n",
    "\n",
    "    original_log = np.log(original)\n",
    "    remakes_log = np.log(remakes)\n",
    "\n",
    "    # filter outliers with 95% confidence interval\n",
    "    original_log_mean = original_log.mean()\n",
    "    original_log_std = remakes_log.std()\n",
    "\n",
    "    remakes_log_mean = remakes_log.mean()\n",
    "    remakes_log_std = remakes_log.std()\n",
    "\n",
    "    original_log_filtered = original_log[(original_log > original_log_mean - 2 * original_log_std) & (original_log < original_log_mean + 2 * original_log_std)]\n",
    "    remakes_log_filtered = remakes_log[(remakes_log > remakes_log_mean - 2 * remakes_log_std) & (remakes_log < remakes_log_mean + 2 * remakes_log_std)]\n",
    "\n",
    "    original_filtered = np.exp(original_log_filtered)\n",
    "    remakes_filtered = np.exp(remakes_log_filtered)\n",
    "    \n",
    "    return original_filtered, remakes_filtered"
   ]
  },
  {
   "cell_type": "markdown",
   "metadata": {},
   "source": [
    "## Distribution analysis"
   ]
  },
  {
   "cell_type": "markdown",
   "metadata": {},
   "source": [
    "### 1 - Do the distributions follow the same distribution?"
   ]
  },
  {
   "cell_type": "markdown",
   "metadata": {},
   "source": [
    "#### **Kolmogorov-Smirnov Test (K-S Test)**\n",
    "\n",
    "The Kolmogorov-Smirnov test is a non-parametric test used to determine whether a sample comes from a specific distribution. \n",
    "\n",
    "Test Description\n",
    "\n",
    "The `kstest` function compares the empirical distribution function (EDF) of a sample with the cumulative distribution function (CDF) of a reference distribution.\n",
    "\n",
    "Null Hypothesis ($H_0$):\n",
    "The sample follows the specified reference distribution (in this case, the **exponential distribution**).\n",
    "\n",
    "Alternative Hypothesis ($H_a$):\n",
    "The sample does not follow the specified reference distribution.\n",
    "\n",
    "Mathematical Formulation\n",
    "\n",
    "1. **Kolmogorov-Smirnov Statistic**:\n",
    "   $\n",
    "   D = \\sup_x \\left| F_n(x) - F(x) \\right|\n",
    "   $\n",
    "   where:\n",
    "   - ($F_n(x)$): Empirical Distribution Function (EDF) of the sample.\n",
    "   - ($F(x)$): Cumulative Distribution Function (CDF) of the specified reference distribution.\n",
    "\n",
    "2. **Purpose of $D$**:\n",
    "   - The test calculates the maximum absolute difference between the sample's empirical distribution $F_n(x)$ and the reference distribution's cumulative function $F(x)$ across all values of $x$.\n",
    "   - This value $D$ represents the largest deviation between the observed data and the expected distribution under the null hypothesis.\n",
    "\n",
    "3. **p-value Calculation**:\n",
    "   - The p-value is calculated based on the value of $D$ to assess the probability of observing this or a more extreme deviation if the null hypothesis ($H_0$) were true. A lower p-value indicates a less likely match with the reference distribution.\n",
    "\n",
    "Parameters in `kstest`:\n",
    "- `original_revenue_filtered`: The sample data being tested.\n",
    "- `\"expon\"`: Specifies the exponential distribution as the reference.\n",
    "\n",
    "Interpretation of Results\n",
    "- **If $p$-value < significance level $\\alpha$:**\n",
    "  Reject $H_0$. The sample does not follow an exponential distribution.\n",
    "- **If $p$-value $\\geq \\alpha$:**\n",
    "  Fail to reject $H_0$. The sample may follow an exponential distribution."
   ]
  },
  {
   "cell_type": "markdown",
   "metadata": {},
   "source": [
    "We investigate the distributions of the original and the remakes in log scale. We consider the CCDF (from the slides) to reduce the noise. We observed they have close distribution with a shifted mean."
   ]
  },
  {
   "cell_type": "code",
   "execution_count": null,
   "metadata": {
    "ExecuteTime": {
     "end_time": "2024-11-15T21:33:39.298499Z",
     "start_time": "2024-11-15T21:33:38.324174Z"
    }
   },
   "outputs": [],
   "source": [
    "def plot_ccdf(column_name):\n",
    "\n",
    "    # sorting the data and calculating CCDF\n",
    "    # sorted_revenues = np.sort(original_revenue)\n",
    "    originals , remakes = get_filtered_data(column_name)\n",
    "    sorted_originals = np.sort(originals)\n",
    "    sorted_originals = sorted_originals[::-1]\n",
    "    ccdf = np.arange(1, len(sorted_originals) + 1) / len(sorted_originals)\n",
    "\n",
    "    # sorted_revenues_remakes = np.sort(remakes_revenue)\n",
    "    sorted_remakes = np.sort(remakes)\n",
    "    sorted_remakes = sorted_remakes[::-1]\n",
    "    ccdf_remakes = np.arange(1, len(sorted_remakes) + 1) / len(sorted_remakes)\n",
    "\n",
    "    # plotting the CCDF\n",
    "    plt.figure(figsize=(10, 6))\n",
    "\n",
    "    plt.plot(sorted_originals, ccdf, color=\"blue\", label=\"Original Movies\")\n",
    "    plt.plot(sorted_remakes, ccdf_remakes, color=\"red\", label=\"Remakes\")\n",
    "\n",
    "    plt.title(f\"CCDF of {column_name} of Original Movies and Remakes\")\n",
    "    plt.xlabel(column_name)\n",
    "    plt.ylabel(\"CCDF\")\n",
    "    plt.xscale(\"log\")\n",
    "    plt.yscale(\"log\")\n",
    "    plt.legend()\n",
    "    plt.show()\n",
    "\n",
    "for column in numerical_columns:\n",
    "    plot_ccdf(column)"
   ]
  },
  {
   "cell_type": "code",
   "execution_count": null,
   "metadata": {
    "ExecuteTime": {
     "end_time": "2024-11-15T21:33:39.437024Z",
     "start_time": "2024-11-15T21:33:39.422424Z"
    }
   },
   "outputs": [],
   "source": [
    "p_values = {}\n",
    "columns_data = {} \n",
    "\n",
    "for column in numerical_columns:\n",
    "    original_, remakes_ = get_filtered_data(column)\n",
    "    test = ks_2samp(original_, remakes_)\n",
    "    p_values[column] = test.pvalue\n",
    "\n",
    "    columns_data[column] = {\n",
    "        \"original\": original_.tolist(),  # Convert to list to make it JSON serializable\n",
    "        \"remakes\": remakes_.tolist()}\n",
    "    \n",
    "\n",
    "    plt.figure(figsize=(5, 3))\n",
    "    sns.kdeplot(original_, label='Original', fill=True, color='blue')\n",
    "    sns.kdeplot(remakes_, label='Remake', fill=True, color='red')\n",
    "    \n",
    "    plt.title(f'Distribution Comparison for {column}')\n",
    "    plt.xlabel(column)\n",
    "    plt.ylabel('Density')\n",
    "    plt.legend()\n",
    "    plt.show()\n",
    "\n",
    "with open('DataStory/columns_data.json', 'w') as f:\n",
    "    json.dump(columns_data, f, indent=4)\n",
    "\n",
    "with open('DataStory/p_values.json', 'w') as f:\n",
    "    json.dump(p_values, f)\n",
    "\n",
    "print(p_values)"
   ]
  },
  {
   "cell_type": "markdown",
   "metadata": {},
   "source": [
    "#### Analyzing whether the vote average difference is caused because of time"
   ]
  },
  {
   "cell_type": "code",
   "execution_count": 20,
   "metadata": {},
   "outputs": [],
   "source": [
    "temp = df_movies.groupby(\"year\").aggregate({\"vote_average\" : \"mean\", \"star_1_popularity\": \"mean\", \"adjusted_budget\": \"mean\"})\n",
    "temp = temp.loc[1920:2010]\n",
    "temp"
   ]
  },
  {
   "cell_type": "code",
   "execution_count": 27,
   "metadata": {},
   "outputs": [
    {
     "data": {
      "image/png": "[encoded data removed]",
      "text/plain": [
       "<Figure size 3000x1000 with 3 Axes>"
      ]
     },
     "metadata": {},
     "output_type": "display_data"
    }
   ],
   "source": [
    "fig, axes = plt.subplots(nrows=1, ncols=3, figsize=(30, 10))\n",
    "# Plot 1: Mean vote_average over time\n",
    "axes[0].plot(temp.index, temp['vote_average'], marker='o', label='Vote Average', color='blue')\n",
    "axes[0].set_title('Mean Vote Average Over Time')\n",
    "axes[0].set_ylabel('Vote Average')\n",
    "axes[0].legend()\n",
    "\n",
    "# Plot 2: Mean star_1_popularity over time\n",
    "axes[1].plot(temp.index, temp['star_1_popularity'], marker='o', label='Star 1 Popularity', color='green')\n",
    "axes[1].set_title('Mean Star 1 Popularity Over Time')\n",
    "axes[1].set_ylabel('Star 1 Popularity')\n",
    "axes[1].legend()\n",
    "\n",
    "# Plot 3: Mean budget over time\n",
    "axes[2].plot(temp.index, temp['adjusted_budget'], marker='o', label='Adjusted Budget', color='red')\n",
    "axes[2].set_title('Mean Budget Over Time')\n",
    "axes[2].set_xlabel('Year')\n",
    "axes[2].set_ylabel('Adjusted Budget')\n",
    "axes[2].legend()\n",
    "\n",
    "# Adjust layout and show\n",
    "plt.tight_layout()\n",
    "plt.show()"
   ]
  },
  {
   "cell_type": "code",
   "execution_count": 34,
   "metadata": {},
   "outputs": [],
   "source": [
    "df_dict = temp.to_dict(orient='list')\n",
    "\n",
    "with open('DataStory/features_mean_by_year.json', 'w') as f:\n",
    "    json.dump(df_dict, f, indent=4)"
   ]
  },
  {
   "cell_type": "code",
   "execution_count": 7,
   "metadata": {},
   "outputs": [],
   "source": [
    "import matplotlib.pyplot as plt\n",
    "import pandas as pd\n",
    "\n",
    "def plot_significance(model):\n",
    "    coefficients = model.params  \n",
    "    conf_intervals = model.conf_int()  \n",
    "    conf_intervals.columns = ['lower', 'upper']  \n",
    "\n",
    "    # Combine coefficients and confidence intervals into one DataFrame\n",
    "    coef_df = pd.concat([coefficients, conf_intervals], axis=1)\n",
    "    coef_df.columns = ['coef', 'lower', 'upper']\n",
    "\n",
    "    # Add a column for significance\n",
    "    coef_df['significant'] = (coef_df['lower'] > 0) | (coef_df['upper'] < 0)\n",
    "\n",
    "    # Plot the coefficients with confidence intervals\n",
    "    plt.figure(figsize=(10, 6))\n",
    "    for i, row in coef_df.iterrows():\n",
    "        color = 'blue' if row['significant'] else 'gray'  # Blue for significant, gray otherwise\n",
    "        plt.errorbar(i, row['coef'], \n",
    "                    yerr=[[row['coef'] - row['lower']], [row['upper'] - row['coef']]],\n",
    "                    fmt='o', color=color, ecolor='lightgray', elinewidth=2, capsize=4)\n",
    "\n",
    "    # Add labels and title\n",
    "    plt.axhline(0, color='black', linestyle='--', linewidth=1)  # Reference line at y=0\n",
    "    plt.xticks(rotation=45, ha='right')  # Rotate x-axis labels for readability\n",
    "    plt.title('Regression Coefficients with Confidence Intervals')\n",
    "    plt.ylabel('Coefficient Value')\n",
    "    plt.xlabel('Predictor Variables')\n",
    "\n",
    "    # Legend for significance\n",
    "    plt.text(len(coef_df) - 0.5, min(coef_df['lower']) - 0.1, \"Blue = Significant\", color='blue', fontsize=10)\n",
    "    plt.text(len(coef_df) - 0.5, min(coef_df['lower']) - 0.3, \"Gray = Not Significant\", color='gray', fontsize=10)\n",
    "\n",
    "    # Show plot\n",
    "    plt.tight_layout()\n",
    "    plt.show()\n",
    "\n",
    "    return coef_df"
   ]
  },
  {
   "cell_type": "code",
   "execution_count": 13,
   "metadata": {},
   "outputs": [],
   "source": [
    "import plotly.graph_objects as go\n",
    "import pandas as pd\n",
    "\n",
    "def plot_significance_plotly(model, path_to_save):\n",
    "    coefficients = model.params  \n",
    "    conf_intervals = model.conf_int()  \n",
    "    conf_intervals.columns = ['lower', 'upper']  \n",
    "\n",
    "    # Combine coefficients and confidence intervals into one DataFrame\n",
    "    coef_df = pd.concat([coefficients, conf_intervals], axis=1)\n",
    "    coef_df.columns = ['coef', 'lower', 'upper']\n",
    "\n",
    "    # Add a column for significance\n",
    "    coef_df['significant'] = (coef_df['lower'] > 0) | (coef_df['upper'] < 0)\n",
    "\n",
    "    # Create Plotly figure\n",
    "    fig = go.Figure()\n",
    "\n",
    "    for i, row in coef_df.iterrows():\n",
    "        color = 'red' if row['significant'] else 'black'  # Blue for significant, gray otherwise\n",
    "        fig.add_trace(\n",
    "            go.Scatter(\n",
    "                x=[i], \n",
    "                y=[row['coef']], \n",
    "                mode='markers', \n",
    "                marker=dict(size=10, color=color), \n",
    "                name=f'{i} Coef'\n",
    "            )\n",
    "        )\n",
    "\n",
    "        fig.add_trace(\n",
    "            go.Scatter(\n",
    "                x=[i, i], \n",
    "                y=[row['lower'], row['upper']], \n",
    "                mode='lines', \n",
    "                line=dict(color='blue', width=2), \n",
    "                showlegend=False\n",
    "            )\n",
    "        )\n",
    "\n",
    "    # Add reference line at y=0\n",
    "    fig.add_shape(\n",
    "        type=\"line\", \n",
    "        x0=-0.5, \n",
    "        x1=len(coef_df) - 0.5, \n",
    "        y0=0, \n",
    "        y1=0, \n",
    "        line=dict(color=\"black\", width=1, dash=\"dash\")\n",
    "    )\n",
    "\n",
    "    # Update layout\n",
    "    fig.update_layout(\n",
    "        title={\n",
    "            'text': 'Coefficients and Confidence Intervals',\n",
    "            'x': 0.5,  # Centers the title\n",
    "            'xanchor': 'center'\n",
    "        },\n",
    "        xaxis_title='Predictor Variables',\n",
    "        yaxis_title='Coefficient Value',\n",
    "        xaxis=dict(tickvals=list(range(len(coef_df))), ticktext=coef_df.index, tickangle=45),\n",
    "        showlegend=False,\n",
    "        template=\"plotly_white\",\n",
    "        autosize=True,  # Enables responsive resizing\n",
    "        height=450,     # Height in pixels (adjust based on your needs)\n",
    "        width=700,       # Width in pixels\n",
    "    )\n",
    "\n",
    "    # Add custom annotations for significance legend\n",
    "    fig.add_annotation(\n",
    "        xref=\"paper\", \n",
    "        yref=\"paper\", \n",
    "        x=1.15, \n",
    "        y=0.9, \n",
    "        text=\"<br><span style='color:red'>Red = Significant</span><br>Black = Not Significant\",\n",
    "        showarrow=False, \n",
    "        font=dict(size=12), \n",
    "        align=\"left\", \n",
    "        bordercolor=\"black\", \n",
    "        borderwidth=1, \n",
    "        borderpad=5, \n",
    "        bgcolor=\"white\"\n",
    "    )\n",
    "\n",
    "    import plotly.io as pio\n",
    "\n",
    "    fig.show()\n",
    "\n",
    "    # Save as an interactive HTML file\n",
    "    pio.write_html(fig, path_to_save, auto_open=True, include_plotlyjs=\"cdn\")\n",
    "\n",
    "\n",
    "    return coef_df\n"
   ]
  },
  {
   "cell_type": "code",
   "execution_count": 11,
   "metadata": {},
   "outputs": [],
   "source": [
    "def get_json_from_df(df, save_path):\n",
    "    df.loc[:, \"column_name\"] = df.index\n",
    "\n",
    "    df_dict = df.to_dict(orient='list')\n",
    "\n",
    "    with open(save_path, 'w') as f:\n",
    "        json.dump(df_dict, f, indent=4)"
   ]
  },
  {
   "cell_type": "code",
   "execution_count": 8,
   "metadata": {},
   "outputs": [],
   "source": [
    "import statsmodels.api as sm\n",
    "from sklearn.preprocessing import StandardScaler\n",
    "\n",
    "original_df_new , remakes_df_new = original_df.copy(deep = True), remakes_df.copy(deep = True)\n",
    "\n",
    "original_df_new[\"original\"] = 1.0\n",
    "remakes_df_new[\"original\"] = 0.0\n",
    "\n",
    "originals_remakes = pd.concat([original_df_new, remakes_df_new])\n",
    "\n",
    "originals_remakes['year_interval'] = pd.cut(originals_remakes['year'], bins=range(1900, 2031, 10), right=False, \n",
    "                             labels=[f\"{i}-{i+9}\" for i in range(1900, 2030, 10)])\n",
    "originals_remakes['year_interval'] = originals_remakes['year_interval'].astype(str) \n",
    "year_dummies = pd.get_dummies(originals_remakes['year_interval'], drop_first=True)"
   ]
  },
  {
   "cell_type": "code",
   "execution_count": 9,
   "metadata": {},
   "outputs": [
    {
     "name": "stdout",
     "output_type": "stream",
     "text": [
      "                            OLS Regression Results                            \n",
      "==============================================================================\n",
      "Dep. Variable:           vote_average   R-squared:                       0.253\n",
      "Model:                            OLS   Adj. R-squared:                  0.245\n",
      "Method:                 Least Squares   F-statistic:                     31.52\n",
      "Date:                Fri, 20 Dec 2024   Prob (F-statistic):           9.41e-58\n",
      "Time:                        08:30:35   Log-Likelihood:                -1317.6\n",
      "No. Observations:                1035   AIC:                             2659.\n",
      "Df Residuals:                    1023   BIC:                             2718.\n",
      "Df Model:                          11                                         \n",
      "Covariance Type:            nonrobust                                         \n",
      "==============================================================================\n",
      "                 coef    std err          t      P>|t|      [0.025      0.975]\n",
      "------------------------------------------------------------------------------\n",
      "const      -1.027e-15      0.027   -3.8e-14      1.000      -0.053       0.053\n",
      "original       0.4184      0.030     14.114      0.000       0.360       0.477\n",
      "1920-1929      0.1373      0.065      2.106      0.035       0.009       0.265\n",
      "1930-1939      0.2691      0.113      2.378      0.018       0.047       0.491\n",
      "1940-1949      0.3371      0.109      3.095      0.002       0.123       0.551\n",
      "1950-1959      0.3208      0.115      2.782      0.006       0.094       0.547\n",
      "1960-1969      0.2600      0.098      2.659      0.008       0.068       0.452\n",
      "1970-1979      0.1941      0.107      1.821      0.069      -0.015       0.403\n",
      "1980-1989      0.1962      0.114      1.725      0.085      -0.027       0.419\n",
      "1990-1999      0.1949      0.116      1.679      0.093      -0.033       0.423\n",
      "2000-2009      0.2234      0.146      1.526      0.127      -0.064       0.511\n",
      "2010-2019      0.1650      0.079      2.090      0.037       0.010       0.320\n",
      "==============================================================================\n",
      "Omnibus:                       91.014   Durbin-Watson:                   1.931\n",
      "Prob(Omnibus):                  0.000   Jarque-Bera (JB):              174.672\n",
      "Skew:                          -0.570   Prob(JB):                     1.18e-38\n",
      "Kurtosis:                       4.658   Cond. No.                         15.2\n",
      "==============================================================================\n",
      "\n",
      "Notes:\n",
      "[1] Standard Errors assume that the covariance matrix of the errors is correctly specified.\n"
     ]
    }
   ],
   "source": [
    "data = originals_remakes[[\"original\", \"vote_average\"]]\n",
    "data = pd.concat([data, year_dummies], axis = 1)\n",
    "\n",
    "data.dropna(inplace = True)\n",
    "\n",
    "scaler = StandardScaler()\n",
    "\n",
    "# Standardize the DataFrame\n",
    "data = pd.DataFrame(scaler.fit_transform(data), columns=data.columns)\n",
    "\n",
    "X = data.drop(columns = [\"vote_average\"])\n",
    "X = X.astype(float)\n",
    "X = sm.add_constant(X)\n",
    "\n",
    "y = data[[\"vote_average\"]]\n",
    "y = y.astype(float)\n",
    "\n",
    "model = sm.OLS(y, X).fit()\n",
    "print(model.summary())"
   ]
  },
  {
   "cell_type": "code",
   "execution_count": 70,
   "metadata": {},
   "outputs": [
    {
     "data": {
      "application/vnd.plotly.v1+json": {
       "config": {
        "plotlyServerURL": "https://plot.ly"
       },
       "data": [
        {
         "marker": {
          "color": "black",
          "size": 10
         },
         "mode": "markers",
         "name": "const Coef",
         "type": "scatter",
         "x": [
          "const"
         ],
         "y": [
          -1.0269562977782698e-15
         ]
        },
        {
         "line": {
          "color": "blue",
          "width": 2
         },
         "mode": "lines",
         "showlegend": false,
         "type": "scatter",
         "x": [
          "const",
          "const"
         ],
         "y": [
          -0.05302098410646888,
          0.05302098410646683
         ]
        },
        {
         "marker": {
          "color": "red",
          "size": 10
         },
         "mode": "markers",
         "name": "original Coef",
         "type": "scatter",
         "x": [
          "original"
         ],
         "y": [
          0.4184144351260224
         ]
        },
        {
         "line": {
          "color": "blue",
          "width": 2
         },
         "mode": "lines",
         "showlegend": false,
         "type": "scatter",
         "x": [
          "original",
          "original"
         ],
         "y": [
          0.3602420628903915,
          0.47658680736165326
         ]
        },
        {
         "marker": {
          "color": "red",
          "size": 10
         },
         "mode": "markers",
         "name": "1920-1929 Coef",
         "type": "scatter",
         "x": [
          "1920-1929"
         ],
         "y": [
          0.13734316012569536
         ]
        },
        {
         "line": {
          "color": "blue",
          "width": 2
         },
         "mode": "lines",
         "showlegend": false,
         "type": "scatter",
         "x": [
          "1920-1929",
          "1920-1929"
         ],
         "y": [
          0.009364881185248641,
          0.2653214390661421
         ]
        },
        {
         "marker": {
          "color": "red",
          "size": 10
         },
         "mode": "markers",
         "name": "1930-1939 Coef",
         "type": "scatter",
         "x": [
          "1930-1939"
         ],
         "y": [
          0.26906819887125444
         ]
        },
        {
         "line": {
          "color": "blue",
          "width": 2
         },
         "mode": "lines",
         "showlegend": false,
         "type": "scatter",
         "x": [
          "1930-1939",
          "1930-1939"
         ],
         "y": [
          0.04699670804670214,
          0.49113968969580674
         ]
        },
        {
         "marker": {
          "color": "red",
          "size": 10
         },
         "mode": "markers",
         "name": "1940-1949 Coef",
         "type": "scatter",
         "x": [
          "1940-1949"
         ],
         "y": [
          0.33708531780017126
         ]
        },
        {
         "line": {
          "color": "blue",
          "width": 2
         },
         "mode": "lines",
         "showlegend": false,
         "type": "scatter",
         "x": [
          "1940-1949",
          "1940-1949"
         ],
         "y": [
          0.12336511421860741,
          0.5508055213817351
         ]
        },
        {
         "marker": {
          "color": "red",
          "size": 10
         },
         "mode": "markers",
         "name": "1950-1959 Coef",
         "type": "scatter",
         "x": [
          "1950-1959"
         ],
         "y": [
          0.32080319809871854
         ]
        },
        {
         "line": {
          "color": "blue",
          "width": 2
         },
         "mode": "lines",
         "showlegend": false,
         "type": "scatter",
         "x": [
          "1950-1959",
          "1950-1959"
         ],
         "y": [
          0.09448455274829795,
          0.5471218434491392
         ]
        },
        {
         "marker": {
          "color": "red",
          "size": 10
         },
         "mode": "markers",
         "name": "1960-1969 Coef",
         "type": "scatter",
         "x": [
          "1960-1969"
         ],
         "y": [
          0.2600033164891215
         ]
        },
        {
         "line": {
          "color": "blue",
          "width": 2
         },
         "mode": "lines",
         "showlegend": false,
         "type": "scatter",
         "x": [
          "1960-1969",
          "1960-1969"
         ],
         "y": [
          0.06815112633592885,
          0.45185550664231416
         ]
        },
        {
         "marker": {
          "color": "black",
          "size": 10
         },
         "mode": "markers",
         "name": "1970-1979 Coef",
         "type": "scatter",
         "x": [
          "1970-1979"
         ],
         "y": [
          0.19408302939967415
         ]
        },
        {
         "line": {
          "color": "blue",
          "width": 2
         },
         "mode": "lines",
         "showlegend": false,
         "type": "scatter",
         "x": [
          "1970-1979",
          "1970-1979"
         ],
         "y": [
          -0.015072500498220398,
          0.4032385592975687
         ]
        },
        {
         "marker": {
          "color": "black",
          "size": 10
         },
         "mode": "markers",
         "name": "1980-1989 Coef",
         "type": "scatter",
         "x": [
          "1980-1989"
         ],
         "y": [
          0.19621995395709568
         ]
        },
        {
         "line": {
          "color": "blue",
          "width": 2
         },
         "mode": "lines",
         "showlegend": false,
         "type": "scatter",
         "x": [
          "1980-1989",
          "1980-1989"
         ],
         "y": [
          -0.02694693909840512,
          0.4193868470125965
         ]
        },
        {
         "marker": {
          "color": "black",
          "size": 10
         },
         "mode": "markers",
         "name": "1990-1999 Coef",
         "type": "scatter",
         "x": [
          "1990-1999"
         ],
         "y": [
          0.1948721432651555
         ]
        },
        {
         "line": {
          "color": "blue",
          "width": 2
         },
         "mode": "lines",
         "showlegend": false,
         "type": "scatter",
         "x": [
          "1990-1999",
          "1990-1999"
         ],
         "y": [
          -0.032874972449616235,
          0.42261925897992725
         ]
        },
        {
         "marker": {
          "color": "black",
          "size": 10
         },
         "mode": "markers",
         "name": "2000-2009 Coef",
         "type": "scatter",
         "x": [
          "2000-2009"
         ],
         "y": [
          0.2233518908572856
         ]
        },
        {
         "line": {
          "color": "blue",
          "width": 2
         },
         "mode": "lines",
         "showlegend": false,
         "type": "scatter",
         "x": [
          "2000-2009",
          "2000-2009"
         ],
         "y": [
          -0.06381959314518346,
          0.5105233748597546
         ]
        },
        {
         "marker": {
          "color": "red",
          "size": 10
         },
         "mode": "markers",
         "name": "2010-2019 Coef",
         "type": "scatter",
         "x": [
          "2010-2019"
         ],
         "y": [
          0.1650250115417553
         ]
        },
        {
         "line": {
          "color": "blue",
          "width": 2
         },
         "mode": "lines",
         "showlegend": false,
         "type": "scatter",
         "x": [
          "2010-2019",
          "2010-2019"
         ],
         "y": [
          0.010057490887071002,
          0.31999253219643964
         ]
        }
       ],
       "layout": {
        "annotations": [
         {
          "align": "left",
          "bgcolor": "white",
          "bordercolor": "black",
          "borderpad": 5,
          "borderwidth": 1,
          "font": {
           "size": 12
          },
          "showarrow": false,
          "text": "<br><span style='color:red'>Red = Significant</span><br>Black = Not Significant",
          "x": 1.15,
          "xref": "paper",
          "y": 0.9,
          "yref": "paper"
         }
        ],
        "autosize": true,
        "height": 450,
        "margin": {
         "b": 10,
         "l": 10,
         "r": 10,
         "t": 10
        },
        "shapes": [
         {
          "line": {
           "color": "black",
           "dash": "dash",
           "width": 1
          },
          "type": "line",
          "x0": -0.5,
          "x1": 11.5,
          "y0": 0,
          "y1": 0
         }
        ],
        "showlegend": false,
        "template": {
         "data": {
          "bar": [
           {
            "error_x": {
             "color": "#2a3f5f"
            },
            "error_y": {
             "color": "#2a3f5f"
            },
            "marker": {
             "line": {
              "color": "white",
              "width": 0.5
             },
             "pattern": {
              "fillmode": "overlay",
              "size": 10,
              "solidity": 0.2
             }
            },
            "type": "bar"
           }
          ],
          "barpolar": [
           {
            "marker": {
             "line": {
              "color": "white",
              "width": 0.5
             },
             "pattern": {
              "fillmode": "overlay",
              "size": 10,
              "solidity": 0.2
             }
            },
            "type": "barpolar"
           }
          ],
          "carpet": [
           {
            "aaxis": {
             "endlinecolor": "#2a3f5f",
             "gridcolor": "#C8D4E3",
             "linecolor": "#C8D4E3",
             "minorgridcolor": "#C8D4E3",
             "startlinecolor": "#2a3f5f"
            },
            "baxis": {
             "endlinecolor": "#2a3f5f",
             "gridcolor": "#C8D4E3",
             "linecolor": "#C8D4E3",
             "minorgridcolor": "#C8D4E3",
             "startlinecolor": "#2a3f5f"
            },
            "type": "carpet"
           }
          ],
          "choropleth": [
           {
            "colorbar": {
             "outlinewidth": 0,
             "ticks": ""
            },
            "type": "choropleth"
           }
          ],
          "contour": [
           {
            "colorbar": {
             "outlinewidth": 0,
             "ticks": ""
            },
            "colorscale": [
             [
              0,
              "#0d0887"
             ],
             [
              0.1111111111111111,
              "#46039f"
             ],
             [
              0.2222222222222222,
              "#7201a8"
             ],
             [
              0.3333333333333333,
              "#9c179e"
             ],
             [
              0.4444444444444444,
              "#bd3786"
             ],
             [
              0.5555555555555556,
              "#d8576b"
             ],
             [
              0.6666666666666666,
              "#ed7953"
             ],
             [
              0.7777777777777778,
              "#fb9f3a"
             ],
             [
              0.8888888888888888,
              "#fdca26"
             ],
             [
              1,
              "#f0f921"
             ]
            ],
            "type": "contour"
           }
          ],
          "contourcarpet": [
           {
            "colorbar": {
             "outlinewidth": 0,
             "ticks": ""
            },
            "type": "contourcarpet"
           }
          ],
          "heatmap": [
           {
            "colorbar": {
             "outlinewidth": 0,
             "ticks": ""
            },
            "colorscale": [
             [
              0,
              "#0d0887"
             ],
             [
              0.1111111111111111,
              "#46039f"
             ],
             [
              0.2222222222222222,
              "#7201a8"
             ],
             [
              0.3333333333333333,
              "#9c179e"
             ],
             [
              0.4444444444444444,
              "#bd3786"
             ],
             [
              0.5555555555555556,
              "#d8576b"
             ],
             [
              0.6666666666666666,
              "#ed7953"
             ],
             [
              0.7777777777777778,
              "#fb9f3a"
             ],
             [
              0.8888888888888888,
              "#fdca26"
             ],
             [
              1,
              "#f0f921"
             ]
            ],
            "type": "heatmap"
           }
          ],
          "heatmapgl": [
           {
            "colorbar": {
             "outlinewidth": 0,
             "ticks": ""
            },
            "colorscale": [
             [
              0,
              "#0d0887"
             ],
             [
              0.1111111111111111,
              "#46039f"
             ],
             [
              0.2222222222222222,
              "#7201a8"
             ],
             [
              0.3333333333333333,
              "#9c179e"
             ],
             [
              0.4444444444444444,
              "#bd3786"
             ],
             [
              0.5555555555555556,
              "#d8576b"
             ],
             [
              0.6666666666666666,
              "#ed7953"
             ],
             [
              0.7777777777777778,
              "#fb9f3a"
             ],
             [
              0.8888888888888888,
              "#fdca26"
             ],
             [
              1,
              "#f0f921"
             ]
            ],
            "type": "heatmapgl"
           }
          ],
          "histogram": [
           {
            "marker": {
             "pattern": {
              "fillmode": "overlay",
              "size": 10,
              "solidity": 0.2
             }
            },
            "type": "histogram"
           }
          ],
          "histogram2d": [
           {
            "colorbar": {
             "outlinewidth": 0,
             "ticks": ""
            },
            "colorscale": [
             [
              0,
              "#0d0887"
             ],
             [
              0.1111111111111111,
              "#46039f"
             ],
             [
              0.2222222222222222,
              "#7201a8"
             ],
             [
              0.3333333333333333,
              "#9c179e"
             ],
             [
              0.4444444444444444,
              "#bd3786"
             ],
             [
              0.5555555555555556,
              "#d8576b"
             ],
             [
              0.6666666666666666,
              "#ed7953"
             ],
             [
              0.7777777777777778,
              "#fb9f3a"
             ],
             [
              0.8888888888888888,
              "#fdca26"
             ],
             [
              1,
              "#f0f921"
             ]
            ],
            "type": "histogram2d"
           }
          ],
          "histogram2dcontour": [
           {
            "colorbar": {
             "outlinewidth": 0,
             "ticks": ""
            },
            "colorscale": [
             [
              0,
              "#0d0887"
             ],
             [
              0.1111111111111111,
              "#46039f"
             ],
             [
              0.2222222222222222,
              "#7201a8"
             ],
             [
              0.3333333333333333,
              "#9c179e"
             ],
             [
              0.4444444444444444,
              "#bd3786"
             ],
             [
              0.5555555555555556,
              "#d8576b"
             ],
             [
              0.6666666666666666,
              "#ed7953"
             ],
             [
              0.7777777777777778,
              "#fb9f3a"
             ],
             [
              0.8888888888888888,
              "#fdca26"
             ],
             [
              1,
              "#f0f921"
             ]
            ],
            "type": "histogram2dcontour"
           }
          ],
          "mesh3d": [
           {
            "colorbar": {
             "outlinewidth": 0,
             "ticks": ""
            },
            "type": "mesh3d"
           }
          ],
          "parcoords": [
           {
            "line": {
             "colorbar": {
              "outlinewidth": 0,
              "ticks": ""
             }
            },
            "type": "parcoords"
           }
          ],
          "pie": [
           {
            "automargin": true,
            "type": "pie"
           }
          ],
          "scatter": [
           {
            "fillpattern": {
             "fillmode": "overlay",
             "size": 10,
             "solidity": 0.2
            },
            "type": "scatter"
           }
          ],
          "scatter3d": [
           {
            "line": {
             "colorbar": {
              "outlinewidth": 0,
              "ticks": ""
             }
            },
            "marker": {
             "colorbar": {
              "outlinewidth": 0,
              "ticks": ""
             }
            },
            "type": "scatter3d"
           }
          ],
          "scattercarpet": [
           {
            "marker": {
             "colorbar": {
              "outlinewidth": 0,
              "ticks": ""
             }
            },
            "type": "scattercarpet"
           }
          ],
          "scattergeo": [
           {
            "marker": {
             "colorbar": {
              "outlinewidth": 0,
              "ticks": ""
             }
            },
            "type": "scattergeo"
           }
          ],
          "scattergl": [
           {
            "marker": {
             "colorbar": {
              "outlinewidth": 0,
              "ticks": ""
             }
            },
            "type": "scattergl"
           }
          ],
          "scattermapbox": [
           {
            "marker": {
             "colorbar": {
              "outlinewidth": 0,
              "ticks": ""
             }
            },
            "type": "scattermapbox"
           }
          ],
          "scatterpolar": [
           {
            "marker": {
             "colorbar": {
              "outlinewidth": 0,
              "ticks": ""
             }
            },
            "type": "scatterpolar"
           }
          ],
          "scatterpolargl": [
           {
            "marker": {
             "colorbar": {
              "outlinewidth": 0,
              "ticks": ""
             }
            },
            "type": "scatterpolargl"
           }
          ],
          "scatterternary": [
           {
            "marker": {
             "colorbar": {
              "outlinewidth": 0,
              "ticks": ""
             }
            },
            "type": "scatterternary"
           }
          ],
          "surface": [
           {
            "colorbar": {
             "outlinewidth": 0,
             "ticks": ""
            },
            "colorscale": [
             [
              0,
              "#0d0887"
             ],
             [
              0.1111111111111111,
              "#46039f"
             ],
             [
              0.2222222222222222,
              "#7201a8"
             ],
             [
              0.3333333333333333,
              "#9c179e"
             ],
             [
              0.4444444444444444,
              "#bd3786"
             ],
             [
              0.5555555555555556,
              "#d8576b"
             ],
             [
              0.6666666666666666,
              "#ed7953"
             ],
             [
              0.7777777777777778,
              "#fb9f3a"
             ],
             [
              0.8888888888888888,
              "#fdca26"
             ],
             [
              1,
              "#f0f921"
             ]
            ],
            "type": "surface"
           }
          ],
          "table": [
           {
            "cells": {
             "fill": {
              "color": "#EBF0F8"
             },
             "line": {
              "color": "white"
             }
            },
            "header": {
             "fill": {
              "color": "#C8D4E3"
             },
             "line": {
              "color": "white"
             }
            },
            "type": "table"
           }
          ]
         },
         "layout": {
          "annotationdefaults": {
           "arrowcolor": "#2a3f5f",
           "arrowhead": 0,
           "arrowwidth": 1
          },
          "autotypenumbers": "strict",
          "coloraxis": {
           "colorbar": {
            "outlinewidth": 0,
            "ticks": ""
           }
          },
          "colorscale": {
           "diverging": [
            [
             0,
             "#8e0152"
            ],
            [
             0.1,
             "#c51b7d"
            ],
            [
             0.2,
             "#de77ae"
            ],
            [
             0.3,
             "#f1b6da"
            ],
            [
             0.4,
             "#fde0ef"
            ],
            [
             0.5,
             "#f7f7f7"
            ],
            [
             0.6,
             "#e6f5d0"
            ],
            [
             0.7,
             "#b8e186"
            ],
            [
             0.8,
             "#7fbc41"
            ],
            [
             0.9,
             "#4d9221"
            ],
            [
             1,
             "#276419"
            ]
           ],
           "sequential": [
            [
             0,
             "#0d0887"
            ],
            [
             0.1111111111111111,
             "#46039f"
            ],
            [
             0.2222222222222222,
             "#7201a8"
            ],
            [
             0.3333333333333333,
             "#9c179e"
            ],
            [
             0.4444444444444444,
             "#bd3786"
            ],
            [
             0.5555555555555556,
             "#d8576b"
            ],
            [
             0.6666666666666666,
             "#ed7953"
            ],
            [
             0.7777777777777778,
             "#fb9f3a"
            ],
            [
             0.8888888888888888,
             "#fdca26"
            ],
            [
             1,
             "#f0f921"
            ]
           ],
           "sequentialminus": [
            [
             0,
             "#0d0887"
            ],
            [
             0.1111111111111111,
             "#46039f"
            ],
            [
             0.2222222222222222,
             "#7201a8"
            ],
            [
             0.3333333333333333,
             "#9c179e"
            ],
            [
             0.4444444444444444,
             "#bd3786"
            ],
            [
             0.5555555555555556,
             "#d8576b"
            ],
            [
             0.6666666666666666,
             "#ed7953"
            ],
            [
             0.7777777777777778,
             "#fb9f3a"
            ],
            [
             0.8888888888888888,
             "#fdca26"
            ],
            [
             1,
             "#f0f921"
            ]
           ]
          },
          "colorway": [
           "#636efa",
           "#EF553B",
           "#00cc96",
           "#ab63fa",
           "#FFA15A",
           "#19d3f3",
           "#FF6692",
           "#B6E880",
           "#FF97FF",
           "#FECB52"
          ],
          "font": {
           "color": "#2a3f5f"
          },
          "geo": {
           "bgcolor": "white",
           "lakecolor": "white",
           "landcolor": "white",
           "showlakes": true,
           "showland": true,
           "subunitcolor": "#C8D4E3"
          },
          "hoverlabel": {
           "align": "left"
          },
          "hovermode": "closest",
          "mapbox": {
           "style": "light"
          },
          "paper_bgcolor": "white",
          "plot_bgcolor": "white",
          "polar": {
           "angularaxis": {
            "gridcolor": "#EBF0F8",
            "linecolor": "#EBF0F8",
            "ticks": ""
           },
           "bgcolor": "white",
           "radialaxis": {
            "gridcolor": "#EBF0F8",
            "linecolor": "#EBF0F8",
            "ticks": ""
           }
          },
          "scene": {
           "xaxis": {
            "backgroundcolor": "white",
            "gridcolor": "#DFE8F3",
            "gridwidth": 2,
            "linecolor": "#EBF0F8",
            "showbackground": true,
            "ticks": "",
            "zerolinecolor": "#EBF0F8"
           },
           "yaxis": {
            "backgroundcolor": "white",
            "gridcolor": "#DFE8F3",
            "gridwidth": 2,
            "linecolor": "#EBF0F8",
            "showbackground": true,
            "ticks": "",
            "zerolinecolor": "#EBF0F8"
           },
           "zaxis": {
            "backgroundcolor": "white",
            "gridcolor": "#DFE8F3",
            "gridwidth": 2,
            "linecolor": "#EBF0F8",
            "showbackground": true,
            "ticks": "",
            "zerolinecolor": "#EBF0F8"
           }
          },
          "shapedefaults": {
           "line": {
            "color": "#2a3f5f"
           }
          },
          "ternary": {
           "aaxis": {
            "gridcolor": "#DFE8F3",
            "linecolor": "#A2B1C6",
            "ticks": ""
           },
           "baxis": {
            "gridcolor": "#DFE8F3",
            "linecolor": "#A2B1C6",
            "ticks": ""
           },
           "bgcolor": "white",
           "caxis": {
            "gridcolor": "#DFE8F3",
            "linecolor": "#A2B1C6",
            "ticks": ""
           }
          },
          "title": {
           "x": 0.05
          },
          "xaxis": {
           "automargin": true,
           "gridcolor": "#EBF0F8",
           "linecolor": "#EBF0F8",
           "ticks": "",
           "title": {
            "standoff": 15
           },
           "zerolinecolor": "#EBF0F8",
           "zerolinewidth": 2
          },
          "yaxis": {
           "automargin": true,
           "gridcolor": "#EBF0F8",
           "linecolor": "#EBF0F8",
           "ticks": "",
           "title": {
            "standoff": 15
           },
           "zerolinecolor": "#EBF0F8",
           "zerolinewidth": 2
          }
         }
        },
        "title": {
         "text": "Coefficients and Confidence Intervals",
         "x": 0.5,
         "xanchor": "center"
        },
        "width": 700,
        "xaxis": {
         "tickangle": 45,
         "ticktext": [
          "const",
          "original",
          "1920-1929",
          "1930-1939",
          "1940-1949",
          "1950-1959",
          "1960-1969",
          "1970-1979",
          "1980-1989",
          "1990-1999",
          "2000-2009",
          "2010-2019"
         ],
         "tickvals": [
          0,
          1,
          2,
          3,
          4,
          5,
          6,
          7,
          8,
          9,
          10,
          11
         ],
         "title": {
          "text": "Predictor Variables"
         }
        },
        "yaxis": {
         "title": {
          "text": "Coefficient Value"
         }
        }
       }
      }
     },
     "metadata": {},
     "output_type": "display_data"
    }
   ],
   "source": [
    "vote_coefs = plot_significance_plotly(model, \"DataStory/vote_average_errorbar.html\")"
   ]
  },
  {
   "cell_type": "code",
   "execution_count": 46,
   "metadata": {},
   "outputs": [],
   "source": [
    "get_json_from_df(vote_coefs, save_path= \"DataStory/vote_coefs.json\")"
   ]
  },
  {
   "cell_type": "code",
   "execution_count": 63,
   "metadata": {},
   "outputs": [
    {
     "name": "stdout",
     "output_type": "stream",
     "text": [
      "                            OLS Regression Results                            \n",
      "==============================================================================\n",
      "Dep. Variable:        adjusted_budget   R-squared:                       0.200\n",
      "Model:                            OLS   Adj. R-squared:                  0.180\n",
      "Method:                 Least Squares   F-statistic:                     10.24\n",
      "Date:                Fri, 20 Dec 2024   Prob (F-statistic):           9.06e-17\n",
      "Time:                        00:26:01   Log-Likelihood:                -605.38\n",
      "No. Observations:                 463   AIC:                             1235.\n",
      "Df Residuals:                     451   BIC:                             1284.\n",
      "Df Model:                          11                                         \n",
      "Covariance Type:            nonrobust                                         \n",
      "==============================================================================\n",
      "                 coef    std err          t      P>|t|      [0.025      0.975]\n",
      "------------------------------------------------------------------------------\n",
      "const       1.145e-16      0.042   2.72e-15      1.000      -0.083       0.083\n",
      "original      -0.2201      0.052     -4.221      0.000      -0.323      -0.118\n",
      "1920-1929      0.0399      0.132      0.303      0.762      -0.219       0.299\n",
      "1930-1939      0.0768      0.230      0.334      0.739      -0.376       0.529\n",
      "1940-1949      0.0867      0.197      0.440      0.660      -0.301       0.474\n",
      "1950-1959      0.1120      0.269      0.416      0.677      -0.417       0.640\n",
      "1960-1969      0.1452      0.230      0.631      0.529      -0.307       0.598\n",
      "1970-1979      0.0854      0.263      0.324      0.746      -0.432       0.603\n",
      "1980-1989      0.1506      0.303      0.497      0.620      -0.445       0.746\n",
      "1990-1999      0.4488      0.322      1.392      0.165      -0.185       1.082\n",
      "2000-2009      0.3301      0.408      0.810      0.418      -0.471       1.131\n",
      "2010-2019      0.1160      0.232      0.501      0.617      -0.339       0.571\n",
      "==============================================================================\n",
      "Omnibus:                      273.538   Durbin-Watson:                   1.947\n",
      "Prob(Omnibus):                  0.000   Jarque-Bera (JB):             2676.848\n",
      "Skew:                           2.412   Prob(JB):                         0.00\n",
      "Kurtosis:                      13.746   Cond. No.                         26.2\n",
      "==============================================================================\n",
      "\n",
      "Notes:\n",
      "[1] Standard Errors assume that the covariance matrix of the errors is correctly specified.\n"
     ]
    }
   ],
   "source": [
    "data = originals_remakes[[\"original\", \"adjusted_budget\"]]\n",
    "data = pd.concat([data, year_dummies], axis = 1)\n",
    "\n",
    "data.dropna(inplace = True)\n",
    "\n",
    "scaler = StandardScaler()\n",
    "\n",
    "# Standardize the DataFrame\n",
    "data = pd.DataFrame(scaler.fit_transform(data), columns=data.columns)\n",
    "\n",
    "X = data.drop(columns = [\"adjusted_budget\"])\n",
    "X = X.astype(float)\n",
    "X = sm.add_constant(X)\n",
    "\n",
    "y = data[[\"adjusted_budget\"]]\n",
    "y = y.astype(float)\n",
    "\n",
    "model = sm.OLS(y, X).fit()\n",
    "print(model.summary())"
   ]
  },
  {
   "cell_type": "code",
   "execution_count": 64,
   "metadata": {},
   "outputs": [
    {
     "data": {
      "application/vnd.plotly.v1+json": {
       "config": {
        "plotlyServerURL": "https://plot.ly"
       },
       "data": [
        {
         "marker": {
          "color": "black",
          "size": 10
         },
         "mode": "markers",
         "name": "const Coef",
         "type": "scatter",
         "x": [
          "const"
         ],
         "y": [
          1.1449174941446927e-16
         ]
        },
        {
         "line": {
          "color": "blue",
          "width": 2
         },
         "mode": "lines",
         "showlegend": false,
         "type": "scatter",
         "x": [
          "const",
          "const"
         ],
         "y": [
          -0.08278181776299715,
          0.08278181776299737
         ]
        },
        {
         "marker": {
          "color": "red",
          "size": 10
         },
         "mode": "markers",
         "name": "original Coef",
         "type": "scatter",
         "x": [
          "original"
         ],
         "y": [
          -0.22012498108969325
         ]
        },
        {
         "line": {
          "color": "blue",
          "width": 2
         },
         "mode": "lines",
         "showlegend": false,
         "type": "scatter",
         "x": [
          "original",
          "original"
         ],
         "y": [
          -0.32261726065458796,
          -0.11763270152479857
         ]
        },
        {
         "marker": {
          "color": "black",
          "size": 10
         },
         "mode": "markers",
         "name": "1920-1929 Coef",
         "type": "scatter",
         "x": [
          "1920-1929"
         ],
         "y": [
          0.03991800639642707
         ]
        },
        {
         "line": {
          "color": "blue",
          "width": 2
         },
         "mode": "lines",
         "showlegend": false,
         "type": "scatter",
         "x": [
          "1920-1929",
          "1920-1929"
         ],
         "y": [
          -0.21930431143535273,
          0.29914032422820686
         ]
        },
        {
         "marker": {
          "color": "black",
          "size": 10
         },
         "mode": "markers",
         "name": "1930-1939 Coef",
         "type": "scatter",
         "x": [
          "1930-1939"
         ],
         "y": [
          0.0768392489804465
         ]
        },
        {
         "line": {
          "color": "blue",
          "width": 2
         },
         "mode": "lines",
         "showlegend": false,
         "type": "scatter",
         "x": [
          "1930-1939",
          "1930-1939"
         ],
         "y": [
          -0.37552412522510814,
          0.5292026231860012
         ]
        },
        {
         "marker": {
          "color": "black",
          "size": 10
         },
         "mode": "markers",
         "name": "1940-1949 Coef",
         "type": "scatter",
         "x": [
          "1940-1949"
         ],
         "y": [
          0.08668485238098728
         ]
        },
        {
         "line": {
          "color": "blue",
          "width": 2
         },
         "mode": "lines",
         "showlegend": false,
         "type": "scatter",
         "x": [
          "1940-1949",
          "1940-1949"
         ],
         "y": [
          -0.30090270106063194,
          0.4742724058226065
         ]
        },
        {
         "marker": {
          "color": "black",
          "size": 10
         },
         "mode": "markers",
         "name": "1950-1959 Coef",
         "type": "scatter",
         "x": [
          "1950-1959"
         ],
         "y": [
          0.11198071006024857
         ]
        },
        {
         "line": {
          "color": "blue",
          "width": 2
         },
         "mode": "lines",
         "showlegend": false,
         "type": "scatter",
         "x": [
          "1950-1959",
          "1950-1959"
         ],
         "y": [
          -0.41650535081727014,
          0.6404667709377673
         ]
        },
        {
         "marker": {
          "color": "black",
          "size": 10
         },
         "mode": "markers",
         "name": "1960-1969 Coef",
         "type": "scatter",
         "x": [
          "1960-1969"
         ],
         "y": [
          0.14517685103630557
         ]
        },
        {
         "line": {
          "color": "blue",
          "width": 2
         },
         "mode": "lines",
         "showlegend": false,
         "type": "scatter",
         "x": [
          "1960-1969",
          "1960-1969"
         ],
         "y": [
          -0.3072680972259506,
          0.5976217992985617
         ]
        },
        {
         "marker": {
          "color": "black",
          "size": 10
         },
         "mode": "markers",
         "name": "1970-1979 Coef",
         "type": "scatter",
         "x": [
          "1970-1979"
         ],
         "y": [
          0.08536428820944482
         ]
        },
        {
         "line": {
          "color": "blue",
          "width": 2
         },
         "mode": "lines",
         "showlegend": false,
         "type": "scatter",
         "x": [
          "1970-1979",
          "1970-1979"
         ],
         "y": [
          -0.43235912964018824,
          0.6030877060590779
         ]
        },
        {
         "marker": {
          "color": "black",
          "size": 10
         },
         "mode": "markers",
         "name": "1980-1989 Coef",
         "type": "scatter",
         "x": [
          "1980-1989"
         ],
         "y": [
          0.15056626872014062
         ]
        },
        {
         "line": {
          "color": "blue",
          "width": 2
         },
         "mode": "lines",
         "showlegend": false,
         "type": "scatter",
         "x": [
          "1980-1989",
          "1980-1989"
         ],
         "y": [
          -0.444972752566629,
          0.7461052900069103
         ]
        },
        {
         "marker": {
          "color": "black",
          "size": 10
         },
         "mode": "markers",
         "name": "1990-1999 Coef",
         "type": "scatter",
         "x": [
          "1990-1999"
         ],
         "y": [
          0.44876552162513406
         ]
        },
        {
         "line": {
          "color": "blue",
          "width": 2
         },
         "mode": "lines",
         "showlegend": false,
         "type": "scatter",
         "x": [
          "1990-1999",
          "1990-1999"
         ],
         "y": [
          -0.18493396496796555,
          1.0824650082182337
         ]
        },
        {
         "marker": {
          "color": "black",
          "size": 10
         },
         "mode": "markers",
         "name": "2000-2009 Coef",
         "type": "scatter",
         "x": [
          "2000-2009"
         ],
         "y": [
          0.33009544251023953
         ]
        },
        {
         "line": {
          "color": "blue",
          "width": 2
         },
         "mode": "lines",
         "showlegend": false,
         "type": "scatter",
         "x": [
          "2000-2009",
          "2000-2009"
         ],
         "y": [
          -0.47086813686721724,
          1.1310590218876964
         ]
        },
        {
         "marker": {
          "color": "black",
          "size": 10
         },
         "mode": "markers",
         "name": "2010-2019 Coef",
         "type": "scatter",
         "x": [
          "2010-2019"
         ],
         "y": [
          0.1160017320383481
         ]
        },
        {
         "line": {
          "color": "blue",
          "width": 2
         },
         "mode": "lines",
         "showlegend": false,
         "type": "scatter",
         "x": [
          "2010-2019",
          "2010-2019"
         ],
         "y": [
          -0.3390458649675474,
          0.5710493290442435
         ]
        }
       ],
       "layout": {
        "annotations": [
         {
          "align": "left",
          "bgcolor": "white",
          "bordercolor": "black",
          "borderpad": 5,
          "borderwidth": 1,
          "font": {
           "size": 12
          },
          "showarrow": false,
          "text": "<br><span style='color:red'>Red = Significant</span><br>Black = Not Significant",
          "x": 1.15,
          "xref": "paper",
          "y": 0.9,
          "yref": "paper"
         }
        ],
        "autosize": true,
        "height": 450,
        "shapes": [
         {
          "line": {
           "color": "black",
           "dash": "dash",
           "width": 1
          },
          "type": "line",
          "x0": -0.5,
          "x1": 11.5,
          "y0": 0,
          "y1": 0
         }
        ],
        "showlegend": false,
        "template": {
         "data": {
          "bar": [
           {
            "error_x": {
             "color": "#2a3f5f"
            },
            "error_y": {
             "color": "#2a3f5f"
            },
            "marker": {
             "line": {
              "color": "white",
              "width": 0.5
             },
             "pattern": {
              "fillmode": "overlay",
              "size": 10,
              "solidity": 0.2
             }
            },
            "type": "bar"
           }
          ],
          "barpolar": [
           {
            "marker": {
             "line": {
              "color": "white",
              "width": 0.5
             },
             "pattern": {
              "fillmode": "overlay",
              "size": 10,
              "solidity": 0.2
             }
            },
            "type": "barpolar"
           }
          ],
          "carpet": [
           {
            "aaxis": {
             "endlinecolor": "#2a3f5f",
             "gridcolor": "#C8D4E3",
             "linecolor": "#C8D4E3",
             "minorgridcolor": "#C8D4E3",
             "startlinecolor": "#2a3f5f"
            },
            "baxis": {
             "endlinecolor": "#2a3f5f",
             "gridcolor": "#C8D4E3",
             "linecolor": "#C8D4E3",
             "minorgridcolor": "#C8D4E3",
             "startlinecolor": "#2a3f5f"
            },
            "type": "carpet"
           }
          ],
          "choropleth": [
           {
            "colorbar": {
             "outlinewidth": 0,
             "ticks": ""
            },
            "type": "choropleth"
           }
          ],
          "contour": [
           {
            "colorbar": {
             "outlinewidth": 0,
             "ticks": ""
            },
            "colorscale": [
             [
              0,
              "#0d0887"
             ],
             [
              0.1111111111111111,
              "#46039f"
             ],
             [
              0.2222222222222222,
              "#7201a8"
             ],
             [
              0.3333333333333333,
              "#9c179e"
             ],
             [
              0.4444444444444444,
              "#bd3786"
             ],
             [
              0.5555555555555556,
              "#d8576b"
             ],
             [
              0.6666666666666666,
              "#ed7953"
             ],
             [
              0.7777777777777778,
              "#fb9f3a"
             ],
             [
              0.8888888888888888,
              "#fdca26"
             ],
             [
              1,
              "#f0f921"
             ]
            ],
            "type": "contour"
           }
          ],
          "contourcarpet": [
           {
            "colorbar": {
             "outlinewidth": 0,
             "ticks": ""
            },
            "type": "contourcarpet"
           }
          ],
          "heatmap": [
           {
            "colorbar": {
             "outlinewidth": 0,
             "ticks": ""
            },
            "colorscale": [
             [
              0,
              "#0d0887"
             ],
             [
              0.1111111111111111,
              "#46039f"
             ],
             [
              0.2222222222222222,
              "#7201a8"
             ],
             [
              0.3333333333333333,
              "#9c179e"
             ],
             [
              0.4444444444444444,
              "#bd3786"
             ],
             [
              0.5555555555555556,
              "#d8576b"
             ],
             [
              0.6666666666666666,
              "#ed7953"
             ],
             [
              0.7777777777777778,
              "#fb9f3a"
             ],
             [
              0.8888888888888888,
              "#fdca26"
             ],
             [
              1,
              "#f0f921"
             ]
            ],
            "type": "heatmap"
           }
          ],
          "heatmapgl": [
           {
            "colorbar": {
             "outlinewidth": 0,
             "ticks": ""
            },
            "colorscale": [
             [
              0,
              "#0d0887"
             ],
             [
              0.1111111111111111,
              "#46039f"
             ],
             [
              0.2222222222222222,
              "#7201a8"
             ],
             [
              0.3333333333333333,
              "#9c179e"
             ],
             [
              0.4444444444444444,
              "#bd3786"
             ],
             [
              0.5555555555555556,
              "#d8576b"
             ],
             [
              0.6666666666666666,
              "#ed7953"
             ],
             [
              0.7777777777777778,
              "#fb9f3a"
             ],
             [
              0.8888888888888888,
              "#fdca26"
             ],
             [
              1,
              "#f0f921"
             ]
            ],
            "type": "heatmapgl"
           }
          ],
          "histogram": [
           {
            "marker": {
             "pattern": {
              "fillmode": "overlay",
              "size": 10,
              "solidity": 0.2
             }
            },
            "type": "histogram"
           }
          ],
          "histogram2d": [
           {
            "colorbar": {
             "outlinewidth": 0,
             "ticks": ""
            },
            "colorscale": [
             [
              0,
              "#0d0887"
             ],
             [
              0.1111111111111111,
              "#46039f"
             ],
             [
              0.2222222222222222,
              "#7201a8"
             ],
             [
              0.3333333333333333,
              "#9c179e"
             ],
             [
              0.4444444444444444,
              "#bd3786"
             ],
             [
              0.5555555555555556,
              "#d8576b"
             ],
             [
              0.6666666666666666,
              "#ed7953"
             ],
             [
              0.7777777777777778,
              "#fb9f3a"
             ],
             [
              0.8888888888888888,
              "#fdca26"
             ],
             [
              1,
              "#f0f921"
             ]
            ],
            "type": "histogram2d"
           }
          ],
          "histogram2dcontour": [
           {
            "colorbar": {
             "outlinewidth": 0,
             "ticks": ""
            },
            "colorscale": [
             [
              0,
              "#0d0887"
             ],
             [
              0.1111111111111111,
              "#46039f"
             ],
             [
              0.2222222222222222,
              "#7201a8"
             ],
             [
              0.3333333333333333,
              "#9c179e"
             ],
             [
              0.4444444444444444,
              "#bd3786"
             ],
             [
              0.5555555555555556,
              "#d8576b"
             ],
             [
              0.6666666666666666,
              "#ed7953"
             ],
             [
              0.7777777777777778,
              "#fb9f3a"
             ],
             [
              0.8888888888888888,
              "#fdca26"
             ],
             [
              1,
              "#f0f921"
             ]
            ],
            "type": "histogram2dcontour"
           }
          ],
          "mesh3d": [
           {
            "colorbar": {
             "outlinewidth": 0,
             "ticks": ""
            },
            "type": "mesh3d"
           }
          ],
          "parcoords": [
           {
            "line": {
             "colorbar": {
              "outlinewidth": 0,
              "ticks": ""
             }
            },
            "type": "parcoords"
           }
          ],
          "pie": [
           {
            "automargin": true,
            "type": "pie"
           }
          ],
          "scatter": [
           {
            "fillpattern": {
             "fillmode": "overlay",
             "size": 10,
             "solidity": 0.2
            },
            "type": "scatter"
           }
          ],
          "scatter3d": [
           {
            "line": {
             "colorbar": {
              "outlinewidth": 0,
              "ticks": ""
             }
            },
            "marker": {
             "colorbar": {
              "outlinewidth": 0,
              "ticks": ""
             }
            },
            "type": "scatter3d"
           }
          ],
          "scattercarpet": [
           {
            "marker": {
             "colorbar": {
              "outlinewidth": 0,
              "ticks": ""
             }
            },
            "type": "scattercarpet"
           }
          ],
          "scattergeo": [
           {
            "marker": {
             "colorbar": {
              "outlinewidth": 0,
              "ticks": ""
             }
            },
            "type": "scattergeo"
           }
          ],
          "scattergl": [
           {
            "marker": {
             "colorbar": {
              "outlinewidth": 0,
              "ticks": ""
             }
            },
            "type": "scattergl"
           }
          ],
          "scattermapbox": [
           {
            "marker": {
             "colorbar": {
              "outlinewidth": 0,
              "ticks": ""
             }
            },
            "type": "scattermapbox"
           }
          ],
          "scatterpolar": [
           {
            "marker": {
             "colorbar": {
              "outlinewidth": 0,
              "ticks": ""
             }
            },
            "type": "scatterpolar"
           }
          ],
          "scatterpolargl": [
           {
            "marker": {
             "colorbar": {
              "outlinewidth": 0,
              "ticks": ""
             }
            },
            "type": "scatterpolargl"
           }
          ],
          "scatterternary": [
           {
            "marker": {
             "colorbar": {
              "outlinewidth": 0,
              "ticks": ""
             }
            },
            "type": "scatterternary"
           }
          ],
          "surface": [
           {
            "colorbar": {
             "outlinewidth": 0,
             "ticks": ""
            },
            "colorscale": [
             [
              0,
              "#0d0887"
             ],
             [
              0.1111111111111111,
              "#46039f"
             ],
             [
              0.2222222222222222,
              "#7201a8"
             ],
             [
              0.3333333333333333,
              "#9c179e"
             ],
             [
              0.4444444444444444,
              "#bd3786"
             ],
             [
              0.5555555555555556,
              "#d8576b"
             ],
             [
              0.6666666666666666,
              "#ed7953"
             ],
             [
              0.7777777777777778,
              "#fb9f3a"
             ],
             [
              0.8888888888888888,
              "#fdca26"
             ],
             [
              1,
              "#f0f921"
             ]
            ],
            "type": "surface"
           }
          ],
          "table": [
           {
            "cells": {
             "fill": {
              "color": "#EBF0F8"
             },
             "line": {
              "color": "white"
             }
            },
            "header": {
             "fill": {
              "color": "#C8D4E3"
             },
             "line": {
              "color": "white"
             }
            },
            "type": "table"
           }
          ]
         },
         "layout": {
          "annotationdefaults": {
           "arrowcolor": "#2a3f5f",
           "arrowhead": 0,
           "arrowwidth": 1
          },
          "autotypenumbers": "strict",
          "coloraxis": {
           "colorbar": {
            "outlinewidth": 0,
            "ticks": ""
           }
          },
          "colorscale": {
           "diverging": [
            [
             0,
             "#8e0152"
            ],
            [
             0.1,
             "#c51b7d"
            ],
            [
             0.2,
             "#de77ae"
            ],
            [
             0.3,
             "#f1b6da"
            ],
            [
             0.4,
             "#fde0ef"
            ],
            [
             0.5,
             "#f7f7f7"
            ],
            [
             0.6,
             "#e6f5d0"
            ],
            [
             0.7,
             "#b8e186"
            ],
            [
             0.8,
             "#7fbc41"
            ],
            [
             0.9,
             "#4d9221"
            ],
            [
             1,
             "#276419"
            ]
           ],
           "sequential": [
            [
             0,
             "#0d0887"
            ],
            [
             0.1111111111111111,
             "#46039f"
            ],
            [
             0.2222222222222222,
             "#7201a8"
            ],
            [
             0.3333333333333333,
             "#9c179e"
            ],
            [
             0.4444444444444444,
             "#bd3786"
            ],
            [
             0.5555555555555556,
             "#d8576b"
            ],
            [
             0.6666666666666666,
             "#ed7953"
            ],
            [
             0.7777777777777778,
             "#fb9f3a"
            ],
            [
             0.8888888888888888,
             "#fdca26"
            ],
            [
             1,
             "#f0f921"
            ]
           ],
           "sequentialminus": [
            [
             0,
             "#0d0887"
            ],
            [
             0.1111111111111111,
             "#46039f"
            ],
            [
             0.2222222222222222,
             "#7201a8"
            ],
            [
             0.3333333333333333,
             "#9c179e"
            ],
            [
             0.4444444444444444,
             "#bd3786"
            ],
            [
             0.5555555555555556,
             "#d8576b"
            ],
            [
             0.6666666666666666,
             "#ed7953"
            ],
            [
             0.7777777777777778,
             "#fb9f3a"
            ],
            [
             0.8888888888888888,
             "#fdca26"
            ],
            [
             1,
             "#f0f921"
            ]
           ]
          },
          "colorway": [
           "#636efa",
           "#EF553B",
           "#00cc96",
           "#ab63fa",
           "#FFA15A",
           "#19d3f3",
           "#FF6692",
           "#B6E880",
           "#FF97FF",
           "#FECB52"
          ],
          "font": {
           "color": "#2a3f5f"
          },
          "geo": {
           "bgcolor": "white",
           "lakecolor": "white",
           "landcolor": "white",
           "showlakes": true,
           "showland": true,
           "subunitcolor": "#C8D4E3"
          },
          "hoverlabel": {
           "align": "left"
          },
          "hovermode": "closest",
          "mapbox": {
           "style": "light"
          },
          "paper_bgcolor": "white",
          "plot_bgcolor": "white",
          "polar": {
           "angularaxis": {
            "gridcolor": "#EBF0F8",
            "linecolor": "#EBF0F8",
            "ticks": ""
           },
           "bgcolor": "white",
           "radialaxis": {
            "gridcolor": "#EBF0F8",
            "linecolor": "#EBF0F8",
            "ticks": ""
           }
          },
          "scene": {
           "xaxis": {
            "backgroundcolor": "white",
            "gridcolor": "#DFE8F3",
            "gridwidth": 2,
            "linecolor": "#EBF0F8",
            "showbackground": true,
            "ticks": "",
            "zerolinecolor": "#EBF0F8"
           },
           "yaxis": {
            "backgroundcolor": "white",
            "gridcolor": "#DFE8F3",
            "gridwidth": 2,
            "linecolor": "#EBF0F8",
            "showbackground": true,
            "ticks": "",
            "zerolinecolor": "#EBF0F8"
           },
           "zaxis": {
            "backgroundcolor": "white",
            "gridcolor": "#DFE8F3",
            "gridwidth": 2,
            "linecolor": "#EBF0F8",
            "showbackground": true,
            "ticks": "",
            "zerolinecolor": "#EBF0F8"
           }
          },
          "shapedefaults": {
           "line": {
            "color": "#2a3f5f"
           }
          },
          "ternary": {
           "aaxis": {
            "gridcolor": "#DFE8F3",
            "linecolor": "#A2B1C6",
            "ticks": ""
           },
           "baxis": {
            "gridcolor": "#DFE8F3",
            "linecolor": "#A2B1C6",
            "ticks": ""
           },
           "bgcolor": "white",
           "caxis": {
            "gridcolor": "#DFE8F3",
            "linecolor": "#A2B1C6",
            "ticks": ""
           }
          },
          "title": {
           "x": 0.05
          },
          "xaxis": {
           "automargin": true,
           "gridcolor": "#EBF0F8",
           "linecolor": "#EBF0F8",
           "ticks": "",
           "title": {
            "standoff": 15
           },
           "zerolinecolor": "#EBF0F8",
           "zerolinewidth": 2
          },
          "yaxis": {
           "automargin": true,
           "gridcolor": "#EBF0F8",
           "linecolor": "#EBF0F8",
           "ticks": "",
           "title": {
            "standoff": 15
           },
           "zerolinecolor": "#EBF0F8",
           "zerolinewidth": 2
          }
         }
        },
        "title": {
         "text": "Coefficients and Confidence Intervals",
         "x": 0.5,
         "xanchor": "center"
        },
        "width": 700,
        "xaxis": {
         "tickangle": 45,
         "ticktext": [
          "const",
          "original",
          "1920-1929",
          "1930-1939",
          "1940-1949",
          "1950-1959",
          "1960-1969",
          "1970-1979",
          "1980-1989",
          "1990-1999",
          "2000-2009",
          "2010-2019"
         ],
         "tickvals": [
          0,
          1,
          2,
          3,
          4,
          5,
          6,
          7,
          8,
          9,
          10,
          11
         ],
         "title": {
          "text": "Predictor Variables"
         }
        },
        "yaxis": {
         "title": {
          "text": "Coefficient Value"
         }
        }
       }
      }
     },
     "metadata": {},
     "output_type": "display_data"
    }
   ],
   "source": [
    "adjusted_budget_coefs = plot_significance_plotly(model, \"DataStory/adjusted_budget_errorbar.html\")"
   ]
  },
  {
   "cell_type": "code",
   "execution_count": 50,
   "metadata": {},
   "outputs": [],
   "source": [
    "get_json_from_df(adjusted_budget_coefs, save_path= \"DataStory/adjusted_budget_coefs.json\")"
   ]
  },
  {
   "cell_type": "code",
   "execution_count": 66,
   "metadata": {},
   "outputs": [
    {
     "name": "stdout",
     "output_type": "stream",
     "text": [
      "                            OLS Regression Results                            \n",
      "==============================================================================\n",
      "Dep. Variable:      star_1_popularity   R-squared:                       0.315\n",
      "Model:                            OLS   Adj. R-squared:                  0.307\n",
      "Method:                 Least Squares   F-statistic:                     42.85\n",
      "Date:                Fri, 20 Dec 2024   Prob (F-statistic):           9.85e-77\n",
      "Time:                        00:26:35   Log-Likelihood:                -1278.0\n",
      "No. Observations:                1039   AIC:                             2580.\n",
      "Df Residuals:                    1027   BIC:                             2639.\n",
      "Df Model:                          11                                         \n",
      "Covariance Type:            nonrobust                                         \n",
      "==============================================================================\n",
      "                 coef    std err          t      P>|t|      [0.025      0.975]\n",
      "------------------------------------------------------------------------------\n",
      "const       1.821e-17      0.026   7.05e-16      1.000      -0.051       0.051\n",
      "original      -0.1457      0.028     -5.146      0.000      -0.201      -0.090\n",
      "1920-1929      0.0062      0.059      0.104      0.917      -0.110       0.122\n",
      "1930-1939      0.0781      0.101      0.776      0.438      -0.119       0.276\n",
      "1940-1949      0.0991      0.097      1.022      0.307      -0.091       0.289\n",
      "1950-1959      0.1120      0.103      1.092      0.275      -0.089       0.313\n",
      "1960-1969      0.1570      0.088      1.793      0.073      -0.015       0.329\n",
      "1970-1979      0.1982      0.095      2.090      0.037       0.012       0.384\n",
      "1980-1989      0.3022      0.102      2.976      0.003       0.103       0.501\n",
      "1990-1999      0.4695      0.103      4.546      0.000       0.267       0.672\n",
      "2000-2009      0.5307      0.130      4.081      0.000       0.276       0.786\n",
      "2010-2019      0.3330      0.071      4.713      0.000       0.194       0.472\n",
      "==============================================================================\n",
      "Omnibus:                      515.181   Durbin-Watson:                   1.609\n",
      "Prob(Omnibus):                  0.000   Jarque-Bera (JB):             4643.207\n",
      "Skew:                           2.082   Prob(JB):                         0.00\n",
      "Kurtosis:                      12.482   Cond. No.                         14.1\n",
      "==============================================================================\n",
      "\n",
      "Notes:\n",
      "[1] Standard Errors assume that the covariance matrix of the errors is correctly specified.\n"
     ]
    }
   ],
   "source": [
    "data = originals_remakes[[\"original\", \"star_1_popularity\"]]\n",
    "data = pd.concat([data, year_dummies], axis = 1)\n",
    "\n",
    "data.dropna(inplace = True)\n",
    "\n",
    "scaler = StandardScaler()\n",
    "\n",
    "# Standardize the DataFrame\n",
    "data = pd.DataFrame(scaler.fit_transform(data), columns=data.columns)\n",
    "\n",
    "X = data.drop(columns = [\"star_1_popularity\"])\n",
    "X = X.astype(float)\n",
    "X = sm.add_constant(X)\n",
    "\n",
    "y = data[[\"star_1_popularity\"]]\n",
    "y = y.astype(float)\n",
    "\n",
    "model = sm.OLS(y, X).fit()\n",
    "print(model.summary())"
   ]
  },
  {
   "cell_type": "code",
   "execution_count": 67,
   "metadata": {},
   "outputs": [
    {
     "data": {
      "application/vnd.plotly.v1+json": {
       "config": {
        "plotlyServerURL": "https://plot.ly"
       },
       "data": [
        {
         "marker": {
          "color": "black",
          "size": 10
         },
         "mode": "markers",
         "name": "const Coef",
         "type": "scatter",
         "x": [
          "const"
         ],
         "y": [
          1.8214596497756474e-17
         ]
        },
        {
         "line": {
          "color": "blue",
          "width": 2
         },
         "mode": "lines",
         "showlegend": false,
         "type": "scatter",
         "x": [
          "const",
          "const"
         ],
         "y": [
          -0.05069275363937627,
          0.05069275363937631
         ]
        },
        {
         "marker": {
          "color": "red",
          "size": 10
         },
         "mode": "markers",
         "name": "original Coef",
         "type": "scatter",
         "x": [
          "original"
         ],
         "y": [
          -0.14566935556173707
         ]
        },
        {
         "line": {
          "color": "blue",
          "width": 2
         },
         "mode": "lines",
         "showlegend": false,
         "type": "scatter",
         "x": [
          "original",
          "original"
         ],
         "y": [
          -0.20121253896305213,
          -0.09012617216042201
         ]
        },
        {
         "marker": {
          "color": "black",
          "size": 10
         },
         "mode": "markers",
         "name": "1920-1929 Coef",
         "type": "scatter",
         "x": [
          "1920-1929"
         ],
         "y": [
          0.006157669192898226
         ]
        },
        {
         "line": {
          "color": "blue",
          "width": 2
         },
         "mode": "lines",
         "showlegend": false,
         "type": "scatter",
         "x": [
          "1920-1929",
          "1920-1929"
         ],
         "y": [
          -0.110181479204416,
          0.12249681759021246
         ]
        },
        {
         "marker": {
          "color": "black",
          "size": 10
         },
         "mode": "markers",
         "name": "1930-1939 Coef",
         "type": "scatter",
         "x": [
          "1930-1939"
         ],
         "y": [
          0.0780998315473435
         ]
        },
        {
         "line": {
          "color": "blue",
          "width": 2
         },
         "mode": "lines",
         "showlegend": false,
         "type": "scatter",
         "x": [
          "1930-1939",
          "1930-1939"
         ],
         "y": [
          -0.11936579348829411,
          0.2755654565829811
         ]
        },
        {
         "marker": {
          "color": "black",
          "size": 10
         },
         "mode": "markers",
         "name": "1940-1949 Coef",
         "type": "scatter",
         "x": [
          "1940-1949"
         ],
         "y": [
          0.09906023804198083
         ]
        },
        {
         "line": {
          "color": "blue",
          "width": 2
         },
         "mode": "lines",
         "showlegend": false,
         "type": "scatter",
         "x": [
          "1940-1949",
          "1940-1949"
         ],
         "y": [
          -0.09108276747835117,
          0.28920324356231286
         ]
        },
        {
         "marker": {
          "color": "black",
          "size": 10
         },
         "mode": "markers",
         "name": "1950-1959 Coef",
         "type": "scatter",
         "x": [
          "1950-1959"
         ],
         "y": [
          0.11198760092202842
         ]
        },
        {
         "line": {
          "color": "blue",
          "width": 2
         },
         "mode": "lines",
         "showlegend": false,
         "type": "scatter",
         "x": [
          "1950-1959",
          "1950-1959"
         ],
         "y": [
          -0.08927704799103339,
          0.31325224983509026
         ]
        },
        {
         "marker": {
          "color": "black",
          "size": 10
         },
         "mode": "markers",
         "name": "1960-1969 Coef",
         "type": "scatter",
         "x": [
          "1960-1969"
         ],
         "y": [
          0.15698718228747305
         ]
        },
        {
         "line": {
          "color": "blue",
          "width": 2
         },
         "mode": "lines",
         "showlegend": false,
         "type": "scatter",
         "x": [
          "1960-1969",
          "1960-1969"
         ],
         "y": [
          -0.01479267690041089,
          0.32876704147535696
         ]
        },
        {
         "marker": {
          "color": "red",
          "size": 10
         },
         "mode": "markers",
         "name": "1970-1979 Coef",
         "type": "scatter",
         "x": [
          "1970-1979"
         ],
         "y": [
          0.1981734065175318
         ]
        },
        {
         "line": {
          "color": "blue",
          "width": 2
         },
         "mode": "lines",
         "showlegend": false,
         "type": "scatter",
         "x": [
          "1970-1979",
          "1970-1979"
         ],
         "y": [
          0.012085708020971059,
          0.3842611050140925
         ]
        },
        {
         "marker": {
          "color": "red",
          "size": 10
         },
         "mode": "markers",
         "name": "1980-1989 Coef",
         "type": "scatter",
         "x": [
          "1980-1989"
         ],
         "y": [
          0.3021714503896461
         ]
        },
        {
         "line": {
          "color": "blue",
          "width": 2
         },
         "mode": "lines",
         "showlegend": false,
         "type": "scatter",
         "x": [
          "1980-1989",
          "1980-1989"
         ],
         "y": [
          0.10294156729001683,
          0.5014013334892754
         ]
        },
        {
         "marker": {
          "color": "red",
          "size": 10
         },
         "mode": "markers",
         "name": "1990-1999 Coef",
         "type": "scatter",
         "x": [
          "1990-1999"
         ],
         "y": [
          0.4694658680827237
         ]
        },
        {
         "line": {
          "color": "blue",
          "width": 2
         },
         "mode": "lines",
         "showlegend": false,
         "type": "scatter",
         "x": [
          "1990-1999",
          "1990-1999"
         ],
         "y": [
          0.2668153140403552,
          0.6721164221250923
         ]
        },
        {
         "marker": {
          "color": "red",
          "size": 10
         },
         "mode": "markers",
         "name": "2000-2009 Coef",
         "type": "scatter",
         "x": [
          "2000-2009"
         ],
         "y": [
          0.530731923540583
         ]
        },
        {
         "line": {
          "color": "blue",
          "width": 2
         },
         "mode": "lines",
         "showlegend": false,
         "type": "scatter",
         "x": [
          "2000-2009",
          "2000-2009"
         ],
         "y": [
          0.2755577064398403,
          0.7859061406413257
         ]
        },
        {
         "marker": {
          "color": "red",
          "size": 10
         },
         "mode": "markers",
         "name": "2010-2019 Coef",
         "type": "scatter",
         "x": [
          "2010-2019"
         ],
         "y": [
          0.333028145664406
         ]
        },
        {
         "line": {
          "color": "blue",
          "width": 2
         },
         "mode": "lines",
         "showlegend": false,
         "type": "scatter",
         "x": [
          "2010-2019",
          "2010-2019"
         ],
         "y": [
          0.19436490330729328,
          0.47169138802151866
         ]
        }
       ],
       "layout": {
        "annotations": [
         {
          "align": "left",
          "bgcolor": "white",
          "bordercolor": "black",
          "borderpad": 5,
          "borderwidth": 1,
          "font": {
           "size": 12
          },
          "showarrow": false,
          "text": "<br><span style='color:red'>Red = Significant</span><br>Black = Not Significant",
          "x": 1.15,
          "xref": "paper",
          "y": 0.9,
          "yref": "paper"
         }
        ],
        "autosize": true,
        "height": 450,
        "shapes": [
         {
          "line": {
           "color": "black",
           "dash": "dash",
           "width": 1
          },
          "type": "line",
          "x0": -0.5,
          "x1": 11.5,
          "y0": 0,
          "y1": 0
         }
        ],
        "showlegend": false,
        "template": {
         "data": {
          "bar": [
           {
            "error_x": {
             "color": "#2a3f5f"
            },
            "error_y": {
             "color": "#2a3f5f"
            },
            "marker": {
             "line": {
              "color": "white",
              "width": 0.5
             },
             "pattern": {
              "fillmode": "overlay",
              "size": 10,
              "solidity": 0.2
             }
            },
            "type": "bar"
           }
          ],
          "barpolar": [
           {
            "marker": {
             "line": {
              "color": "white",
              "width": 0.5
             },
             "pattern": {
              "fillmode": "overlay",
              "size": 10,
              "solidity": 0.2
             }
            },
            "type": "barpolar"
           }
          ],
          "carpet": [
           {
            "aaxis": {
             "endlinecolor": "#2a3f5f",
             "gridcolor": "#C8D4E3",
             "linecolor": "#C8D4E3",
             "minorgridcolor": "#C8D4E3",
             "startlinecolor": "#2a3f5f"
            },
            "baxis": {
             "endlinecolor": "#2a3f5f",
             "gridcolor": "#C8D4E3",
             "linecolor": "#C8D4E3",
             "minorgridcolor": "#C8D4E3",
             "startlinecolor": "#2a3f5f"
            },
            "type": "carpet"
           }
          ],
          "choropleth": [
           {
            "colorbar": {
             "outlinewidth": 0,
             "ticks": ""
            },
            "type": "choropleth"
           }
          ],
          "contour": [
           {
            "colorbar": {
             "outlinewidth": 0,
             "ticks": ""
            },
            "colorscale": [
             [
              0,
              "#0d0887"
             ],
             [
              0.1111111111111111,
              "#46039f"
             ],
             [
              0.2222222222222222,
              "#7201a8"
             ],
             [
              0.3333333333333333,
              "#9c179e"
             ],
             [
              0.4444444444444444,
              "#bd3786"
             ],
             [
              0.5555555555555556,
              "#d8576b"
             ],
             [
              0.6666666666666666,
              "#ed7953"
             ],
             [
              0.7777777777777778,
              "#fb9f3a"
             ],
             [
              0.8888888888888888,
              "#fdca26"
             ],
             [
              1,
              "#f0f921"
             ]
            ],
            "type": "contour"
           }
          ],
          "contourcarpet": [
           {
            "colorbar": {
             "outlinewidth": 0,
             "ticks": ""
            },
            "type": "contourcarpet"
           }
          ],
          "heatmap": [
           {
            "colorbar": {
             "outlinewidth": 0,
             "ticks": ""
            },
            "colorscale": [
             [
              0,
              "#0d0887"
             ],
             [
              0.1111111111111111,
              "#46039f"
             ],
             [
              0.2222222222222222,
              "#7201a8"
             ],
             [
              0.3333333333333333,
              "#9c179e"
             ],
             [
              0.4444444444444444,
              "#bd3786"
             ],
             [
              0.5555555555555556,
              "#d8576b"
             ],
             [
              0.6666666666666666,
              "#ed7953"
             ],
             [
              0.7777777777777778,
              "#fb9f3a"
             ],
             [
              0.8888888888888888,
              "#fdca26"
             ],
             [
              1,
              "#f0f921"
             ]
            ],
            "type": "heatmap"
           }
          ],
          "heatmapgl": [
           {
            "colorbar": {
             "outlinewidth": 0,
             "ticks": ""
            },
            "colorscale": [
             [
              0,
              "#0d0887"
             ],
             [
              0.1111111111111111,
              "#46039f"
             ],
             [
              0.2222222222222222,
              "#7201a8"
             ],
             [
              0.3333333333333333,
              "#9c179e"
             ],
             [
              0.4444444444444444,
              "#bd3786"
             ],
             [
              0.5555555555555556,
              "#d8576b"
             ],
             [
              0.6666666666666666,
              "#ed7953"
             ],
             [
              0.7777777777777778,
              "#fb9f3a"
             ],
             [
              0.8888888888888888,
              "#fdca26"
             ],
             [
              1,
              "#f0f921"
             ]
            ],
            "type": "heatmapgl"
           }
          ],
          "histogram": [
           {
            "marker": {
             "pattern": {
              "fillmode": "overlay",
              "size": 10,
              "solidity": 0.2
             }
            },
            "type": "histogram"
           }
          ],
          "histogram2d": [
           {
            "colorbar": {
             "outlinewidth": 0,
             "ticks": ""
            },
            "colorscale": [
             [
              0,
              "#0d0887"
             ],
             [
              0.1111111111111111,
              "#46039f"
             ],
             [
              0.2222222222222222,
              "#7201a8"
             ],
             [
              0.3333333333333333,
              "#9c179e"
             ],
             [
              0.4444444444444444,
              "#bd3786"
             ],
             [
              0.5555555555555556,
              "#d8576b"
             ],
             [
              0.6666666666666666,
              "#ed7953"
             ],
             [
              0.7777777777777778,
              "#fb9f3a"
             ],
             [
              0.8888888888888888,
              "#fdca26"
             ],
             [
              1,
              "#f0f921"
             ]
            ],
            "type": "histogram2d"
           }
          ],
          "histogram2dcontour": [
           {
            "colorbar": {
             "outlinewidth": 0,
             "ticks": ""
            },
            "colorscale": [
             [
              0,
              "#0d0887"
             ],
             [
              0.1111111111111111,
              "#46039f"
             ],
             [
              0.2222222222222222,
              "#7201a8"
             ],
             [
              0.3333333333333333,
              "#9c179e"
             ],
             [
              0.4444444444444444,
              "#bd3786"
             ],
             [
              0.5555555555555556,
              "#d8576b"
             ],
             [
              0.6666666666666666,
              "#ed7953"
             ],
             [
              0.7777777777777778,
              "#fb9f3a"
             ],
             [
              0.8888888888888888,
              "#fdca26"
             ],
             [
              1,
              "#f0f921"
             ]
            ],
            "type": "histogram2dcontour"
           }
          ],
          "mesh3d": [
           {
            "colorbar": {
             "outlinewidth": 0,
             "ticks": ""
            },
            "type": "mesh3d"
           }
          ],
          "parcoords": [
           {
            "line": {
             "colorbar": {
              "outlinewidth": 0,
              "ticks": ""
             }
            },
            "type": "parcoords"
           }
          ],
          "pie": [
           {
            "automargin": true,
            "type": "pie"
           }
          ],
          "scatter": [
           {
            "fillpattern": {
             "fillmode": "overlay",
             "size": 10,
             "solidity": 0.2
            },
            "type": "scatter"
           }
          ],
          "scatter3d": [
           {
            "line": {
             "colorbar": {
              "outlinewidth": 0,
              "ticks": ""
             }
            },
            "marker": {
             "colorbar": {
              "outlinewidth": 0,
              "ticks": ""
             }
            },
            "type": "scatter3d"
           }
          ],
          "scattercarpet": [
           {
            "marker": {
             "colorbar": {
              "outlinewidth": 0,
              "ticks": ""
             }
            },
            "type": "scattercarpet"
           }
          ],
          "scattergeo": [
           {
            "marker": {
             "colorbar": {
              "outlinewidth": 0,
              "ticks": ""
             }
            },
            "type": "scattergeo"
           }
          ],
          "scattergl": [
           {
            "marker": {
             "colorbar": {
              "outlinewidth": 0,
              "ticks": ""
             }
            },
            "type": "scattergl"
           }
          ],
          "scattermapbox": [
           {
            "marker": {
             "colorbar": {
              "outlinewidth": 0,
              "ticks": ""
             }
            },
            "type": "scattermapbox"
           }
          ],
          "scatterpolar": [
           {
            "marker": {
             "colorbar": {
              "outlinewidth": 0,
              "ticks": ""
             }
            },
            "type": "scatterpolar"
           }
          ],
          "scatterpolargl": [
           {
            "marker": {
             "colorbar": {
              "outlinewidth": 0,
              "ticks": ""
             }
            },
            "type": "scatterpolargl"
           }
          ],
          "scatterternary": [
           {
            "marker": {
             "colorbar": {
              "outlinewidth": 0,
              "ticks": ""
             }
            },
            "type": "scatterternary"
           }
          ],
          "surface": [
           {
            "colorbar": {
             "outlinewidth": 0,
             "ticks": ""
            },
            "colorscale": [
             [
              0,
              "#0d0887"
             ],
             [
              0.1111111111111111,
              "#46039f"
             ],
             [
              0.2222222222222222,
              "#7201a8"
             ],
             [
              0.3333333333333333,
              "#9c179e"
             ],
             [
              0.4444444444444444,
              "#bd3786"
             ],
             [
              0.5555555555555556,
              "#d8576b"
             ],
             [
              0.6666666666666666,
              "#ed7953"
             ],
             [
              0.7777777777777778,
              "#fb9f3a"
             ],
             [
              0.8888888888888888,
              "#fdca26"
             ],
             [
              1,
              "#f0f921"
             ]
            ],
            "type": "surface"
           }
          ],
          "table": [
           {
            "cells": {
             "fill": {
              "color": "#EBF0F8"
             },
             "line": {
              "color": "white"
             }
            },
            "header": {
             "fill": {
              "color": "#C8D4E3"
             },
             "line": {
              "color": "white"
             }
            },
            "type": "table"
           }
          ]
         },
         "layout": {
          "annotationdefaults": {
           "arrowcolor": "#2a3f5f",
           "arrowhead": 0,
           "arrowwidth": 1
          },
          "autotypenumbers": "strict",
          "coloraxis": {
           "colorbar": {
            "outlinewidth": 0,
            "ticks": ""
           }
          },
          "colorscale": {
           "diverging": [
            [
             0,
             "#8e0152"
            ],
            [
             0.1,
             "#c51b7d"
            ],
            [
             0.2,
             "#de77ae"
            ],
            [
             0.3,
             "#f1b6da"
            ],
            [
             0.4,
             "#fde0ef"
            ],
            [
             0.5,
             "#f7f7f7"
            ],
            [
             0.6,
             "#e6f5d0"
            ],
            [
             0.7,
             "#b8e186"
            ],
            [
             0.8,
             "#7fbc41"
            ],
            [
             0.9,
             "#4d9221"
            ],
            [
             1,
             "#276419"
            ]
           ],
           "sequential": [
            [
             0,
             "#0d0887"
            ],
            [
             0.1111111111111111,
             "#46039f"
            ],
            [
             0.2222222222222222,
             "#7201a8"
            ],
            [
             0.3333333333333333,
             "#9c179e"
            ],
            [
             0.4444444444444444,
             "#bd3786"
            ],
            [
             0.5555555555555556,
             "#d8576b"
            ],
            [
             0.6666666666666666,
             "#ed7953"
            ],
            [
             0.7777777777777778,
             "#fb9f3a"
            ],
            [
             0.8888888888888888,
             "#fdca26"
            ],
            [
             1,
             "#f0f921"
            ]
           ],
           "sequentialminus": [
            [
             0,
             "#0d0887"
            ],
            [
             0.1111111111111111,
             "#46039f"
            ],
            [
             0.2222222222222222,
             "#7201a8"
            ],
            [
             0.3333333333333333,
             "#9c179e"
            ],
            [
             0.4444444444444444,
             "#bd3786"
            ],
            [
             0.5555555555555556,
             "#d8576b"
            ],
            [
             0.6666666666666666,
             "#ed7953"
            ],
            [
             0.7777777777777778,
             "#fb9f3a"
            ],
            [
             0.8888888888888888,
             "#fdca26"
            ],
            [
             1,
             "#f0f921"
            ]
           ]
          },
          "colorway": [
           "#636efa",
           "#EF553B",
           "#00cc96",
           "#ab63fa",
           "#FFA15A",
           "#19d3f3",
           "#FF6692",
           "#B6E880",
           "#FF97FF",
           "#FECB52"
          ],
          "font": {
           "color": "#2a3f5f"
          },
          "geo": {
           "bgcolor": "white",
           "lakecolor": "white",
           "landcolor": "white",
           "showlakes": true,
           "showland": true,
           "subunitcolor": "#C8D4E3"
          },
          "hoverlabel": {
           "align": "left"
          },
          "hovermode": "closest",
          "mapbox": {
           "style": "light"
          },
          "paper_bgcolor": "white",
          "plot_bgcolor": "white",
          "polar": {
           "angularaxis": {
            "gridcolor": "#EBF0F8",
            "linecolor": "#EBF0F8",
            "ticks": ""
           },
           "bgcolor": "white",
           "radialaxis": {
            "gridcolor": "#EBF0F8",
            "linecolor": "#EBF0F8",
            "ticks": ""
           }
          },
          "scene": {
           "xaxis": {
            "backgroundcolor": "white",
            "gridcolor": "#DFE8F3",
            "gridwidth": 2,
            "linecolor": "#EBF0F8",
            "showbackground": true,
            "ticks": "",
            "zerolinecolor": "#EBF0F8"
           },
           "yaxis": {
            "backgroundcolor": "white",
            "gridcolor": "#DFE8F3",
            "gridwidth": 2,
            "linecolor": "#EBF0F8",
            "showbackground": true,
            "ticks": "",
            "zerolinecolor": "#EBF0F8"
           },
           "zaxis": {
            "backgroundcolor": "white",
            "gridcolor": "#DFE8F3",
            "gridwidth": 2,
            "linecolor": "#EBF0F8",
            "showbackground": true,
            "ticks": "",
            "zerolinecolor": "#EBF0F8"
           }
          },
          "shapedefaults": {
           "line": {
            "color": "#2a3f5f"
           }
          },
          "ternary": {
           "aaxis": {
            "gridcolor": "#DFE8F3",
            "linecolor": "#A2B1C6",
            "ticks": ""
           },
           "baxis": {
            "gridcolor": "#DFE8F3",
            "linecolor": "#A2B1C6",
            "ticks": ""
           },
           "bgcolor": "white",
           "caxis": {
            "gridcolor": "#DFE8F3",
            "linecolor": "#A2B1C6",
            "ticks": ""
           }
          },
          "title": {
           "x": 0.05
          },
          "xaxis": {
           "automargin": true,
           "gridcolor": "#EBF0F8",
           "linecolor": "#EBF0F8",
           "ticks": "",
           "title": {
            "standoff": 15
           },
           "zerolinecolor": "#EBF0F8",
           "zerolinewidth": 2
          },
          "yaxis": {
           "automargin": true,
           "gridcolor": "#EBF0F8",
           "linecolor": "#EBF0F8",
           "ticks": "",
           "title": {
            "standoff": 15
           },
           "zerolinecolor": "#EBF0F8",
           "zerolinewidth": 2
          }
         }
        },
        "title": {
         "text": "Coefficients and Confidence Intervals",
         "x": 0.5,
         "xanchor": "center"
        },
        "width": 700,
        "xaxis": {
         "tickangle": 45,
         "ticktext": [
          "const",
          "original",
          "1920-1929",
          "1930-1939",
          "1940-1949",
          "1950-1959",
          "1960-1969",
          "1970-1979",
          "1980-1989",
          "1990-1999",
          "2000-2009",
          "2010-2019"
         ],
         "tickvals": [
          0,
          1,
          2,
          3,
          4,
          5,
          6,
          7,
          8,
          9,
          10,
          11
         ],
         "title": {
          "text": "Predictor Variables"
         }
        },
        "yaxis": {
         "title": {
          "text": "Coefficient Value"
         }
        }
       }
      }
     },
     "metadata": {},
     "output_type": "display_data"
    }
   ],
   "source": [
    "star_popularity_coefs = plot_significance_plotly(model, \"DataStory/star_popularity.html\")"
   ]
  },
  {
   "cell_type": "code",
   "execution_count": 53,
   "metadata": {},
   "outputs": [],
   "source": [
    "get_json_from_df(star_popularity_coefs, save_path=\"DataStory/star_popularity_coefs.json\")"
   ]
  },
  {
   "cell_type": "markdown",
   "metadata": {},
   "source": [
    "## Mean and Median analysis"
   ]
  },
  {
   "cell_type": "markdown",
   "metadata": {},
   "source": [
    "In this part, we investigate whether there is a correlation between the original movies and their remakes."
   ]
  },
  {
   "cell_type": "code",
   "execution_count": 10,
   "metadata": {},
   "outputs": [],
   "source": [
    "import statsmodels.api as sm\n",
    "from sklearn.preprocessing import StandardScaler"
   ]
  },
  {
   "cell_type": "code",
   "execution_count": 11,
   "metadata": {},
   "outputs": [],
   "source": [
    "movie_remakes_df_joined = pd.merge(movie_remakes_df, df_movies, left_on=\"remake_wikidata_id\", right_on=\"wikidata_id\", how=\"inner\")\n",
    "\n",
    "list_of_remakes_columns = movie_remakes_df_joined.columns[len(movie_remakes_df.columns):]\n",
    "for column in list_of_remakes_columns:\n",
    "    movie_remakes_df_joined.rename(columns={column: f'remake_{column}'}, inplace=True)\n",
    "\n",
    "\n",
    "columns_number = len(movie_remakes_df_joined.columns)\n",
    "\n",
    "movie_remakes_df_joined = pd.merge(movie_remakes_df_joined, df_movies, left_on=\"original_wikidata_id\", right_on=\"wikidata_id\", how=\"inner\")\n",
    "list_of_originals_columns = movie_remakes_df_joined.columns[columns_number:]\n",
    "for column in list_of_originals_columns:\n",
    "    movie_remakes_df_joined.rename(columns={column: f'original_{column}'}, inplace=True)\n"
   ]
  },
  {
   "cell_type": "code",
   "execution_count": 16,
   "metadata": {},
   "outputs": [
    {
     "name": "stdout",
     "output_type": "stream",
     "text": [
      "runtime: Mean is significantly less than zero (p = 0.0002).\n",
      "runtime: Median is significantly less than zero (p = 0.0004).\n",
      "star_1_popularity: Mean is significantly less than zero (p = 0.0000).\n",
      "star_1_popularity: Median is significantly less than zero (p = 0.0000).\n",
      "star_2_popularity: Mean is significantly less than zero (p = 0.0000).\n",
      "star_2_popularity: Median is significantly less than zero (p = 0.0000).\n",
      "star_3_popularity: Mean is significantly less than zero (p = 0.0000).\n",
      "star_3_popularity: Median is significantly less than zero (p = 0.0000).\n",
      "star_4_popularity: Mean is significantly less than zero (p = 0.0000).\n",
      "star_4_popularity: Median is significantly less than zero (p = 0.0000).\n",
      "star_5_popularity: Mean is significantly less than zero (p = 0.0000).\n",
      "star_5_popularity: Median is significantly less than zero (p = 0.0000).\n",
      "Director_popularity: Mean is not significantly different from zero.\n",
      "Director_popularity: Median is not significantly different from zero.\n",
      "Writer_popularity: Mean is not significantly different from zero.\n",
      "Writer_popularity: Median is not significantly different from zero.\n",
      "Producer_popularity: Mean is not significantly different from zero.\n",
      "Producer_popularity: Median is not significantly different from zero.\n",
      "vote_average: Mean is significantly greater than zero (p = 0.0000).\n",
      "vote_average: Median is significantly greater than zero (p = 0.0000).\n",
      "vote_count: Mean is significantly less than zero (p = 0.0110).\n",
      "vote_count: Median is not significantly different from zero.\n",
      "adjusted_revenue: Mean is significantly less than zero (p = 0.0184).\n",
      "adjusted_revenue: Median is significantly less than zero (p = 0.0002).\n",
      "adjusted_budget: Mean is significantly less than zero (p = 0.0000).\n",
      "adjusted_budget: Median is significantly less than zero (p = 0.0000).\n",
      "sentiment_score: Mean is not significantly different from zero.\n",
      "sentiment_score: Median is not significantly different from zero.\n"
     ]
    }
   ],
   "source": [
    "from scipy.stats import binomtest\n",
    "from scipy.stats import ttest_1samp, wilcoxon\n",
    "import plotly.graph_objects as go\n",
    "\n",
    "\n",
    "difference_data = {}\n",
    "\n",
    "for column in numerical_columns:\n",
    "    difference = movie_remakes_df_joined[\"original_\" + column] - movie_remakes_df_joined[\"remake_\" + column]\n",
    "    difference.dropna(inplace = True)\n",
    "\n",
    "    difference_data[column] = {\"values\": difference.to_list(),\n",
    "                               \"mean\": difference.mean(),\n",
    "                                \"median\": difference.median()}\n",
    "\n",
    "    # Test mean using one-sample t-test (one-tailed)\n",
    "    stat_mean, p_value_mean = ttest_1samp(difference, 0)\n",
    "\n",
    "    # Adjust for one-tailed tests\n",
    "    p_mean_greater = p_value_mean / 2 if stat_mean > 0 else 1.0\n",
    "    p_mean_less = p_value_mean / 2 if stat_mean < 0 else 1.0\n",
    "\n",
    "    if p_mean_greater < 0.05:\n",
    "        print(f\"{column}: Mean is significantly greater than zero (p = {p_mean_greater:.4f}).\")\n",
    "    elif p_mean_less < 0.05:\n",
    "        print(f\"{column}: Mean is significantly less than zero (p = {p_mean_less:.4f}).\")\n",
    "    else:\n",
    "        print(f\"{column}: Mean is not significantly different from zero.\")\n",
    "\n",
    "    # Test median using Wilcoxon signed-rank test (one-tailed)\n",
    "    try:\n",
    "        stat_median, p_value_median = wilcoxon(difference)\n",
    "\n",
    "        # Adjust for one-tailed tests\n",
    "        p_median_greater = p_value_median / 2 if np.median(difference) > 0 else 1.0\n",
    "        p_median_less = p_value_median / 2 if np.median(difference) < 0 else 1.0\n",
    "\n",
    "        if p_median_greater < 0.05:\n",
    "            print(f\"{column}: Median is significantly greater than zero (p = {p_median_greater:.4f}).\")\n",
    "        elif p_median_less < 0.05:\n",
    "            print(f\"{column}: Median is significantly less than zero (p = {p_median_less:.4f}).\")\n",
    "        else:\n",
    "            print(f\"{column}: Median is not significantly different from zero.\")\n",
    "    except ValueError:\n",
    "        print(f\"{column}: Wilcoxon test not applicable due to small sample size or zero differences.\")\n",
    "\n",
    "\n",
    "    mean_diff = difference.mean()\n",
    "    median_diff = difference.median()\n",
    "    # Create histogram\n",
    "    fig = go.Figure()\n",
    "\n",
    "    # Add histogram for the differences\n",
    "    fig.add_trace(\n",
    "        go.Histogram(\n",
    "            x=difference,\n",
    "            nbinsx=20,\n",
    "            marker_color='blue',\n",
    "            opacity=0.7,\n",
    "            name='Difference'\n",
    "        )\n",
    "    )\n",
    "\n",
    "    fig.add_trace(\n",
    "        go.Scatter(\n",
    "            x=[mean_diff, mean_diff],\n",
    "            y=[0, max(np.histogram(difference, bins=20)[0])],\n",
    "            mode=\"lines\",\n",
    "            line=dict(color=\"red\", width=2, dash=\"dash\"),\n",
    "            name=f\"Mean ({mean_diff:.2f})\",\n",
    "        )\n",
    "    )\n",
    "\n",
    "    # Add median line\n",
    "    fig.add_trace(\n",
    "        go.Scatter(\n",
    "            x=[median_diff, median_diff],\n",
    "            y=[0, max(np.histogram(difference, bins=20)[0])],\n",
    "            mode=\"lines\",\n",
    "            line=dict(color=\"green\", width=2, dash=\"dot\"),\n",
    "            name=f\"Median ({median_diff:.2f})\",\n",
    "        )\n",
    "    )\n",
    "\n",
    "    # Update layout\n",
    "    fig.update_layout(\n",
    "        title={\n",
    "            'text': 'Difference Distribution',\n",
    "            'x': 0.5,  # Centers the title\n",
    "            'xanchor': 'center'\n",
    "        },\n",
    "        xaxis_title=\"Difference\",\n",
    "        yaxis_title=\"Frequency\",\n",
    "        barmode=\"overlay\",\n",
    "        template=\"plotly_white\",\n",
    "        legend=dict(x=0.9, y=0.9),\n",
    "        autosize=True,  # Enables responsive resizing\n",
    "        height=450,     # Height in pixels (adjust based on your needs)\n",
    "        width=700,       # Width in pixels\n",
    "    )\n",
    "\n",
    "    import plotly.io as pio\n",
    "\n",
    "    pio.write_html(fig, f\"DataStory/Differences/{column}_difference_distplot.html\", auto_open=False, include_plotlyjs=\"cdn\")\n",
    "    # Show plot\n",
    "    # fig.show()\n",
    "\n",
    "    \n",
    "\n",
    "# with open(\"DataStory/differences.json\", \"w\") as f:\n",
    "#     json.dump(difference_data, f, indent=4)"
   ]
  },
  {
   "cell_type": "markdown",
   "metadata": {},
   "source": [
    "## Regression analysis"
   ]
  },
  {
   "cell_type": "code",
   "execution_count": 36,
   "metadata": {},
   "outputs": [
    {
     "data": {
      "text/plain": [
       "['runtime',\n",
       " 'star_1_popularity',\n",
       " 'star_2_popularity',\n",
       " 'star_3_popularity',\n",
       " 'star_4_popularity',\n",
       " 'star_5_popularity',\n",
       " 'Director_popularity',\n",
       " 'Writer_popularity',\n",
       " 'Producer_popularity',\n",
       " 'vote_average',\n",
       " 'vote_count',\n",
       " 'adjusted_revenue',\n",
       " 'adjusted_budget',\n",
       " 'sentiment_score']"
      ]
     },
     "execution_count": 36,
     "metadata": {},
     "output_type": "execute_result"
    }
   ],
   "source": [
    "numerical_columns"
   ]
  },
  {
   "cell_type": "code",
   "execution_count": 43,
   "metadata": {},
   "outputs": [],
   "source": [
    "# columns_to_remove = [\"star_2_popularity\", \"star_2_popularity\", \"star_3_popularity\", \"star_4_popularity\", \"star_5_popularity\"]\n",
    "\n",
    "regression_columns = [column for column in numerical_columns if \"_popularity\" not in column]\n",
    "regression_columns.remove(\"sentiment_score\")\n",
    "regression_columns.append(\"star_1_popularity\")"
   ]
  },
  {
   "cell_type": "code",
   "execution_count": 46,
   "metadata": {},
   "outputs": [
    {
     "data": {
      "text/plain": [
       "['runtime',\n",
       " 'vote_average',\n",
       " 'vote_count',\n",
       " 'adjusted_revenue',\n",
       " 'adjusted_budget',\n",
       " 'star_1_popularity']"
      ]
     },
     "execution_count": 46,
     "metadata": {},
     "output_type": "execute_result"
    }
   ],
   "source": [
    "regression_columns"
   ]
  },
  {
   "cell_type": "code",
   "execution_count": 47,
   "metadata": {},
   "outputs": [
    {
     "name": "stdout",
     "output_type": "stream",
     "text": [
      "number of remaining rows for remake_runtime = 163\n",
      "                            OLS Regression Results                            \n",
      "==============================================================================\n",
      "Dep. Variable:         remake_runtime   R-squared:                       0.195\n",
      "Model:                            OLS   Adj. R-squared:                  0.190\n",
      "Method:                 Least Squares   F-statistic:                     39.05\n",
      "Date:                Fri, 20 Dec 2024   Prob (F-statistic):           3.55e-09\n",
      "Time:                        11:29:18   Log-Likelihood:                -213.59\n",
      "No. Observations:                 163   AIC:                             431.2\n",
      "Df Residuals:                     161   BIC:                             437.4\n",
      "Df Model:                           1                                         \n",
      "Covariance Type:            nonrobust                                         \n",
      "====================================================================================\n",
      "                       coef    std err          t      P>|t|      [0.025      0.975]\n",
      "------------------------------------------------------------------------------------\n",
      "const             1.735e-16      0.071   2.45e-15      1.000      -0.140       0.140\n",
      "original_runtime     0.4418      0.071      6.249      0.000       0.302       0.581\n",
      "==============================================================================\n",
      "Omnibus:                       69.786   Durbin-Watson:                   2.131\n",
      "Prob(Omnibus):                  0.000   Jarque-Bera (JB):              281.446\n",
      "Skew:                           1.597   Prob(JB):                     7.67e-62\n",
      "Kurtosis:                       8.590   Cond. No.                         1.00\n",
      "==============================================================================\n",
      "\n",
      "Notes:\n",
      "[1] Standard Errors assume that the covariance matrix of the errors is correctly specified.\n",
      "###################################################################################\n",
      "number of remaining rows for remake_vote_average = 164\n",
      "                             OLS Regression Results                            \n",
      "===============================================================================\n",
      "Dep. Variable:     remake_vote_average   R-squared:                       0.154\n",
      "Model:                             OLS   Adj. R-squared:                  0.143\n",
      "Method:                  Least Squares   F-statistic:                     14.61\n",
      "Date:                 Fri, 20 Dec 2024   Prob (F-statistic):           1.48e-06\n",
      "Time:                         11:29:18   Log-Likelihood:                -219.03\n",
      "No. Observations:                  164   AIC:                             444.1\n",
      "Df Residuals:                      161   BIC:                             453.4\n",
      "Df Model:                            2                                         \n",
      "Covariance Type:             nonrobust                                         \n",
      "==============================================================================================\n",
      "                                 coef    std err          t      P>|t|      [0.025      0.975]\n",
      "----------------------------------------------------------------------------------------------\n",
      "const                      -1.069e-15      0.073  -1.47e-14      1.000      -0.143       0.143\n",
      "original_vote_average          0.3580      0.073      4.932      0.000       0.215       0.501\n",
      "original_star_1_popularity    -0.1440      0.073     -1.984      0.049      -0.287      -0.001\n",
      "==============================================================================\n",
      "Omnibus:                       34.946   Durbin-Watson:                   1.858\n",
      "Prob(Omnibus):                  0.000   Jarque-Bera (JB):               72.145\n",
      "Skew:                          -0.958   Prob(JB):                     2.16e-16\n",
      "Kurtosis:                       5.625   Cond. No.                         1.05\n",
      "==============================================================================\n",
      "\n",
      "Notes:\n",
      "[1] Standard Errors assume that the covariance matrix of the errors is correctly specified.\n",
      "###################################################################################\n",
      "number of remaining rows for remake_vote_count = 164\n",
      "                            OLS Regression Results                            \n",
      "==============================================================================\n",
      "Dep. Variable:      remake_vote_count   R-squared:                       0.036\n",
      "Model:                            OLS   Adj. R-squared:                  0.030\n",
      "Method:                 Least Squares   F-statistic:                     6.019\n",
      "Date:                Fri, 20 Dec 2024   Prob (F-statistic):             0.0152\n",
      "Time:                        11:29:18   Log-Likelihood:                -229.71\n",
      "No. Observations:                 164   AIC:                             463.4\n",
      "Df Residuals:                     162   BIC:                             469.6\n",
      "Df Model:                           1                                         \n",
      "Covariance Type:            nonrobust                                         \n",
      "==============================================================================================\n",
      "                                 coef    std err          t      P>|t|      [0.025      0.975]\n",
      "----------------------------------------------------------------------------------------------\n",
      "const                       2.776e-17      0.077    3.6e-16      1.000      -0.152       0.152\n",
      "original_star_1_popularity     0.1893      0.077      2.453      0.015       0.037       0.342\n",
      "==============================================================================\n",
      "Omnibus:                      252.135   Durbin-Watson:                   2.241\n",
      "Prob(Omnibus):                  0.000   Jarque-Bera (JB):            27385.899\n",
      "Skew:                           6.654   Prob(JB):                         0.00\n",
      "Kurtosis:                      64.892   Cond. No.                         1.00\n",
      "==============================================================================\n",
      "\n",
      "Notes:\n",
      "[1] Standard Errors assume that the covariance matrix of the errors is correctly specified.\n",
      "###################################################################################\n",
      "number of remaining rows for remake_adjusted_revenue = 103\n",
      "                               OLS Regression Results                              \n",
      "===================================================================================\n",
      "Dep. Variable:     remake_adjusted_revenue   R-squared:                       0.076\n",
      "Model:                                 OLS   Adj. R-squared:                  0.067\n",
      "Method:                      Least Squares   F-statistic:                     8.361\n",
      "Date:                     Fri, 20 Dec 2024   Prob (F-statistic):            0.00469\n",
      "Time:                             11:29:18   Log-Likelihood:                -142.05\n",
      "No. Observations:                      103   AIC:                             288.1\n",
      "Df Residuals:                          101   BIC:                             293.4\n",
      "Df Model:                                1                                         \n",
      "Covariance Type:                 nonrobust                                         \n",
      "=============================================================================================\n",
      "                                coef    std err          t      P>|t|      [0.025      0.975]\n",
      "---------------------------------------------------------------------------------------------\n",
      "const                      2.776e-17      0.096    2.9e-16      1.000      -0.190       0.190\n",
      "original_adjusted_revenue     0.2765      0.096      2.892      0.005       0.087       0.466\n",
      "==============================================================================\n",
      "Omnibus:                      103.779   Durbin-Watson:                   2.019\n",
      "Prob(Omnibus):                  0.000   Jarque-Bera (JB):             1191.135\n",
      "Skew:                           3.401   Prob(JB):                    2.23e-259\n",
      "Kurtosis:                      18.208   Cond. No.                         1.00\n",
      "==============================================================================\n",
      "\n",
      "Notes:\n",
      "[1] Standard Errors assume that the covariance matrix of the errors is correctly specified.\n",
      "###################################################################################\n",
      "number of remaining rows for remake_adjusted_budget = 94\n",
      "                              OLS Regression Results                              \n",
      "==================================================================================\n",
      "Dep. Variable:     remake_adjusted_budget   R-squared:                       0.073\n",
      "Model:                                OLS   Adj. R-squared:                  0.053\n",
      "Method:                     Least Squares   F-statistic:                     3.603\n",
      "Date:                    Fri, 20 Dec 2024   Prob (F-statistic):             0.0312\n",
      "Time:                            11:29:18   Log-Likelihood:                -129.80\n",
      "No. Observations:                      94   AIC:                             265.6\n",
      "Df Residuals:                          91   BIC:                             273.2\n",
      "Df Model:                               2                                         \n",
      "Covariance Type:                nonrobust                                         \n",
      "=========================================================================================\n",
      "                            coef    std err          t      P>|t|      [0.025      0.975]\n",
      "-----------------------------------------------------------------------------------------\n",
      "const                 -2.151e-16      0.101  -2.13e-15      1.000      -0.200       0.200\n",
      "original_vote_average     0.2853      0.125      2.275      0.025       0.036       0.534\n",
      "original_vote_count      -0.3133      0.125     -2.498      0.014      -0.562      -0.064\n",
      "==============================================================================\n",
      "Omnibus:                       31.178   Durbin-Watson:                   2.002\n",
      "Prob(Omnibus):                  0.000   Jarque-Bera (JB):               51.720\n",
      "Skew:                           1.416   Prob(JB):                     5.88e-12\n",
      "Kurtosis:                       5.276   Cond. No.                         1.98\n",
      "==============================================================================\n",
      "\n",
      "Notes:\n",
      "[1] Standard Errors assume that the covariance matrix of the errors is correctly specified.\n",
      "###################################################################################\n",
      "number of remaining rows for remake_star_1_popularity = 165\n",
      "                               OLS Regression Results                               \n",
      "====================================================================================\n",
      "Dep. Variable:     remake_star_1_popularity   R-squared:                       0.116\n",
      "Model:                                  OLS   Adj. R-squared:                  0.110\n",
      "Method:                       Least Squares   F-statistic:                     21.29\n",
      "Date:                      Fri, 20 Dec 2024   Prob (F-statistic):           7.97e-06\n",
      "Time:                              11:29:18   Log-Likelihood:                -224.00\n",
      "No. Observations:                       165   AIC:                             452.0\n",
      "Df Residuals:                           163   BIC:                             458.2\n",
      "Df Model:                                 1                                         \n",
      "Covariance Type:                  nonrobust                                         \n",
      "==============================================================================================\n",
      "                                 coef    std err          t      P>|t|      [0.025      0.975]\n",
      "----------------------------------------------------------------------------------------------\n",
      "const                       1.735e-17      0.074   2.35e-16      1.000      -0.145       0.145\n",
      "original_star_1_popularity     0.3399      0.074      4.614      0.000       0.194       0.485\n",
      "==============================================================================\n",
      "Omnibus:                       29.854   Durbin-Watson:                   1.846\n",
      "Prob(Omnibus):                  0.000   Jarque-Bera (JB):               40.045\n",
      "Skew:                           1.075   Prob(JB):                     2.02e-09\n",
      "Kurtosis:                       4.097   Cond. No.                         1.00\n",
      "==============================================================================\n",
      "\n",
      "Notes:\n",
      "[1] Standard Errors assume that the covariance matrix of the errors is correctly specified.\n",
      "###################################################################################\n"
     ]
    }
   ],
   "source": [
    "original_num_columns = [\"original_\" + column for column in regression_columns]\n",
    "remake_num_columns = [\"remake_\" + column for column in regression_columns]\n",
    "\n",
    "\n",
    "def backward_elimination(X, y, significance_level=0.05):\n",
    "    num_vars = X.shape[1]\n",
    "    for _ in range(num_vars):\n",
    "        model = sm.OLS(y, X).fit()\n",
    "        non_constant_pvalues = model.pvalues.drop(labels=['const'], errors='ignore')\n",
    "        max_p_value = non_constant_pvalues.max()\n",
    "        if max_p_value > significance_level:\n",
    "            excluded_feature = non_constant_pvalues.idxmax()\n",
    "            # print(f'Dropping {excluded_feature} with p-value {max_p_value:.4f}')\n",
    "            X = X.drop(columns=[excluded_feature])\n",
    "        else:\n",
    "            break\n",
    "    return X, model\n",
    "\n",
    "results_table = pd.DataFrame(index=remake_num_columns, columns=original_num_columns)\n",
    "\n",
    "for remake_column in remake_num_columns:\n",
    "    data = movie_remakes_df_joined.loc[:, original_num_columns + [remake_column]]\n",
    "    data.dropna(inplace = True)\n",
    "    print(f\"number of remaining rows for {remake_column} = {len(data)}\")\n",
    "    scaler = StandardScaler()\n",
    "    data_scaled = scaler.fit_transform(data)\n",
    "    data_scaled = pd.DataFrame(data_scaled, columns = data.columns)\n",
    "    X, y = data_scaled[original_num_columns], data_scaled[[remake_column]]\n",
    "    X = sm.add_constant(X)\n",
    "    X, model = backward_elimination(X, y)\n",
    "\n",
    "    for feature in original_num_columns:\n",
    "        if feature in model.params.index:\n",
    "            # Store the coefficient (or you can format it with p-value if needed)\n",
    "            results_table.loc[remake_column, feature] = f\"{model.params[feature]:.4f} (p={model.pvalues[feature]:.4f})\"\n",
    "        else:\n",
    "            # Mark as not significant if the feature was eliminated\n",
    "            results_table.loc[remake_column, feature] = np.nan\n",
    "\n",
    "    print(model.summary())\n",
    "    print(\"###################################################################################\")\n",
    "\n",
    "\n",
    "# Save to a CSV file\n",
    "results_table.to_csv(\"DataStory/regression_results.csv\", index=True)\n"
   ]
  },
  {
   "cell_type": "markdown",
   "metadata": {},
   "source": [
    "## 2 - Patterns of Movie to be Remade"
   ]
  },
  {
   "cell_type": "markdown",
   "metadata": {},
   "source": [
    "In this part, we want to investigate which factors can impact a movie to be remade or not. In other words, we want to investigate what factors are different in original movies and the rest of the dataset."
   ]
  },
  {
   "cell_type": "markdown",
   "metadata": {},
   "source": [
    "We start by investigating the revenue factor to see whether revenue is an important factor."
   ]
  },
  {
   "cell_type": "code",
   "execution_count": 146,
   "metadata": {
    "ExecuteTime": {
     "end_time": "2024-11-15T21:33:41.527872Z",
     "start_time": "2024-11-15T21:33:40.474256Z"
    }
   },
   "outputs": [
    {
     "data": {
      "image/png": "[encoded data removed]",
      "text/plain": [
       "<Figure size 2000x1000 with 2 Axes>"
      ]
     },
     "metadata": {},
     "output_type": "display_data"
    }
   ],
   "source": [
    "# plot distribition of remakes and original movies revenues\n",
    "\n",
    "fig, ax = plt.subplots(1, 2, figsize=(20, 10))\n",
    "\n",
    "sns.histplot(original_df[\"movie_revenue\"], ax=ax[0], color=\"blue\", kde=True)\n",
    "ax[0].set_title(\"Original Movies Revenue Distribution\")\n",
    "ax[0].set_xlabel(\"Revenue\")\n",
    "ax[0].set_ylabel(\"Frequency\")\n",
    "\n",
    "sns.histplot(df_movies[\"movie_revenue\"], ax=ax[1], color=\"red\", kde=True)\n",
    "ax[1].set_title(\"Whole Movies Revenue Distribution\")\n",
    "ax[1].set_xlabel(\"Revenue\")\n",
    "ax[1].set_ylabel(\"Frequency\")\n",
    "\n",
    "plt.show()"
   ]
  },
  {
   "cell_type": "code",
   "execution_count": 148,
   "metadata": {
    "ExecuteTime": {
     "end_time": "2024-11-15T21:33:41.672009Z",
     "start_time": "2024-11-15T21:33:41.663322Z"
    }
   },
   "outputs": [
    {
     "name": "stdout",
     "output_type": "stream",
     "text": [
      "Mean revenue for original movies: 41623667.003802285\n",
      "Mean revenue for whole dataset: 41042168.831674956\n"
     ]
    }
   ],
   "source": [
    "print(\"Mean revenue for original movies:\", original_df[\"movie_revenue\"].mean())\n",
    "\n",
    "print(\"Mean revenue for whole dataset:\", df_movies[\"movie_revenue\"].mean())\n"
   ]
  },
  {
   "cell_type": "code",
   "execution_count": 149,
   "metadata": {
    "ExecuteTime": {
     "end_time": "2024-11-15T21:33:42.549502Z",
     "start_time": "2024-11-15T21:33:41.806484Z"
    }
   },
   "outputs": [
    {
     "data": {
      "image/png": "[encoded data removed]",
      "text/plain": [
       "<Figure size 1000x600 with 1 Axes>"
      ]
     },
     "metadata": {},
     "output_type": "display_data"
    }
   ],
   "source": [
    "# scatter plot of revenues and runtimes of original movies\n",
    "plt.figure(figsize=(10, 6))\n",
    "\n",
    "sns.scatterplot(data=df_movies, x=\"movie_revenue\", y=\"cmu_year\", color=\"green\", alpha=0.1, label=\"All Movies\")\n",
    "\n",
    "sns.scatterplot(data=original_df, x=\"movie_revenue\", y=\"cmu_year\", label=\"Original Movies\")\n",
    "\n",
    "\n",
    "plt.title(\"Revenue of Original and Whole Movies Over Time\")\n",
    "plt.xlabel(\"Revenue\")\n",
    "plt.ylabel(\"Year\")\n",
    "plt.show()"
   ]
  },
  {
   "cell_type": "markdown",
   "metadata": {},
   "source": [
    "In order to investigate whether the revenue of the movies which have been remade (originals) and the whole set of movies are different we apply a **student's t** test."
   ]
  },
  {
   "cell_type": "code",
   "execution_count": 168,
   "metadata": {
    "ExecuteTime": {
     "end_time": "2024-11-15T21:33:42.727623Z",
     "start_time": "2024-11-15T21:33:42.713731Z"
    }
   },
   "outputs": [
    {
     "name": "stdout",
     "output_type": "stream",
     "text": [
      "t-statistic: 0.08469796280101127, p-value: 0.9325028916963388\n"
     ]
    }
   ],
   "source": [
    "from scipy.stats import ttest_ind\n",
    "\n",
    "t_stat, p_value = ttest_ind(original_df[\"movie_revenue\"].dropna(), df_movies[\"movie_revenue\"].dropna())\n",
    "print(f\"t-statistic: {t_stat}, p-value: {p_value}\")\n"
   ]
  },
  {
   "cell_type": "markdown",
   "metadata": {},
   "source": [
    "We observe that the p-value is very high meaning that we cannot reject the null hypothesis that the distributions are the same."
   ]
  },
  {
   "cell_type": "markdown",
   "metadata": {},
   "source": [
    "## Regression Analysis"
   ]
  },
  {
   "cell_type": "markdown",
   "metadata": {},
   "source": [
    "We want to see whether a movie being remade or not affects its revenue or not. We apply regression and look at the significance of the coefficients."
   ]
  },
  {
   "cell_type": "markdown",
   "metadata": {},
   "source": [
    "To examine whether being a remake impacts a movie's revenue, we apply a linear regression model. In this analysis, the dependent variable $y$ represents the movie revenue, while the independent variables $X$ include features such as `remakes_bool` (indicating if a movie is a remake), `vote_average`, `vote_count`, `runtime`, `budget`, and `popularity`. We use a standardized version of $X$ for better interpretability of coefficients.\n",
    "\n",
    "The regression model can be written as:\n",
    "$$\n",
    "y = \\beta_0 + \\beta_1 \\cdot {remakes\\_bool} + \\beta_2 \\cdot {vote\\_average} + \\dots + \\beta_p \\cdot \\text{popularity} + \\epsilon\n",
    "\n",
    "$$\n",
    "\n",
    "where $\\beta_i$ represents the coefficients of each feature, and $\\epsilon$ is the error term.\n",
    "\n",
    "After fitting the model, we obtain the coefficients $\\beta$, which indicate the effect of each feature on revenue. To test the statistical significance of each coefficient, we calculate the t-statistics:\n",
    "$$\n",
    "t_i = \\frac{\\beta_i}{\\text{SE}(\\beta_i)}\n",
    "$$\n",
    "where $\\text{SE}(\\beta_i)$ is the standard error of $\\beta_i$, estimated by:\n",
    "$$\n",
    "\\text{SE}(\\beta_i) = \\sqrt{\\frac{\\text{MSE}}{\\sum (X_i - \\bar{X}_i)^2}}\n",
    "$$\n",
    "with $\\text{MSE}$ as the mean squared error.\n",
    "\n",
    "Using the t-values, we compute the p-values to determine if each coefficient is significantly different from zero. A low p-value (typically $< 0.05$) indicates that the feature significantly affects movie revenue.\n",
    "\n",
    "Finally, the model's $R^2$ value provides an overall measure of fit, showing the proportion of variance in revenue explained by the features in the model.\n"
   ]
  },
  {
   "cell_type": "code",
   "execution_count": 171,
   "metadata": {
    "ExecuteTime": {
     "end_time": "2024-11-15T21:33:43.733826Z",
     "start_time": "2024-11-15T21:33:43.708825Z"
    }
   },
   "outputs": [],
   "source": [
    "df_movies[\"remakes_bool\"] = 0\n",
    "df_movies[\"remakes_bool\"] = df_movies[\"remakes_bool\"].astype(float)\n",
    "df_movies.loc[df_movies[\"wikidata_id\"].isin(original_movies_wikidata), \"remakes_bool\"] = 1\n",
    "\n",
    "df_movies_regression = df_movies[[\"movie_revenue\", \"remakes_bool\", \"vote_average\", \"vote_count\", \"runtime\", \"budget\", \"popularity\"]].dropna()"
   ]
  },
  {
   "cell_type": "code",
   "execution_count": null,
   "metadata": {
    "ExecuteTime": {
     "end_time": "2024-11-15T21:33:44.174648Z",
     "start_time": "2024-11-15T21:33:43.854432Z"
    }
   },
   "outputs": [
    {
     "data": {
      "image/png": "[encoded data removed]",
      "text/plain": [
       "<Figure size 1000x600 with 1 Axes>"
      ]
     },
     "metadata": {},
     "output_type": "display_data"
    }
   ],
   "source": [
    "scaler = StandardScaler()\n",
    "\n",
    "X = df_movies_regression.drop(columns=[\"movie_revenue\"])\n",
    "y = df_movies_regression[\"movie_revenue\"]\n",
    "\n",
    "X_scaled = scaler.fit_transform(X)\n",
    "\n",
    "regressor = LinearRegression()\n",
    "regressor.fit(X_scaled, y)\n",
    "\n",
    "y_pred = regressor.predict(X_scaled)\n",
    "\n",
    "mse = mean_squared_error(y, y_pred)\n",
    "r_squared = regressor.score(X_scaled, y)\n",
    "\n",
    "# plot the predicted vs actual revenue\n",
    "\n",
    "plt.figure(figsize=(10, 6))\n",
    "plt.scatter(y, y_pred, alpha=0.5)\n",
    "plt.plot([y.min(), y.max()], [y.min(), y.max()], color=\"red\", linestyle=\"--\")\n",
    "plt.xlabel(\"Actual Revenue\")\n",
    "plt.ylabel(\"Predicted Revenue\")\n",
    "plt.title(\"Actual vs. Predicted Revenue\")\n",
    "plt.show()\n"
   ]
  },
  {
   "cell_type": "code",
   "execution_count": null,
   "metadata": {
    "ExecuteTime": {
     "end_time": "2024-11-15T21:33:44.320502Z",
     "start_time": "2024-11-15T21:33:44.308076Z"
    }
   },
   "outputs": [
    {
     "name": "stdout",
     "output_type": "stream",
     "text": [
      "        Feature   Coefficient    t-value   p-value\n",
      "0  remakes_bool  7.938167e+05   0.897335  0.369571\n",
      "1  vote_average -3.068303e+06  -3.468428  0.000527\n",
      "2    vote_count  6.800233e+07  76.870258  0.000000\n",
      "3       runtime  2.148477e+06   2.428652  0.015180\n",
      "4        budget  5.800509e+07  65.569315  0.000000\n",
      "5    popularity  8.030862e+06   9.078137  0.000000\n"
     ]
    }
   ],
   "source": [
    "# check the statistical significance of the regression coefficients\n",
    "\n",
    "n = len(y)\n",
    "p = X_scaled.shape[1]\n",
    "\n",
    "dof = n - p - 1\n",
    "\n",
    "t_values = regressor.coef_ / np.sqrt(mse / np.sum((X_scaled - X_scaled.mean(axis=0)) ** 2, axis=0))\n",
    "p_values = 2 * (1 - t.cdf(np.abs(t_values), dof))\n",
    "\n",
    "# Create a DataFrame to display the results\n",
    "results = pd.DataFrame({\n",
    "    \"Feature\": X.columns,\n",
    "    \"Coefficient\": regressor.coef_,\n",
    "    \"t-value\": t_values,\n",
    "    \"p-value\": p_values\n",
    "})\n",
    "\n",
    "print(results)"
   ]
  },
  {
   "cell_type": "markdown",
   "metadata": {},
   "source": [
    "## 3 - Sentiment analysis of the movie endings"
   ]
  },
  {
   "cell_type": "markdown",
   "metadata": {},
   "source": [
    "We can also investigate the sentiment of the movie plots / summaries to see whether they are important factors in movie remakes."
   ]
  },
  {
   "cell_type": "code",
   "execution_count": 174,
   "metadata": {
    "ExecuteTime": {
     "end_time": "2024-11-15T21:33:44.511577Z",
     "start_time": "2024-11-15T21:33:44.451342Z"
    }
   },
   "outputs": [],
   "source": [
    "OPENAI_API_KEY=\"YOUR_API_KEY\"\n",
    "gpt4_client = openai.OpenAI(api_key=OPENAI_API_KEY)\n"
   ]
  },
  {
   "cell_type": "code",
   "execution_count": 175,
   "metadata": {
    "ExecuteTime": {
     "end_time": "2024-11-15T21:33:44.663144Z",
     "start_time": "2024-11-15T21:33:44.652821Z"
    }
   },
   "outputs": [],
   "source": [
    "df_just_summaries = df_movies[['Wikipedia_movie_ID', 'movie_summary']]"
   ]
  },
  {
   "cell_type": "code",
   "execution_count": 176,
   "metadata": {
    "ExecuteTime": {
     "end_time": "2024-11-15T21:33:44.914232Z",
     "start_time": "2024-11-15T21:33:44.901632Z"
    }
   },
   "outputs": [],
   "source": [
    "# A positive, negative and neutral sentiment examples\n",
    "# Negative sentiment means sad ending, positive sentiment means happy ending, neutral sentiment means the ending is neither happy nor sad\n",
    "negative_sentiment_example = \"Neil Perry , Todd Anderson , Knox Overstreet , Charlie Dalton , Richard Cameron , Steven Meeks , and Gerard Pitts  are senior students of the Welton Academy, an elite prep school, whose ethos is defined by the headmaster Gale Nolan  as \"\"tradition, honor, discipline and excellence\"\". Both Neil and Todd are under harsh parental pressure to become a doctor and a lawyer respectively, but Todd wants to be a writer, and Neil discovers a passion for acting. The teaching methods of their new English teacher, John Keating , are unorthodox by Welton standards, whistling the 1812 Overture and taking them out of the classroom to focus on the idea of carpe diem. He tells the students that they may call him \"\"O Captain! My Captain!,\"\" in reference to a Walt Whitman poem, if they feel daring. In another class, Keating has Neil read the introduction to their poetry textbook, prescribing a mathematical formula to rate the quality of poetry which Keating finds ridiculous, and he instructs his pupils to rip the introduction out of their books, to the amazement of one of his colleagues. Later he has the students stand on his desk in order to look at the world in a different way. The boys discover that Keating was a former student at Welton and decide to secretly revive the school literary club, the \"\"Dead Poets Society,\"\" to which Keating had belonged, meeting in a cave off the school grounds. Due to self-consciousness, Todd fails to complete a writing assignment and Keating takes him through an exercise in self-expression, realizing the potential he possesses. Charlie publishes an unauthorized article in the school newspaper, asserting that girls should be admitted to Welton. At the resulting school inquiry, he offers a phone call from God in support, incurring the headmaster's wrath. After being lectured by Headmaster Nolan about his teaching methods, Keating tells the boys to \"\"be wise, not stupid\"\" about protesting against the system. Knox meets and falls in love with a girl named Chris, using his new-found love of poetry to woo her. He presents one of these poems in class, and is applauded by Keating for writing a heartfelt poem on love. Knox travels to Chris's public school and recites his poem to her, later convincing her to go to a play with him. Neil wants to be an actor but knows his father  will disapprove. Without his father's knowledge, he auditions for the role of Puck in a production of A Midsummer Night's Dream. His father finds out and orders Neil to withdraw. Neil asks Keating for advice and is advised to talk to his father and make him understand how he feels, but Neil cannot muster the courage to do so. Instead he goes against his father's wishes. His father shows up at the end of the play, furious. He takes Neil home and tells him that he intends to enroll him in a military school to prepare him for Harvard University and a career in medicine. Unable to cope with the future that awaits him or to make his father understand his feelings, Neil commits suicide. At the request of Neil's parents, the headmaster launches an investigation. Cameron meets the school governors and board of regents. Later, confronted by Charlie, Cameron admits that he squealed on them and made Keating the scapegoat, and urges the rest of them to let Keating take the fall. Charlie punches Cameron and is later expelled. Todd is called to Nolan's office, where his parents are waiting. Nolan forces Todd to admit to being a member of the Dead Poets Society, and makes him sign a document blaming Keating for abusing his authority, inciting the boys to restart the club, and encouraging Neil to flout his father's wishes. Todd sees the other boys' signatures already on the document, and is threatened by his father to sign it. Keating is subsequently fired. The boys return to English class, now being taught by Nolan, who has the boys read the introductory essay only to find that they had all ripped it out. Keating enters the room to retrieve a few belongings. Todd reveals that the boys were intimidated into signing the denunciation. Nolan orders Todd to be quiet and demands that Keating leave. As Keating is about to exit, Todd for the first time breaks his reserve, calls out \"\"O Captain! My Captain!\"\" and stands on his desk. Nolan warns Todd to sit down or face expulsion. Much of the class, including Knox, Meeks, and Pitts, climb onto their desks and look to Keating, ignoring Nolan's orders until he gives up. Keating leaves visibly touched.\"\n",
    "positive_sentiment_example = \"Lola  attempts to gain her father's trust fund  by hiring a Hispanic husband, Bo , offering him $100,000 per year if he marries her. Bo accepts, and then departs from his Texas home and returns with Lola to her home in New Mexico. Lola finds out he is in fact Caucasian. Lola's best friend, Nina , and Bo's brother  join the trip, as does Bo's girlfriend, Nikki , and her clumsy friend, Dotty , in secret. When introduced to Bo, Lola's father, Victor , refuses to allow them to get married, until Bo convinces him by playing an antique guitar. In the mean time, Lola's ex-fiancé, Marco , and his secret girlfriend, Simona , who is also Lola's sister trying to keep her from having the inheritance, plot against Lola in order to gain the trust fund for themselves. Throughout the course of the story, Lola and Bo actually fall for each other. However, after Simona discovers Bo and Lola have a plot of their own, she uses Nikki to ruin the plot. However, before Nikki could do any damage, Victor and Bo get into an argument, which has both Lola and her father kick Bo out. In response, Lola's ex-fiancé is able to win back Lola's heart, but Lola only agrees for the money. Later that night, Nikki and Bo discover Simona and Marco's plot and are consequently held prisoner, so they may not warn anyone. However, Nikki's clumsy friend Dotty finds Nikki and Bo, frees them, and Bo is able to warn Lola. Still angry about the previous night, Lola kicks Bo out once more and proceeds to marry for the money. Fortunately for her, she trusts Bo's words and turns the tables on Simona and Marco, and also turns down the money from her father and departs, claiming that money ruined the family long before that day. She does not want the money if it means turning into a selfish and greedy person like her father.  At the end of the film, Bo is working as a bartender, where Lola manages to find him. They reconcile and show their love for each other once again, and they remain together and happy.\"\n",
    "neutral_sentiment_example = \"A group of journalists are investigating a highly secret document when they uncover a sensational story: that even before the Second World War, in 1938, the first rocket was made in the USSR and Soviet scientists were planning to send an orbiter to the moon and back. The evidence is convincing; it is clear that in this case, Soviet cosmonauts were first. The movie follows the selection and training of a small group of cosmonauts. The one who shines above the others  is Captain Ivan Sergeyevich Kharlamov . He is helped into a space suit and loaded into the capsule, and the rocket lifts off for the Moon—but contact with it is soon lost. Most of the remainder of the film seems to follow the search for information about what happened next, as the 1930s space program appears to have dissolved immediately after, with no reason given . It is implied that Kharlamov returned to Earth, but with no fanfare and apparently no assistance from the space program. A number of men are shown as suspected of being Kharlamov—the NKVD seems to be conducting a criminal investigation of the program and it is implied that those involved, including Kharlamov himself, are in hiding. It seems that the capsule returned to Earth and landed in Chile, and that Kharlamov journeyed to the Soviet Far East by way of Polynesia and China, yet feared capture on his return. His wife apparently covered for him when interrogated as to his whereabouts. The narrator never ties the story together coherently, however; the interviews and footage are shown without supporting commentary, in a narration style reminiscent of an actual documentary of the Soviet lunar program, The Red Stuff.http://movies.nytimes.com/movie/282742/The-Red-Stuff-The-True-Story-of-the-Russian-Race-for-Space/overview The very end of the movie shows the only footage of the mission itself after launch, explaining it as a film which was found at the Chilean landing site and is currently in the possession of \"\"the Natural museum in the town of Antafagasta\"\". First there is a brief clip showing Kharlamov piloting the vehicle, presumably on final approach to the Moon. Following that is an equally brief panorama of a lunar landscape with the capsule or lander  resting on the surface, apparently taken by Kharlamov during lunar EVA. Both scenes are shown as stills on the movie's cover. Then there is a short clip of the other cosmonauts walking through a hangar with the 1930s space program director, and the credits roll.\""
   ]
  },
  {
   "cell_type": "code",
   "execution_count": 177,
   "metadata": {
    "ExecuteTime": {
     "end_time": "2024-11-15T21:33:44.956273Z",
     "start_time": "2024-11-15T21:33:44.951090Z"
    }
   },
   "outputs": [],
   "source": [
    "### in future can improve by asking to provide the explanation for such answer\n",
    "t = f\"\"\"`Given the following examples, decide which sentiment could be assigned to the plot summary mentioned before:`:\n",
    "- **Negative Sentiment**: {negative_sentiment_example} - this sentiment refers to the movies with sad plot summaries, especially those with tragic endings.\n",
    "- **Positive Sentiment**: {positive_sentiment_example} - this sentiment refers to the movies with happy, cheerful and heart-warming plot summaries, especially those with joyful endings.\n",
    "- **Neutral Sentiment**: {neutral_sentiment_example} - this sentiment refers to the movies with plot summaries that are neither sad nor happy and resemble more a narrative style, especially those with ambiguous or open endings.\n",
    "Which sentiment could be assigned to the plot summary below based on the information above?`\n",
    "Self-Reflection:\n",
    "- **Review**: Once you have decided, review it for any possible oversights or errors. \n",
    "- **Confidence Check**: How confident are you in the validity of the solution or answer? Are there any assumptions that need further verification?\n",
    "- **Final Answer**: Provide the sentiment you have chosen and the rationale behind it in the following format:\n",
    "    `**Sentiment**: **explanation**`.\"\"\"\n"
   ]
  },
  {
   "cell_type": "code",
   "execution_count": null,
   "metadata": {
    "ExecuteTime": {
     "end_time": "2024-11-15T21:33:45.100681Z",
     "start_time": "2024-11-15T21:33:45.092265Z"
    }
   },
   "outputs": [],
   "source": [
    "def gpt4_json_query(prompt):\n",
    "    completion = gpt4_client.chat.completions.create(\n",
    "        messages=[\n",
    "            {\n",
    "                \"role\": \"user\",\n",
    "                \"content\": prompt,\n",
    "            }\n",
    "        ],\n",
    "        # model=\"gpt-4o-mini\",\n",
    "        model = \"gpt-4-turbo\",\n",
    "        response_format={\"type\": \"json_object\"},    \n",
    "    )\n",
    "    return json.loads(completion.choices[0].message.to_dict()['content'])\n",
    "\n",
    "def save_dict(d, path):\n",
    "    with open(path, 'wb') as f:\n",
    "        pkl.dump(d, f)\n",
    "\n",
    "def load_dict(path):\n",
    "    with open(path, 'rb') as f:\n",
    "        d = pkl.load(f)\n",
    "    return d"
   ]
  },
  {
   "cell_type": "code",
   "execution_count": null,
   "metadata": {
    "ExecuteTime": {
     "end_time": "2024-11-15T21:33:47.431117Z",
     "start_time": "2024-11-15T21:33:45.243626Z"
    }
   },
   "outputs": [],
   "source": [
    "path = CONFIG[\"data_path\"] / \"gpt4_sentiment_analysis.pkl\"\n",
    "smaples = df_just_summaries.sample(1)\n",
    "for i, row in smaples.iterrows():\n",
    "    summary = str(row['movie_summary'])\n",
    "    save_dict(gpt4_json_query(summary+t), path)\n"
   ]
  }
 ],
 "metadata": {
  "kernelspec": {
   "display_name": "ada",
   "language": "python",
   "name": "python3"
  },
  "language_info": {
   "codemirror_mode": {
    "name": "ipython",
    "version": 3
   },
   "file_extension": ".py",
   "mimetype": "text/x-python",
   "name": "python",
   "nbconvert_exporter": "python",
   "pygments_lexer": "ipython3",
   "version": "3.11.10"
  }
 },
 "nbformat": 4,
 "nbformat_minor": 2
}
